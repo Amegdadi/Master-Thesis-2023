{
 "cells": [
  {
   "cell_type": "code",
   "execution_count": 72,
   "metadata": {},
   "outputs": [
    {
     "name": "stdout",
     "output_type": "stream",
     "text": [
      "Requirement already satisfied: pip in c:\\users\\miqmi\\appdata\\local\\programs\\python\\python311\\lib\\site-packages (23.1.2)\n",
      "Note: you may need to restart the kernel to use updated packages.\n"
     ]
    }
   ],
   "source": [
    "pip install --upgrade pip\n"
   ]
  },
  {
   "cell_type": "code",
   "execution_count": 73,
   "metadata": {},
   "outputs": [
    {
     "name": "stdout",
     "output_type": "stream",
     "text": [
      "Requirement already satisfied: scikit-learn in c:\\users\\miqmi\\appdata\\local\\programs\\python\\python311\\lib\\site-packages (1.2.2)\n",
      "Requirement already satisfied: numpy>=1.17.3 in c:\\users\\miqmi\\appdata\\local\\programs\\python\\python311\\lib\\site-packages (from scikit-learn) (1.23.5)\n",
      "Requirement already satisfied: scipy>=1.3.2 in c:\\users\\miqmi\\appdata\\local\\programs\\python\\python311\\lib\\site-packages (from scikit-learn) (1.10.1)\n",
      "Requirement already satisfied: joblib>=1.1.1 in c:\\users\\miqmi\\appdata\\local\\programs\\python\\python311\\lib\\site-packages (from scikit-learn) (1.2.0)\n",
      "Requirement already satisfied: threadpoolctl>=2.0.0 in c:\\users\\miqmi\\appdata\\local\\programs\\python\\python311\\lib\\site-packages (from scikit-learn) (3.1.0)\n",
      "Note: you may need to restart the kernel to use updated packages.\n"
     ]
    }
   ],
   "source": [
    "\n",
    "pip install -U scikit-learn\n"
   ]
  },
  {
   "cell_type": "code",
   "execution_count": 74,
   "metadata": {},
   "outputs": [],
   "source": [
    "import numpy as np\n",
    "import pandas as pd\n",
    "import itertools\n",
    "from sklearn.model_selection import train_test_split\n",
    "from sklearn.feature_extraction.text import TfidfVectorizer\n",
    "from sklearn.linear_model import PassiveAggressiveClassifier\n",
    "from sklearn.metrics import accuracy_score, confusion_matrix \n",
    "import matplotlib.pyplot as plt\n",
    "from sklearn.model_selection import train_test_split\n",
    "from sklearn.feature_extraction.text import TfidfVectorizer, HashingVectorizer, CountVectorizer\n",
    "from sklearn.linear_model import PassiveAggressiveClassifier, LogisticRegression, SGDClassifier\n",
    "from sklearn.metrics import accuracy_score\n",
    "from mpl_toolkits.mplot3d import Axes3D\n",
    "from tensorflow.keras.models import Sequential\n",
    "from tensorflow.keras.layers import Dense, Embedding, Conv1D, GlobalMaxPooling1D, Dropout"
   ]
  },
  {
   "cell_type": "code",
   "execution_count": 75,
   "metadata": {},
   "outputs": [],
   "source": [
    "df1 = pd.read_csv('Fake news during normal times - 1.csv')\n",
    "df2 = pd.read_csv('Fake news during normal times - 2.csv')\n",
    "df3 = pd.read_csv('Fake news during normal times un-labeled - 3.csv')\n",
    "df4 = pd.read_csv('Syrian war fake news.csv',encoding='unicode_escape')\n",
    "df5 = pd.read_csv('Iraq war fake news.csv')\n",
    "df6 = pd.read_csv('afghanistan war unlabeled.csv',encoding='unicode_escape')\n",
    "df7 = pd.read_csv('Ukraine war unlabeled - 1.csv')\n",
    "df8 = pd.read_csv('Ukraine war unlabeled - 2.csv')"
   ]
  },
  {
   "cell_type": "code",
   "execution_count": 76,
   "metadata": {},
   "outputs": [
    {
     "data": {
      "text/plain": [
       "0    FAKE\n",
       "1    FAKE\n",
       "2    REAL\n",
       "3    FAKE\n",
       "4    REAL\n",
       "Name: label, dtype: object"
      ]
     },
     "execution_count": 76,
     "metadata": {},
     "output_type": "execute_result"
    }
   ],
   "source": [
    "labels1=df1.label\n",
    "labels1.head(5)"
   ]
  },
  {
   "cell_type": "code",
   "execution_count": 77,
   "metadata": {},
   "outputs": [
    {
     "data": {
      "text/plain": [
       "0    FAKE\n",
       "1    FAKE\n",
       "2    REAL\n",
       "3    FAKE\n",
       "4    REAL\n",
       "Name: label, dtype: object"
      ]
     },
     "execution_count": 77,
     "metadata": {},
     "output_type": "execute_result"
    }
   ],
   "source": [
    "labels2=df2.label\n",
    "labels2.head(5)"
   ]
  },
  {
   "cell_type": "code",
   "execution_count": 78,
   "metadata": {},
   "outputs": [
    {
     "data": {
      "text/plain": [
       "0    False\n",
       "1    False\n",
       "2    False\n",
       "3    False\n",
       "4    False\n",
       "Name: label, dtype: bool"
      ]
     },
     "execution_count": 78,
     "metadata": {},
     "output_type": "execute_result"
    }
   ],
   "source": [
    "labels4=df4.label\n",
    "labels4.head(5)"
   ]
  },
  {
   "cell_type": "code",
   "execution_count": 79,
   "metadata": {},
   "outputs": [
    {
     "data": {
      "text/plain": [
       "0    False\n",
       "1    False\n",
       "2    False\n",
       "3    False\n",
       "4    False\n",
       "Name: deception, dtype: bool"
      ]
     },
     "execution_count": 79,
     "metadata": {},
     "output_type": "execute_result"
    }
   ],
   "source": [
    "labels5=df5.deception\t\n",
    "labels5.head(5)"
   ]
  },
  {
   "cell_type": "code",
   "execution_count": 80,
   "metadata": {},
   "outputs": [
    {
     "data": {
      "text/plain": [
       "0    FAKE\n",
       "1    FAKE\n",
       "2    REAL\n",
       "3    FAKE\n",
       "4    REAL\n",
       "Name: label, dtype: object"
      ]
     },
     "execution_count": 80,
     "metadata": {},
     "output_type": "execute_result"
    }
   ],
   "source": [
    "x_train, x_test, y_train, y_test = train_test_split(df1['text'], df1['label'], test_size=0.2, random_state=7)\n",
    "x_train1, x_test1, y_train1, y_test1 = train_test_split(df4['article_content'], df4['label'], test_size=0.2, random_state=7)\n",
    "x_train2, x_test2, y_train2, y_test2 = train_test_split(df5['content'], df5['deception'], test_size=0.2, random_state=7)\n",
    "x_train4, x_test4, y_train4, y_test4 = train_test_split(df2['text'], df2['label'], test_size=0.2, random_state=7)\n",
    "\n",
    "labels4 = df4['label']\n",
    "labels4.head(5)\n",
    "labels5 = df5['deception']\n",
    "labels5.head(5)\n",
    "labels2 = df2['label']\n",
    "labels2.head(5)\n",
    "labels1 = df1['label']\n",
    "labels1.head(5)\n"
   ]
  },
  {
   "cell_type": "code",
   "execution_count": 81,
   "metadata": {},
   "outputs": [],
   "source": [
    "# Initialize vectorizers\n",
    "vectorizers = [\n",
    "    TfidfVectorizer(stop_words='english', max_df=0.7),\n",
    "    HashingVectorizer(stop_words='english'),\n",
    "    CountVectorizer(stop_words='english'),\n",
    "    # Add your additional vectorizer here\n",
    "]\n",
    "\n",
    "# Initialize classifiers\n",
    "classifiers = [\n",
    "    PassiveAggressiveClassifier(max_iter=50),\n",
    "    LogisticRegression(max_iter=1000),\n",
    "    SGDClassifier(),\n",
    "    # Add your additional classifier here\n",
    "]\n",
    "\n",
    "# Initialize deep learning models\n",
    "models = [\n",
    "    # Convolutional Neural Network (CNN)\n",
    "    Sequential([\n",
    "        Embedding(input_dim=10000, output_dim=64),\n",
    "        Conv1D(filters=64, kernel_size=3, padding='same', activation='relu'),\n",
    "        GlobalMaxPooling1D(),\n",
    "        Dense(64, activation='relu'),\n",
    "        Dropout(0.5),\n",
    "        Dense(1, activation='sigmoid')\n",
    "    ]),\n",
    "    # Deep Neural Network (DNN)\n",
    "    Sequential([\n",
    "        Dense(256, input_dim=10000, activation='relu'),\n",
    "        Dropout(0.5),\n",
    "        Dense(128, activation='relu'),\n",
    "        Dropout(0.5),\n",
    "        Dense(64, activation='relu'),\n",
    "        Dropout(0.5),\n",
    "        Dense(1, activation='sigmoid')\n",
    "    ])\n",
    "]\n",
    "\n",
    "# Define dataset names and accuracy results list\n",
    "datasets = [\n",
    "    (x_train, y_train, x_test, y_test, 'Fake news during normal times - 1 Dataset'), \n",
    "    (x_train1, y_train1, x_test1, y_test1, 'Syrian war fake news Dataset'), \n",
    "    (x_train2, y_train2, x_test2, y_test2, 'Iraq war fake news Dataset'),\n",
    "    (x_train4, y_train4, x_test4, y_test4, 'Fake news during normal times - 2 Dataset')\n",
    "]\n",
    "\n",
    "results = []\n"
   ]
  },
  {
   "cell_type": "code",
   "execution_count": 82,
   "metadata": {},
   "outputs": [
    {
     "name": "stderr",
     "output_type": "stream",
     "text": [
      "c:\\Users\\miqmi\\AppData\\Local\\Programs\\Python\\Python311\\Lib\\site-packages\\sklearn\\linear_model\\_stochastic_gradient.py:702: ConvergenceWarning:\n",
      "\n",
      "Maximum number of iteration reached before convergence. Consider increasing max_iter to improve the fit.\n",
      "\n"
     ]
    }
   ],
   "source": [
    "\n",
    "# Iterate over vectorizers, classifiers, models, and datasets\n",
    "for vectorizer in vectorizers:\n",
    "    for classifier in classifiers:\n",
    "        for model in models:\n",
    "            for data in datasets:\n",
    "                x_train, y_train, x_test, y_test, dataset_name = data\n",
    "\n",
    "                X_train = vectorizer.fit_transform(x_train)\n",
    "                X_test = vectorizer.transform(x_test)\n",
    "\n",
    "                clf_name = type(classifier).__name__\n",
    "                vectorizer_name = type(vectorizer).__name__\n",
    "                model_name = type(model).__name__\n",
    "                if 'Neural' in model_name:\n",
    "                    X_train = X_train.toarray()\n",
    "                    X_test = X_test.toarray()\n",
    "\n",
    "                    model.compile(loss='binary_crossentropy', optimizer='adam', metrics=['accuracy'])\n",
    "                    model.fit(X_train, y_train, epochs=5, batch_size=64, verbose=0)\n",
    "                    y_pred = model.predict(X_test)\n",
    "                    y_pred = np.round(y_pred).astype(int)\n",
    "                else:\n",
    "                    classifier.fit(X_train, y_train)\n",
    "                    y_pred = classifier.predict(X_test)\n",
    "\n",
    "                accuracy = accuracy_score(y_test, y_pred)\n",
    "                results.append((vectorizer_name, clf_name, model_name, dataset_name, accuracy))\n",
    "                \n",
    "# Convert the results to a DataFrame\n",
    "results_df = pd.DataFrame(results, columns=['Vectorizer', 'Classifier', 'Model', 'Dataset', 'Accuracy'])\n",
    "\n",
    "# Map the vectorizer names\n",
    "vectorizer_names = {\n",
    "    'CountVectorizer': 'CV',\n",
    "    'TfidfVectorizer': 'TF-IDF',\n",
    "    'HashingVectorizer': 'Hashing'\n",
    "}\n",
    "\n",
    "# Map the classifier/model names\n",
    "classifier_names = {\n",
    "    'PassiveAggressiveClassifier': 'PAC',\n",
    "    'LogisticRegression': 'LR',\n",
    "    'SGDClassifier': 'SGD',\n",
    "    'Conv1D': '(CNN)',\n",
    "    'Sequential': '(DNN)'\n",
    "}\n",
    "\n",
    "# Create a new DataFrame with unique combinations of Vectorizer, Classifier/Model, and Accuracy\n",
    "unique_results = results_df.groupby(['Vectorizer', 'Classifier', 'Model', 'Dataset']).mean().reset_index()\n",
    "\n",
    "# Assign numeric labels to dataset names\n",
    "dataset_labels = {name: i for i, name in enumerate(unique_results['Dataset'].unique())}\n",
    "\n",
    "# Map the vectorizer names\n",
    "vectorizer_names = {\n",
    "    'CountVectorizer': 'CV',\n",
    "    'TfidfVectorizer': 'TF-IDF',\n",
    "    'HashingVectorizer': 'Hashing'\n",
    "}\n",
    "\n",
    "# Map the classifier/model names\n",
    "classifier_names = {\n",
    "    'PassiveAggressiveClassifier': 'PAC',\n",
    "    'LogisticRegression': 'LR',\n",
    "    'SGDClassifier': 'SGD',\n",
    "    'Conv1D': '(CNN)',\n",
    "    'Sequential': '(DNN)'\n",
    "}\n"
   ]
  },
  {
   "cell_type": "code",
   "execution_count": 83,
   "metadata": {},
   "outputs": [
    {
     "data": {
      "application/vnd.plotly.v1+json": {
       "config": {
        "plotlyServerURL": "https://plot.ly"
       },
       "data": [
        {
         "marker": {
          "color": [
           0,
           1,
           2,
           3,
           0,
           1,
           2,
           3,
           0,
           1,
           2,
           3,
           0,
           1,
           2,
           3,
           0,
           1,
           2,
           3,
           0,
           1,
           2,
           3,
           0,
           1,
           2,
           3,
           0,
           1,
           2,
           3,
           0,
           1,
           2,
           3
          ],
          "colorscale": [
           [
            0,
            "#440154"
           ],
           [
            0.1111111111111111,
            "#482878"
           ],
           [
            0.2222222222222222,
            "#3e4989"
           ],
           [
            0.3333333333333333,
            "#31688e"
           ],
           [
            0.4444444444444444,
            "#26828e"
           ],
           [
            0.5555555555555556,
            "#1f9e89"
           ],
           [
            0.6666666666666666,
            "#35b779"
           ],
           [
            0.7777777777777778,
            "#6ece58"
           ],
           [
            0.8888888888888888,
            "#b5de2b"
           ],
           [
            1,
            "#fde725"
           ]
          ],
          "opacity": 0.8,
          "size": 10
         },
         "mode": "markers",
         "type": "scatter3d",
         "x": [
          "LR",
          "LR",
          "LR",
          "LR",
          "PAC",
          "PAC",
          "PAC",
          "PAC",
          "SGD",
          "SGD",
          "SGD",
          "SGD",
          "LR",
          "LR",
          "LR",
          "LR",
          "PAC",
          "PAC",
          "PAC",
          "PAC",
          "SGD",
          "SGD",
          "SGD",
          "SGD",
          "LR",
          "LR",
          "LR",
          "LR",
          "PAC",
          "PAC",
          "PAC",
          "PAC",
          "SGD",
          "SGD",
          "SGD",
          "SGD"
         ],
         "y": [
          "CV",
          "CV",
          "CV",
          "CV",
          "CV",
          "CV",
          "CV",
          "CV",
          "CV",
          "CV",
          "CV",
          "CV",
          "Hashing",
          "Hashing",
          "Hashing",
          "Hashing",
          "Hashing",
          "Hashing",
          "Hashing",
          "Hashing",
          "Hashing",
          "Hashing",
          "Hashing",
          "Hashing",
          "TF-IDF",
          "TF-IDF",
          "TF-IDF",
          "TF-IDF",
          "TF-IDF",
          "TF-IDF",
          "TF-IDF",
          "TF-IDF",
          "TF-IDF",
          "TF-IDF",
          "TF-IDF",
          "TF-IDF"
         ],
         "z": [
          0.914759273875296,
          0.914759273875296,
          0.9959839357429718,
          0.484472049689441,
          0.9088397790055249,
          0.9052880820836622,
          0.9417670682730923,
          0.45962732919254656,
          0.9108129439621153,
          0.9076558800315706,
          0.9678714859437751,
          0.5124223602484472,
          0.909234411996843,
          0.909234411996843,
          0.9919678714859438,
          0.5031055900621118,
          0.919889502762431,
          0.9210734017363852,
          0.9759036144578312,
          0.515527950310559,
          0.9210734017363851,
          0.9210734017363851,
          0.9919678714859437,
          0.4813664596273292,
          0.9171270718232044,
          0.9171270718232044,
          0.9678714859437751,
          0.515527950310559,
          0.9289660615627466,
          0.9277821625887924,
          0.9718875502008032,
          0.4751552795031056,
          0.930544593528019,
          0.9289660615627466,
          0.9919678714859438,
          0.484472049689441
         ]
        }
       ],
       "layout": {
        "scene": {
         "annotations": [
          {
           "font": {
            "size": 12
           },
           "showarrow": false,
           "text": "",
           "x": "LR",
           "xanchor": "center",
           "y": "CV",
           "yanchor": "bottom",
           "z": 0.914759273875296
          },
          {
           "font": {
            "size": 12
           },
           "showarrow": false,
           "text": "",
           "x": "LR",
           "xanchor": "center",
           "y": "CV",
           "yanchor": "bottom",
           "z": 0.914759273875296
          },
          {
           "font": {
            "size": 12
           },
           "showarrow": false,
           "text": "",
           "x": "LR",
           "xanchor": "center",
           "y": "CV",
           "yanchor": "bottom",
           "z": 0.9959839357429718
          },
          {
           "font": {
            "size": 12
           },
           "showarrow": false,
           "text": "",
           "x": "LR",
           "xanchor": "center",
           "y": "CV",
           "yanchor": "bottom",
           "z": 0.484472049689441
          },
          {
           "font": {
            "size": 12
           },
           "showarrow": false,
           "text": "",
           "x": "PAC",
           "xanchor": "center",
           "y": "CV",
           "yanchor": "bottom",
           "z": 0.9088397790055249
          },
          {
           "font": {
            "size": 12
           },
           "showarrow": false,
           "text": "",
           "x": "PAC",
           "xanchor": "center",
           "y": "CV",
           "yanchor": "bottom",
           "z": 0.9052880820836622
          },
          {
           "font": {
            "size": 12
           },
           "showarrow": false,
           "text": "",
           "x": "PAC",
           "xanchor": "center",
           "y": "CV",
           "yanchor": "bottom",
           "z": 0.9417670682730923
          },
          {
           "font": {
            "size": 12
           },
           "showarrow": false,
           "text": "",
           "x": "PAC",
           "xanchor": "center",
           "y": "CV",
           "yanchor": "bottom",
           "z": 0.45962732919254656
          },
          {
           "font": {
            "size": 12
           },
           "showarrow": false,
           "text": "",
           "x": "SGD",
           "xanchor": "center",
           "y": "CV",
           "yanchor": "bottom",
           "z": 0.9108129439621153
          },
          {
           "font": {
            "size": 12
           },
           "showarrow": false,
           "text": "",
           "x": "SGD",
           "xanchor": "center",
           "y": "CV",
           "yanchor": "bottom",
           "z": 0.9076558800315706
          },
          {
           "font": {
            "size": 12
           },
           "showarrow": false,
           "text": "",
           "x": "SGD",
           "xanchor": "center",
           "y": "CV",
           "yanchor": "bottom",
           "z": 0.9678714859437751
          },
          {
           "font": {
            "size": 12
           },
           "showarrow": false,
           "text": "",
           "x": "SGD",
           "xanchor": "center",
           "y": "CV",
           "yanchor": "bottom",
           "z": 0.5124223602484472
          },
          {
           "font": {
            "size": 12
           },
           "showarrow": false,
           "text": "",
           "x": "LR",
           "xanchor": "center",
           "y": "Hashing",
           "yanchor": "bottom",
           "z": 0.909234411996843
          },
          {
           "font": {
            "size": 12
           },
           "showarrow": false,
           "text": "",
           "x": "LR",
           "xanchor": "center",
           "y": "Hashing",
           "yanchor": "bottom",
           "z": 0.909234411996843
          },
          {
           "font": {
            "size": 12
           },
           "showarrow": false,
           "text": "",
           "x": "LR",
           "xanchor": "center",
           "y": "Hashing",
           "yanchor": "bottom",
           "z": 0.9919678714859438
          },
          {
           "font": {
            "size": 12
           },
           "showarrow": false,
           "text": "",
           "x": "LR",
           "xanchor": "center",
           "y": "Hashing",
           "yanchor": "bottom",
           "z": 0.5031055900621118
          },
          {
           "font": {
            "size": 12
           },
           "showarrow": false,
           "text": "",
           "x": "PAC",
           "xanchor": "center",
           "y": "Hashing",
           "yanchor": "bottom",
           "z": 0.919889502762431
          },
          {
           "font": {
            "size": 12
           },
           "showarrow": false,
           "text": "",
           "x": "PAC",
           "xanchor": "center",
           "y": "Hashing",
           "yanchor": "bottom",
           "z": 0.9210734017363852
          },
          {
           "font": {
            "size": 12
           },
           "showarrow": false,
           "text": "",
           "x": "PAC",
           "xanchor": "center",
           "y": "Hashing",
           "yanchor": "bottom",
           "z": 0.9759036144578312
          },
          {
           "font": {
            "size": 12
           },
           "showarrow": false,
           "text": "",
           "x": "PAC",
           "xanchor": "center",
           "y": "Hashing",
           "yanchor": "bottom",
           "z": 0.515527950310559
          },
          {
           "font": {
            "size": 12
           },
           "showarrow": false,
           "text": "",
           "x": "SGD",
           "xanchor": "center",
           "y": "Hashing",
           "yanchor": "bottom",
           "z": 0.9210734017363851
          },
          {
           "font": {
            "size": 12
           },
           "showarrow": false,
           "text": "",
           "x": "SGD",
           "xanchor": "center",
           "y": "Hashing",
           "yanchor": "bottom",
           "z": 0.9210734017363851
          },
          {
           "font": {
            "size": 12
           },
           "showarrow": false,
           "text": "",
           "x": "SGD",
           "xanchor": "center",
           "y": "Hashing",
           "yanchor": "bottom",
           "z": 0.9919678714859437
          },
          {
           "font": {
            "size": 12
           },
           "showarrow": false,
           "text": "",
           "x": "SGD",
           "xanchor": "center",
           "y": "Hashing",
           "yanchor": "bottom",
           "z": 0.4813664596273292
          },
          {
           "font": {
            "size": 12
           },
           "showarrow": false,
           "text": "",
           "x": "LR",
           "xanchor": "center",
           "y": "TF-IDF",
           "yanchor": "bottom",
           "z": 0.9171270718232044
          },
          {
           "font": {
            "size": 12
           },
           "showarrow": false,
           "text": "",
           "x": "LR",
           "xanchor": "center",
           "y": "TF-IDF",
           "yanchor": "bottom",
           "z": 0.9171270718232044
          },
          {
           "font": {
            "size": 12
           },
           "showarrow": false,
           "text": "",
           "x": "LR",
           "xanchor": "center",
           "y": "TF-IDF",
           "yanchor": "bottom",
           "z": 0.9678714859437751
          },
          {
           "font": {
            "size": 12
           },
           "showarrow": false,
           "text": "",
           "x": "LR",
           "xanchor": "center",
           "y": "TF-IDF",
           "yanchor": "bottom",
           "z": 0.515527950310559
          },
          {
           "font": {
            "size": 12
           },
           "showarrow": false,
           "text": "",
           "x": "PAC",
           "xanchor": "center",
           "y": "TF-IDF",
           "yanchor": "bottom",
           "z": 0.9289660615627466
          },
          {
           "font": {
            "size": 12
           },
           "showarrow": false,
           "text": "",
           "x": "PAC",
           "xanchor": "center",
           "y": "TF-IDF",
           "yanchor": "bottom",
           "z": 0.9277821625887924
          },
          {
           "font": {
            "size": 12
           },
           "showarrow": false,
           "text": "",
           "x": "PAC",
           "xanchor": "center",
           "y": "TF-IDF",
           "yanchor": "bottom",
           "z": 0.9718875502008032
          },
          {
           "font": {
            "size": 12
           },
           "showarrow": false,
           "text": "",
           "x": "PAC",
           "xanchor": "center",
           "y": "TF-IDF",
           "yanchor": "bottom",
           "z": 0.4751552795031056
          },
          {
           "font": {
            "size": 12
           },
           "showarrow": false,
           "text": "",
           "x": "SGD",
           "xanchor": "center",
           "y": "TF-IDF",
           "yanchor": "bottom",
           "z": 0.930544593528019
          },
          {
           "font": {
            "size": 12
           },
           "showarrow": false,
           "text": "",
           "x": "SGD",
           "xanchor": "center",
           "y": "TF-IDF",
           "yanchor": "bottom",
           "z": 0.9289660615627466
          },
          {
           "font": {
            "size": 12
           },
           "showarrow": false,
           "text": "",
           "x": "SGD",
           "xanchor": "center",
           "y": "TF-IDF",
           "yanchor": "bottom",
           "z": 0.9919678714859438
          },
          {
           "font": {
            "size": 12
           },
           "showarrow": false,
           "text": "",
           "x": "SGD",
           "xanchor": "center",
           "y": "TF-IDF",
           "yanchor": "bottom",
           "z": 0.484472049689441
          }
         ],
         "xaxis": {
          "title": {
           "text": "Classifier/Model"
          }
         },
         "yaxis": {
          "title": {
           "text": "Vectorizer"
          }
         },
         "zaxis": {
          "title": {
           "text": "Accuracy"
          }
         }
        },
        "template": {
         "data": {
          "bar": [
           {
            "error_x": {
             "color": "#2a3f5f"
            },
            "error_y": {
             "color": "#2a3f5f"
            },
            "marker": {
             "line": {
              "color": "#E5ECF6",
              "width": 0.5
             },
             "pattern": {
              "fillmode": "overlay",
              "size": 10,
              "solidity": 0.2
             }
            },
            "type": "bar"
           }
          ],
          "barpolar": [
           {
            "marker": {
             "line": {
              "color": "#E5ECF6",
              "width": 0.5
             },
             "pattern": {
              "fillmode": "overlay",
              "size": 10,
              "solidity": 0.2
             }
            },
            "type": "barpolar"
           }
          ],
          "carpet": [
           {
            "aaxis": {
             "endlinecolor": "#2a3f5f",
             "gridcolor": "white",
             "linecolor": "white",
             "minorgridcolor": "white",
             "startlinecolor": "#2a3f5f"
            },
            "baxis": {
             "endlinecolor": "#2a3f5f",
             "gridcolor": "white",
             "linecolor": "white",
             "minorgridcolor": "white",
             "startlinecolor": "#2a3f5f"
            },
            "type": "carpet"
           }
          ],
          "choropleth": [
           {
            "colorbar": {
             "outlinewidth": 0,
             "ticks": ""
            },
            "type": "choropleth"
           }
          ],
          "contour": [
           {
            "colorbar": {
             "outlinewidth": 0,
             "ticks": ""
            },
            "colorscale": [
             [
              0,
              "#0d0887"
             ],
             [
              0.1111111111111111,
              "#46039f"
             ],
             [
              0.2222222222222222,
              "#7201a8"
             ],
             [
              0.3333333333333333,
              "#9c179e"
             ],
             [
              0.4444444444444444,
              "#bd3786"
             ],
             [
              0.5555555555555556,
              "#d8576b"
             ],
             [
              0.6666666666666666,
              "#ed7953"
             ],
             [
              0.7777777777777778,
              "#fb9f3a"
             ],
             [
              0.8888888888888888,
              "#fdca26"
             ],
             [
              1,
              "#f0f921"
             ]
            ],
            "type": "contour"
           }
          ],
          "contourcarpet": [
           {
            "colorbar": {
             "outlinewidth": 0,
             "ticks": ""
            },
            "type": "contourcarpet"
           }
          ],
          "heatmap": [
           {
            "colorbar": {
             "outlinewidth": 0,
             "ticks": ""
            },
            "colorscale": [
             [
              0,
              "#0d0887"
             ],
             [
              0.1111111111111111,
              "#46039f"
             ],
             [
              0.2222222222222222,
              "#7201a8"
             ],
             [
              0.3333333333333333,
              "#9c179e"
             ],
             [
              0.4444444444444444,
              "#bd3786"
             ],
             [
              0.5555555555555556,
              "#d8576b"
             ],
             [
              0.6666666666666666,
              "#ed7953"
             ],
             [
              0.7777777777777778,
              "#fb9f3a"
             ],
             [
              0.8888888888888888,
              "#fdca26"
             ],
             [
              1,
              "#f0f921"
             ]
            ],
            "type": "heatmap"
           }
          ],
          "heatmapgl": [
           {
            "colorbar": {
             "outlinewidth": 0,
             "ticks": ""
            },
            "colorscale": [
             [
              0,
              "#0d0887"
             ],
             [
              0.1111111111111111,
              "#46039f"
             ],
             [
              0.2222222222222222,
              "#7201a8"
             ],
             [
              0.3333333333333333,
              "#9c179e"
             ],
             [
              0.4444444444444444,
              "#bd3786"
             ],
             [
              0.5555555555555556,
              "#d8576b"
             ],
             [
              0.6666666666666666,
              "#ed7953"
             ],
             [
              0.7777777777777778,
              "#fb9f3a"
             ],
             [
              0.8888888888888888,
              "#fdca26"
             ],
             [
              1,
              "#f0f921"
             ]
            ],
            "type": "heatmapgl"
           }
          ],
          "histogram": [
           {
            "marker": {
             "pattern": {
              "fillmode": "overlay",
              "size": 10,
              "solidity": 0.2
             }
            },
            "type": "histogram"
           }
          ],
          "histogram2d": [
           {
            "colorbar": {
             "outlinewidth": 0,
             "ticks": ""
            },
            "colorscale": [
             [
              0,
              "#0d0887"
             ],
             [
              0.1111111111111111,
              "#46039f"
             ],
             [
              0.2222222222222222,
              "#7201a8"
             ],
             [
              0.3333333333333333,
              "#9c179e"
             ],
             [
              0.4444444444444444,
              "#bd3786"
             ],
             [
              0.5555555555555556,
              "#d8576b"
             ],
             [
              0.6666666666666666,
              "#ed7953"
             ],
             [
              0.7777777777777778,
              "#fb9f3a"
             ],
             [
              0.8888888888888888,
              "#fdca26"
             ],
             [
              1,
              "#f0f921"
             ]
            ],
            "type": "histogram2d"
           }
          ],
          "histogram2dcontour": [
           {
            "colorbar": {
             "outlinewidth": 0,
             "ticks": ""
            },
            "colorscale": [
             [
              0,
              "#0d0887"
             ],
             [
              0.1111111111111111,
              "#46039f"
             ],
             [
              0.2222222222222222,
              "#7201a8"
             ],
             [
              0.3333333333333333,
              "#9c179e"
             ],
             [
              0.4444444444444444,
              "#bd3786"
             ],
             [
              0.5555555555555556,
              "#d8576b"
             ],
             [
              0.6666666666666666,
              "#ed7953"
             ],
             [
              0.7777777777777778,
              "#fb9f3a"
             ],
             [
              0.8888888888888888,
              "#fdca26"
             ],
             [
              1,
              "#f0f921"
             ]
            ],
            "type": "histogram2dcontour"
           }
          ],
          "mesh3d": [
           {
            "colorbar": {
             "outlinewidth": 0,
             "ticks": ""
            },
            "type": "mesh3d"
           }
          ],
          "parcoords": [
           {
            "line": {
             "colorbar": {
              "outlinewidth": 0,
              "ticks": ""
             }
            },
            "type": "parcoords"
           }
          ],
          "pie": [
           {
            "automargin": true,
            "type": "pie"
           }
          ],
          "scatter": [
           {
            "fillpattern": {
             "fillmode": "overlay",
             "size": 10,
             "solidity": 0.2
            },
            "type": "scatter"
           }
          ],
          "scatter3d": [
           {
            "line": {
             "colorbar": {
              "outlinewidth": 0,
              "ticks": ""
             }
            },
            "marker": {
             "colorbar": {
              "outlinewidth": 0,
              "ticks": ""
             }
            },
            "type": "scatter3d"
           }
          ],
          "scattercarpet": [
           {
            "marker": {
             "colorbar": {
              "outlinewidth": 0,
              "ticks": ""
             }
            },
            "type": "scattercarpet"
           }
          ],
          "scattergeo": [
           {
            "marker": {
             "colorbar": {
              "outlinewidth": 0,
              "ticks": ""
             }
            },
            "type": "scattergeo"
           }
          ],
          "scattergl": [
           {
            "marker": {
             "colorbar": {
              "outlinewidth": 0,
              "ticks": ""
             }
            },
            "type": "scattergl"
           }
          ],
          "scattermapbox": [
           {
            "marker": {
             "colorbar": {
              "outlinewidth": 0,
              "ticks": ""
             }
            },
            "type": "scattermapbox"
           }
          ],
          "scatterpolar": [
           {
            "marker": {
             "colorbar": {
              "outlinewidth": 0,
              "ticks": ""
             }
            },
            "type": "scatterpolar"
           }
          ],
          "scatterpolargl": [
           {
            "marker": {
             "colorbar": {
              "outlinewidth": 0,
              "ticks": ""
             }
            },
            "type": "scatterpolargl"
           }
          ],
          "scatterternary": [
           {
            "marker": {
             "colorbar": {
              "outlinewidth": 0,
              "ticks": ""
             }
            },
            "type": "scatterternary"
           }
          ],
          "surface": [
           {
            "colorbar": {
             "outlinewidth": 0,
             "ticks": ""
            },
            "colorscale": [
             [
              0,
              "#0d0887"
             ],
             [
              0.1111111111111111,
              "#46039f"
             ],
             [
              0.2222222222222222,
              "#7201a8"
             ],
             [
              0.3333333333333333,
              "#9c179e"
             ],
             [
              0.4444444444444444,
              "#bd3786"
             ],
             [
              0.5555555555555556,
              "#d8576b"
             ],
             [
              0.6666666666666666,
              "#ed7953"
             ],
             [
              0.7777777777777778,
              "#fb9f3a"
             ],
             [
              0.8888888888888888,
              "#fdca26"
             ],
             [
              1,
              "#f0f921"
             ]
            ],
            "type": "surface"
           }
          ],
          "table": [
           {
            "cells": {
             "fill": {
              "color": "#EBF0F8"
             },
             "line": {
              "color": "white"
             }
            },
            "header": {
             "fill": {
              "color": "#C8D4E3"
             },
             "line": {
              "color": "white"
             }
            },
            "type": "table"
           }
          ]
         },
         "layout": {
          "annotationdefaults": {
           "arrowcolor": "#2a3f5f",
           "arrowhead": 0,
           "arrowwidth": 1
          },
          "autotypenumbers": "strict",
          "coloraxis": {
           "colorbar": {
            "outlinewidth": 0,
            "ticks": ""
           }
          },
          "colorscale": {
           "diverging": [
            [
             0,
             "#8e0152"
            ],
            [
             0.1,
             "#c51b7d"
            ],
            [
             0.2,
             "#de77ae"
            ],
            [
             0.3,
             "#f1b6da"
            ],
            [
             0.4,
             "#fde0ef"
            ],
            [
             0.5,
             "#f7f7f7"
            ],
            [
             0.6,
             "#e6f5d0"
            ],
            [
             0.7,
             "#b8e186"
            ],
            [
             0.8,
             "#7fbc41"
            ],
            [
             0.9,
             "#4d9221"
            ],
            [
             1,
             "#276419"
            ]
           ],
           "sequential": [
            [
             0,
             "#0d0887"
            ],
            [
             0.1111111111111111,
             "#46039f"
            ],
            [
             0.2222222222222222,
             "#7201a8"
            ],
            [
             0.3333333333333333,
             "#9c179e"
            ],
            [
             0.4444444444444444,
             "#bd3786"
            ],
            [
             0.5555555555555556,
             "#d8576b"
            ],
            [
             0.6666666666666666,
             "#ed7953"
            ],
            [
             0.7777777777777778,
             "#fb9f3a"
            ],
            [
             0.8888888888888888,
             "#fdca26"
            ],
            [
             1,
             "#f0f921"
            ]
           ],
           "sequentialminus": [
            [
             0,
             "#0d0887"
            ],
            [
             0.1111111111111111,
             "#46039f"
            ],
            [
             0.2222222222222222,
             "#7201a8"
            ],
            [
             0.3333333333333333,
             "#9c179e"
            ],
            [
             0.4444444444444444,
             "#bd3786"
            ],
            [
             0.5555555555555556,
             "#d8576b"
            ],
            [
             0.6666666666666666,
             "#ed7953"
            ],
            [
             0.7777777777777778,
             "#fb9f3a"
            ],
            [
             0.8888888888888888,
             "#fdca26"
            ],
            [
             1,
             "#f0f921"
            ]
           ]
          },
          "colorway": [
           "#636efa",
           "#EF553B",
           "#00cc96",
           "#ab63fa",
           "#FFA15A",
           "#19d3f3",
           "#FF6692",
           "#B6E880",
           "#FF97FF",
           "#FECB52"
          ],
          "font": {
           "color": "#2a3f5f"
          },
          "geo": {
           "bgcolor": "white",
           "lakecolor": "white",
           "landcolor": "#E5ECF6",
           "showlakes": true,
           "showland": true,
           "subunitcolor": "white"
          },
          "hoverlabel": {
           "align": "left"
          },
          "hovermode": "closest",
          "mapbox": {
           "style": "light"
          },
          "paper_bgcolor": "white",
          "plot_bgcolor": "#E5ECF6",
          "polar": {
           "angularaxis": {
            "gridcolor": "white",
            "linecolor": "white",
            "ticks": ""
           },
           "bgcolor": "#E5ECF6",
           "radialaxis": {
            "gridcolor": "white",
            "linecolor": "white",
            "ticks": ""
           }
          },
          "scene": {
           "xaxis": {
            "backgroundcolor": "#E5ECF6",
            "gridcolor": "white",
            "gridwidth": 2,
            "linecolor": "white",
            "showbackground": true,
            "ticks": "",
            "zerolinecolor": "white"
           },
           "yaxis": {
            "backgroundcolor": "#E5ECF6",
            "gridcolor": "white",
            "gridwidth": 2,
            "linecolor": "white",
            "showbackground": true,
            "ticks": "",
            "zerolinecolor": "white"
           },
           "zaxis": {
            "backgroundcolor": "#E5ECF6",
            "gridcolor": "white",
            "gridwidth": 2,
            "linecolor": "white",
            "showbackground": true,
            "ticks": "",
            "zerolinecolor": "white"
           }
          },
          "shapedefaults": {
           "line": {
            "color": "#2a3f5f"
           }
          },
          "ternary": {
           "aaxis": {
            "gridcolor": "white",
            "linecolor": "white",
            "ticks": ""
           },
           "baxis": {
            "gridcolor": "white",
            "linecolor": "white",
            "ticks": ""
           },
           "bgcolor": "#E5ECF6",
           "caxis": {
            "gridcolor": "white",
            "linecolor": "white",
            "ticks": ""
           }
          },
          "title": {
           "x": 0.05
          },
          "xaxis": {
           "automargin": true,
           "gridcolor": "white",
           "linecolor": "white",
           "ticks": "",
           "title": {
            "standoff": 15
           },
           "zerolinecolor": "white",
           "zerolinewidth": 2
          },
          "yaxis": {
           "automargin": true,
           "gridcolor": "white",
           "linecolor": "white",
           "ticks": "",
           "title": {
            "standoff": 15
           },
           "zerolinecolor": "white",
           "zerolinewidth": 2
          }
         }
        },
        "title": {
         "text": "Accuracy Comparison for Different Classifiers/Models and Vectorizers"
        }
       }
      }
     },
     "metadata": {},
     "output_type": "display_data"
    },
    {
     "data": {
      "image/png": "[encoded data removed]",
      "text/plain": [
       "<Figure size 1000x800 with 2 Axes>"
      ]
     },
     "metadata": {},
     "output_type": "display_data"
    },
    {
     "data": {
      "image/png": "[encoded data removed]",
      "text/plain": [
       "<Figure size 1000x800 with 2 Axes>"
      ]
     },
     "metadata": {},
     "output_type": "display_data"
    },
    {
     "data": {
      "image/png": "[encoded data removed]",
      "text/plain": [
       "<Figure size 1000x800 with 2 Axes>"
      ]
     },
     "metadata": {},
     "output_type": "display_data"
    },
    {
     "data": {
      "image/png": "[encoded data removed]",
      "text/plain": [
       "<Figure size 1000x800 with 2 Axes>"
      ]
     },
     "metadata": {},
     "output_type": "display_data"
    },
    {
     "data": {
      "text/html": [
       "<div>\n",
       "<style scoped>\n",
       "    .dataframe tbody tr th:only-of-type {\n",
       "        vertical-align: middle;\n",
       "    }\n",
       "\n",
       "    .dataframe tbody tr th {\n",
       "        vertical-align: top;\n",
       "    }\n",
       "\n",
       "    .dataframe thead th {\n",
       "        text-align: right;\n",
       "    }\n",
       "</style>\n",
       "<table border=\"1\" class=\"dataframe\">\n",
       "  <thead>\n",
       "    <tr style=\"text-align: right;\">\n",
       "      <th></th>\n",
       "      <th>Vectorizer</th>\n",
       "      <th>Classifier</th>\n",
       "      <th>Model</th>\n",
       "      <th>Dataset</th>\n",
       "      <th>Accuracy</th>\n",
       "    </tr>\n",
       "  </thead>\n",
       "  <tbody>\n",
       "    <tr>\n",
       "      <th>20</th>\n",
       "      <td>TfidfVectorizer</td>\n",
       "      <td>SGDClassifier</td>\n",
       "      <td>Sequential</td>\n",
       "      <td>Fake news during normal times - 1 Dataset</td>\n",
       "      <td>0.931334</td>\n",
       "    </tr>\n",
       "    <tr>\n",
       "      <th>23</th>\n",
       "      <td>TfidfVectorizer</td>\n",
       "      <td>SGDClassifier</td>\n",
       "      <td>Sequential</td>\n",
       "      <td>Fake news during normal times - 2 Dataset</td>\n",
       "      <td>0.930545</td>\n",
       "    </tr>\n",
       "    <tr>\n",
       "      <th>46</th>\n",
       "      <td>HashingVectorizer</td>\n",
       "      <td>SGDClassifier</td>\n",
       "      <td>Sequential</td>\n",
       "      <td>Iraq war fake news Dataset</td>\n",
       "      <td>0.995984</td>\n",
       "    </tr>\n",
       "    <tr>\n",
       "      <th>9</th>\n",
       "      <td>TfidfVectorizer</td>\n",
       "      <td>LogisticRegression</td>\n",
       "      <td>Sequential</td>\n",
       "      <td>Syrian war fake news Dataset</td>\n",
       "      <td>0.515528</td>\n",
       "    </tr>\n",
       "  </tbody>\n",
       "</table>\n",
       "</div>"
      ],
      "text/plain": [
       "           Vectorizer          Classifier       Model   \n",
       "20    TfidfVectorizer       SGDClassifier  Sequential  \\\n",
       "23    TfidfVectorizer       SGDClassifier  Sequential   \n",
       "46  HashingVectorizer       SGDClassifier  Sequential   \n",
       "9     TfidfVectorizer  LogisticRegression  Sequential   \n",
       "\n",
       "                                      Dataset  Accuracy  \n",
       "20  Fake news during normal times - 1 Dataset  0.931334  \n",
       "23  Fake news during normal times - 2 Dataset  0.930545  \n",
       "46                 Iraq war fake news Dataset  0.995984  \n",
       "9                Syrian war fake news Dataset  0.515528  "
      ]
     },
     "execution_count": 83,
     "metadata": {},
     "output_type": "execute_result"
    }
   ],
   "source": [
    "\n",
    "\n",
    "# Create a scatter plot\n",
    "import plotly.graph_objects as go\n",
    "fig = go.Figure(data=go.Scatter3d(\n",
    "    x=unique_results['Classifier'].map(classifier_names),\n",
    "    y=unique_results['Vectorizer'].map(vectorizer_names),\n",
    "    z=unique_results['Accuracy'],\n",
    "    mode='markers',\n",
    "    marker=dict(\n",
    "        size=10,\n",
    "        color=unique_results['Dataset'].map(dataset_labels),\n",
    "        colorscale='Viridis',\n",
    "        opacity=0.8\n",
    "    )\n",
    "))\n",
    "\n",
    "# Set axis labels\n",
    "fig.update_layout(scene=dict(\n",
    "    xaxis=dict(title='Classifier/Model'),\n",
    "    yaxis=dict(title='Vectorizer'),\n",
    "    zaxis=dict(title='Accuracy'),\n",
    "))\n",
    "\n",
    "# Add labels to data points\n",
    "fig.update_layout(scene=dict(\n",
    "    annotations=[\n",
    "        dict(\n",
    "            x=unique_results['Classifier'].map(classifier_names)[i],\n",
    "            y=unique_results['Vectorizer'].map(vectorizer_names)[i],\n",
    "            z=unique_results['Accuracy'][i],\n",
    "            text=\"\",\n",
    "            showarrow=False,\n",
    "            font=dict(size=12),\n",
    "            xanchor='center',\n",
    "            yanchor='bottom'\n",
    "        ) for i in range(len(unique_results))\n",
    "    ]\n",
    "))\n",
    "\n",
    "# Set plot title\n",
    "fig.update_layout(title='Accuracy Comparison for Different Classifiers/Models and Vectorizers')\n",
    "\n",
    "# Show the plot\n",
    "fig.show()\n",
    "import seaborn as sns \n",
    "\n",
    "# Get unique dataset names\n",
    "dataset_names = results_df['Dataset'].unique()\n",
    "\n",
    "# Iterate over dataset names\n",
    "for dataset_name in dataset_names:\n",
    "    # Filter results for the current dataset\n",
    "    dataset_results = results_df[results_df['Dataset'] == dataset_name]\n",
    "\n",
    "    # Pivot the dataset results\n",
    "    pivot_table = dataset_results.pivot_table(index='Vectorizer', columns='Classifier', values='Accuracy')\n",
    "\n",
    "    # Create a heatmap\n",
    "    plt.figure(figsize=(10, 8))\n",
    "    sns.heatmap(pivot_table, annot=True, cmap='YlGnBu')\n",
    "    plt.title(f'Accuracy Comparison: Vectorizer vs Classifier ({dataset_name})')\n",
    "    plt.xlabel('Classifier')\n",
    "    plt.ylabel('Vectorizer')\n",
    "    plt.show()\n",
    "import pandas as pd\n",
    "\n",
    "# Convert the results to a DataFrame\n",
    "results_df = pd.DataFrame(results, columns=['Vectorizer', 'Classifier', 'Model', 'Dataset', 'Accuracy'])\n",
    "\n",
    "# Group the results by 'Dataset' and find the row with the maximum accuracy for each group\n",
    "best_results = results_df.groupby('Dataset')['Accuracy'].idxmax()\n",
    "best_combinations = results_df.loc[best_results]\n",
    "\n",
    "# Display the best accuracy combinations for each dataset using the head() method\n",
    "best_combinations_head = best_combinations.head()\n",
    "best_combinations_head.head()\n"
   ]
  },
  {
   "cell_type": "code",
   "execution_count": 84,
   "metadata": {},
   "outputs": [
    {
     "data": {
      "application/vnd.plotly.v1+json": {
       "config": {
        "plotlyServerURL": "https://plot.ly"
       },
       "data": [
        {
         "marker": {
          "color": [
           0,
           1,
           2,
           3,
           0,
           1,
           2,
           3,
           0,
           1,
           2,
           3,
           0,
           1,
           2,
           3,
           0,
           1,
           2,
           3,
           0,
           1,
           2,
           3,
           0,
           1,
           2,
           3,
           0,
           1,
           2,
           3,
           0,
           1,
           2,
           3
          ],
          "colorscale": [
           [
            0,
            "#440154"
           ],
           [
            0.1111111111111111,
            "#482878"
           ],
           [
            0.2222222222222222,
            "#3e4989"
           ],
           [
            0.3333333333333333,
            "#31688e"
           ],
           [
            0.4444444444444444,
            "#26828e"
           ],
           [
            0.5555555555555556,
            "#1f9e89"
           ],
           [
            0.6666666666666666,
            "#35b779"
           ],
           [
            0.7777777777777778,
            "#6ece58"
           ],
           [
            0.8888888888888888,
            "#b5de2b"
           ],
           [
            1,
            "#fde725"
           ]
          ],
          "opacity": 0.8,
          "size": 10
         },
         "mode": "markers",
         "type": "scatter3d",
         "x": [
          "LR",
          "LR",
          "LR",
          "LR",
          "PAC",
          "PAC",
          "PAC",
          "PAC",
          "SGD",
          "SGD",
          "SGD",
          "SGD",
          "LR",
          "LR",
          "LR",
          "LR",
          "PAC",
          "PAC",
          "PAC",
          "PAC",
          "SGD",
          "SGD",
          "SGD",
          "SGD",
          "LR",
          "LR",
          "LR",
          "LR",
          "PAC",
          "PAC",
          "PAC",
          "PAC",
          "SGD",
          "SGD",
          "SGD",
          "SGD"
         ],
         "y": [
          "CV",
          "CV",
          "CV",
          "CV",
          "CV",
          "CV",
          "CV",
          "CV",
          "CV",
          "CV",
          "CV",
          "CV",
          "Hashing",
          "Hashing",
          "Hashing",
          "Hashing",
          "Hashing",
          "Hashing",
          "Hashing",
          "Hashing",
          "Hashing",
          "Hashing",
          "Hashing",
          "Hashing",
          "TF-IDF",
          "TF-IDF",
          "TF-IDF",
          "TF-IDF",
          "TF-IDF",
          "TF-IDF",
          "TF-IDF",
          "TF-IDF",
          "TF-IDF",
          "TF-IDF",
          "TF-IDF",
          "TF-IDF"
         ],
         "z": [
          0.914759273875296,
          0.914759273875296,
          0.9959839357429718,
          0.484472049689441,
          0.9088397790055249,
          0.9052880820836622,
          0.9417670682730923,
          0.45962732919254656,
          0.9108129439621153,
          0.9076558800315706,
          0.9678714859437751,
          0.5124223602484472,
          0.909234411996843,
          0.909234411996843,
          0.9919678714859438,
          0.5031055900621118,
          0.919889502762431,
          0.9210734017363852,
          0.9759036144578312,
          0.515527950310559,
          0.9210734017363851,
          0.9210734017363851,
          0.9919678714859437,
          0.4813664596273292,
          0.9171270718232044,
          0.9171270718232044,
          0.9678714859437751,
          0.515527950310559,
          0.9289660615627466,
          0.9277821625887924,
          0.9718875502008032,
          0.4751552795031056,
          0.930544593528019,
          0.9289660615627466,
          0.9919678714859438,
          0.484472049689441
         ]
        }
       ],
       "layout": {
        "scene": {
         "annotations": [
          {
           "font": {
            "size": 12
           },
           "showarrow": false,
           "text": "",
           "x": "LR",
           "xanchor": "center",
           "y": "CV",
           "yanchor": "bottom",
           "z": 0.914759273875296
          },
          {
           "font": {
            "size": 12
           },
           "showarrow": false,
           "text": "",
           "x": "LR",
           "xanchor": "center",
           "y": "CV",
           "yanchor": "bottom",
           "z": 0.914759273875296
          },
          {
           "font": {
            "size": 12
           },
           "showarrow": false,
           "text": "",
           "x": "LR",
           "xanchor": "center",
           "y": "CV",
           "yanchor": "bottom",
           "z": 0.9959839357429718
          },
          {
           "font": {
            "size": 12
           },
           "showarrow": false,
           "text": "",
           "x": "LR",
           "xanchor": "center",
           "y": "CV",
           "yanchor": "bottom",
           "z": 0.484472049689441
          },
          {
           "font": {
            "size": 12
           },
           "showarrow": false,
           "text": "",
           "x": "PAC",
           "xanchor": "center",
           "y": "CV",
           "yanchor": "bottom",
           "z": 0.9088397790055249
          },
          {
           "font": {
            "size": 12
           },
           "showarrow": false,
           "text": "",
           "x": "PAC",
           "xanchor": "center",
           "y": "CV",
           "yanchor": "bottom",
           "z": 0.9052880820836622
          },
          {
           "font": {
            "size": 12
           },
           "showarrow": false,
           "text": "",
           "x": "PAC",
           "xanchor": "center",
           "y": "CV",
           "yanchor": "bottom",
           "z": 0.9417670682730923
          },
          {
           "font": {
            "size": 12
           },
           "showarrow": false,
           "text": "",
           "x": "PAC",
           "xanchor": "center",
           "y": "CV",
           "yanchor": "bottom",
           "z": 0.45962732919254656
          },
          {
           "font": {
            "size": 12
           },
           "showarrow": false,
           "text": "",
           "x": "SGD",
           "xanchor": "center",
           "y": "CV",
           "yanchor": "bottom",
           "z": 0.9108129439621153
          },
          {
           "font": {
            "size": 12
           },
           "showarrow": false,
           "text": "",
           "x": "SGD",
           "xanchor": "center",
           "y": "CV",
           "yanchor": "bottom",
           "z": 0.9076558800315706
          },
          {
           "font": {
            "size": 12
           },
           "showarrow": false,
           "text": "",
           "x": "SGD",
           "xanchor": "center",
           "y": "CV",
           "yanchor": "bottom",
           "z": 0.9678714859437751
          },
          {
           "font": {
            "size": 12
           },
           "showarrow": false,
           "text": "",
           "x": "SGD",
           "xanchor": "center",
           "y": "CV",
           "yanchor": "bottom",
           "z": 0.5124223602484472
          },
          {
           "font": {
            "size": 12
           },
           "showarrow": false,
           "text": "",
           "x": "LR",
           "xanchor": "center",
           "y": "Hashing",
           "yanchor": "bottom",
           "z": 0.909234411996843
          },
          {
           "font": {
            "size": 12
           },
           "showarrow": false,
           "text": "",
           "x": "LR",
           "xanchor": "center",
           "y": "Hashing",
           "yanchor": "bottom",
           "z": 0.909234411996843
          },
          {
           "font": {
            "size": 12
           },
           "showarrow": false,
           "text": "",
           "x": "LR",
           "xanchor": "center",
           "y": "Hashing",
           "yanchor": "bottom",
           "z": 0.9919678714859438
          },
          {
           "font": {
            "size": 12
           },
           "showarrow": false,
           "text": "",
           "x": "LR",
           "xanchor": "center",
           "y": "Hashing",
           "yanchor": "bottom",
           "z": 0.5031055900621118
          },
          {
           "font": {
            "size": 12
           },
           "showarrow": false,
           "text": "",
           "x": "PAC",
           "xanchor": "center",
           "y": "Hashing",
           "yanchor": "bottom",
           "z": 0.919889502762431
          },
          {
           "font": {
            "size": 12
           },
           "showarrow": false,
           "text": "",
           "x": "PAC",
           "xanchor": "center",
           "y": "Hashing",
           "yanchor": "bottom",
           "z": 0.9210734017363852
          },
          {
           "font": {
            "size": 12
           },
           "showarrow": false,
           "text": "",
           "x": "PAC",
           "xanchor": "center",
           "y": "Hashing",
           "yanchor": "bottom",
           "z": 0.9759036144578312
          },
          {
           "font": {
            "size": 12
           },
           "showarrow": false,
           "text": "",
           "x": "PAC",
           "xanchor": "center",
           "y": "Hashing",
           "yanchor": "bottom",
           "z": 0.515527950310559
          },
          {
           "font": {
            "size": 12
           },
           "showarrow": false,
           "text": "",
           "x": "SGD",
           "xanchor": "center",
           "y": "Hashing",
           "yanchor": "bottom",
           "z": 0.9210734017363851
          },
          {
           "font": {
            "size": 12
           },
           "showarrow": false,
           "text": "",
           "x": "SGD",
           "xanchor": "center",
           "y": "Hashing",
           "yanchor": "bottom",
           "z": 0.9210734017363851
          },
          {
           "font": {
            "size": 12
           },
           "showarrow": false,
           "text": "",
           "x": "SGD",
           "xanchor": "center",
           "y": "Hashing",
           "yanchor": "bottom",
           "z": 0.9919678714859437
          },
          {
           "font": {
            "size": 12
           },
           "showarrow": false,
           "text": "",
           "x": "SGD",
           "xanchor": "center",
           "y": "Hashing",
           "yanchor": "bottom",
           "z": 0.4813664596273292
          },
          {
           "font": {
            "size": 12
           },
           "showarrow": false,
           "text": "",
           "x": "LR",
           "xanchor": "center",
           "y": "TF-IDF",
           "yanchor": "bottom",
           "z": 0.9171270718232044
          },
          {
           "font": {
            "size": 12
           },
           "showarrow": false,
           "text": "",
           "x": "LR",
           "xanchor": "center",
           "y": "TF-IDF",
           "yanchor": "bottom",
           "z": 0.9171270718232044
          },
          {
           "font": {
            "size": 12
           },
           "showarrow": false,
           "text": "",
           "x": "LR",
           "xanchor": "center",
           "y": "TF-IDF",
           "yanchor": "bottom",
           "z": 0.9678714859437751
          },
          {
           "font": {
            "size": 12
           },
           "showarrow": false,
           "text": "",
           "x": "LR",
           "xanchor": "center",
           "y": "TF-IDF",
           "yanchor": "bottom",
           "z": 0.515527950310559
          },
          {
           "font": {
            "size": 12
           },
           "showarrow": false,
           "text": "",
           "x": "PAC",
           "xanchor": "center",
           "y": "TF-IDF",
           "yanchor": "bottom",
           "z": 0.9289660615627466
          },
          {
           "font": {
            "size": 12
           },
           "showarrow": false,
           "text": "",
           "x": "PAC",
           "xanchor": "center",
           "y": "TF-IDF",
           "yanchor": "bottom",
           "z": 0.9277821625887924
          },
          {
           "font": {
            "size": 12
           },
           "showarrow": false,
           "text": "",
           "x": "PAC",
           "xanchor": "center",
           "y": "TF-IDF",
           "yanchor": "bottom",
           "z": 0.9718875502008032
          },
          {
           "font": {
            "size": 12
           },
           "showarrow": false,
           "text": "",
           "x": "PAC",
           "xanchor": "center",
           "y": "TF-IDF",
           "yanchor": "bottom",
           "z": 0.4751552795031056
          },
          {
           "font": {
            "size": 12
           },
           "showarrow": false,
           "text": "",
           "x": "SGD",
           "xanchor": "center",
           "y": "TF-IDF",
           "yanchor": "bottom",
           "z": 0.930544593528019
          },
          {
           "font": {
            "size": 12
           },
           "showarrow": false,
           "text": "",
           "x": "SGD",
           "xanchor": "center",
           "y": "TF-IDF",
           "yanchor": "bottom",
           "z": 0.9289660615627466
          },
          {
           "font": {
            "size": 12
           },
           "showarrow": false,
           "text": "",
           "x": "SGD",
           "xanchor": "center",
           "y": "TF-IDF",
           "yanchor": "bottom",
           "z": 0.9919678714859438
          },
          {
           "font": {
            "size": 12
           },
           "showarrow": false,
           "text": "",
           "x": "SGD",
           "xanchor": "center",
           "y": "TF-IDF",
           "yanchor": "bottom",
           "z": 0.484472049689441
          }
         ],
         "xaxis": {
          "title": {
           "text": "Classifier/Model"
          }
         },
         "yaxis": {
          "title": {
           "text": "Vectorizer"
          }
         },
         "zaxis": {
          "title": {
           "text": "Accuracy"
          }
         }
        },
        "template": {
         "data": {
          "bar": [
           {
            "error_x": {
             "color": "#2a3f5f"
            },
            "error_y": {
             "color": "#2a3f5f"
            },
            "marker": {
             "line": {
              "color": "#E5ECF6",
              "width": 0.5
             },
             "pattern": {
              "fillmode": "overlay",
              "size": 10,
              "solidity": 0.2
             }
            },
            "type": "bar"
           }
          ],
          "barpolar": [
           {
            "marker": {
             "line": {
              "color": "#E5ECF6",
              "width": 0.5
             },
             "pattern": {
              "fillmode": "overlay",
              "size": 10,
              "solidity": 0.2
             }
            },
            "type": "barpolar"
           }
          ],
          "carpet": [
           {
            "aaxis": {
             "endlinecolor": "#2a3f5f",
             "gridcolor": "white",
             "linecolor": "white",
             "minorgridcolor": "white",
             "startlinecolor": "#2a3f5f"
            },
            "baxis": {
             "endlinecolor": "#2a3f5f",
             "gridcolor": "white",
             "linecolor": "white",
             "minorgridcolor": "white",
             "startlinecolor": "#2a3f5f"
            },
            "type": "carpet"
           }
          ],
          "choropleth": [
           {
            "colorbar": {
             "outlinewidth": 0,
             "ticks": ""
            },
            "type": "choropleth"
           }
          ],
          "contour": [
           {
            "colorbar": {
             "outlinewidth": 0,
             "ticks": ""
            },
            "colorscale": [
             [
              0,
              "#0d0887"
             ],
             [
              0.1111111111111111,
              "#46039f"
             ],
             [
              0.2222222222222222,
              "#7201a8"
             ],
             [
              0.3333333333333333,
              "#9c179e"
             ],
             [
              0.4444444444444444,
              "#bd3786"
             ],
             [
              0.5555555555555556,
              "#d8576b"
             ],
             [
              0.6666666666666666,
              "#ed7953"
             ],
             [
              0.7777777777777778,
              "#fb9f3a"
             ],
             [
              0.8888888888888888,
              "#fdca26"
             ],
             [
              1,
              "#f0f921"
             ]
            ],
            "type": "contour"
           }
          ],
          "contourcarpet": [
           {
            "colorbar": {
             "outlinewidth": 0,
             "ticks": ""
            },
            "type": "contourcarpet"
           }
          ],
          "heatmap": [
           {
            "colorbar": {
             "outlinewidth": 0,
             "ticks": ""
            },
            "colorscale": [
             [
              0,
              "#0d0887"
             ],
             [
              0.1111111111111111,
              "#46039f"
             ],
             [
              0.2222222222222222,
              "#7201a8"
             ],
             [
              0.3333333333333333,
              "#9c179e"
             ],
             [
              0.4444444444444444,
              "#bd3786"
             ],
             [
              0.5555555555555556,
              "#d8576b"
             ],
             [
              0.6666666666666666,
              "#ed7953"
             ],
             [
              0.7777777777777778,
              "#fb9f3a"
             ],
             [
              0.8888888888888888,
              "#fdca26"
             ],
             [
              1,
              "#f0f921"
             ]
            ],
            "type": "heatmap"
           }
          ],
          "heatmapgl": [
           {
            "colorbar": {
             "outlinewidth": 0,
             "ticks": ""
            },
            "colorscale": [
             [
              0,
              "#0d0887"
             ],
             [
              0.1111111111111111,
              "#46039f"
             ],
             [
              0.2222222222222222,
              "#7201a8"
             ],
             [
              0.3333333333333333,
              "#9c179e"
             ],
             [
              0.4444444444444444,
              "#bd3786"
             ],
             [
              0.5555555555555556,
              "#d8576b"
             ],
             [
              0.6666666666666666,
              "#ed7953"
             ],
             [
              0.7777777777777778,
              "#fb9f3a"
             ],
             [
              0.8888888888888888,
              "#fdca26"
             ],
             [
              1,
              "#f0f921"
             ]
            ],
            "type": "heatmapgl"
           }
          ],
          "histogram": [
           {
            "marker": {
             "pattern": {
              "fillmode": "overlay",
              "size": 10,
              "solidity": 0.2
             }
            },
            "type": "histogram"
           }
          ],
          "histogram2d": [
           {
            "colorbar": {
             "outlinewidth": 0,
             "ticks": ""
            },
            "colorscale": [
             [
              0,
              "#0d0887"
             ],
             [
              0.1111111111111111,
              "#46039f"
             ],
             [
              0.2222222222222222,
              "#7201a8"
             ],
             [
              0.3333333333333333,
              "#9c179e"
             ],
             [
              0.4444444444444444,
              "#bd3786"
             ],
             [
              0.5555555555555556,
              "#d8576b"
             ],
             [
              0.6666666666666666,
              "#ed7953"
             ],
             [
              0.7777777777777778,
              "#fb9f3a"
             ],
             [
              0.8888888888888888,
              "#fdca26"
             ],
             [
              1,
              "#f0f921"
             ]
            ],
            "type": "histogram2d"
           }
          ],
          "histogram2dcontour": [
           {
            "colorbar": {
             "outlinewidth": 0,
             "ticks": ""
            },
            "colorscale": [
             [
              0,
              "#0d0887"
             ],
             [
              0.1111111111111111,
              "#46039f"
             ],
             [
              0.2222222222222222,
              "#7201a8"
             ],
             [
              0.3333333333333333,
              "#9c179e"
             ],
             [
              0.4444444444444444,
              "#bd3786"
             ],
             [
              0.5555555555555556,
              "#d8576b"
             ],
             [
              0.6666666666666666,
              "#ed7953"
             ],
             [
              0.7777777777777778,
              "#fb9f3a"
             ],
             [
              0.8888888888888888,
              "#fdca26"
             ],
             [
              1,
              "#f0f921"
             ]
            ],
            "type": "histogram2dcontour"
           }
          ],
          "mesh3d": [
           {
            "colorbar": {
             "outlinewidth": 0,
             "ticks": ""
            },
            "type": "mesh3d"
           }
          ],
          "parcoords": [
           {
            "line": {
             "colorbar": {
              "outlinewidth": 0,
              "ticks": ""
             }
            },
            "type": "parcoords"
           }
          ],
          "pie": [
           {
            "automargin": true,
            "type": "pie"
           }
          ],
          "scatter": [
           {
            "fillpattern": {
             "fillmode": "overlay",
             "size": 10,
             "solidity": 0.2
            },
            "type": "scatter"
           }
          ],
          "scatter3d": [
           {
            "line": {
             "colorbar": {
              "outlinewidth": 0,
              "ticks": ""
             }
            },
            "marker": {
             "colorbar": {
              "outlinewidth": 0,
              "ticks": ""
             }
            },
            "type": "scatter3d"
           }
          ],
          "scattercarpet": [
           {
            "marker": {
             "colorbar": {
              "outlinewidth": 0,
              "ticks": ""
             }
            },
            "type": "scattercarpet"
           }
          ],
          "scattergeo": [
           {
            "marker": {
             "colorbar": {
              "outlinewidth": 0,
              "ticks": ""
             }
            },
            "type": "scattergeo"
           }
          ],
          "scattergl": [
           {
            "marker": {
             "colorbar": {
              "outlinewidth": 0,
              "ticks": ""
             }
            },
            "type": "scattergl"
           }
          ],
          "scattermapbox": [
           {
            "marker": {
             "colorbar": {
              "outlinewidth": 0,
              "ticks": ""
             }
            },
            "type": "scattermapbox"
           }
          ],
          "scatterpolar": [
           {
            "marker": {
             "colorbar": {
              "outlinewidth": 0,
              "ticks": ""
             }
            },
            "type": "scatterpolar"
           }
          ],
          "scatterpolargl": [
           {
            "marker": {
             "colorbar": {
              "outlinewidth": 0,
              "ticks": ""
             }
            },
            "type": "scatterpolargl"
           }
          ],
          "scatterternary": [
           {
            "marker": {
             "colorbar": {
              "outlinewidth": 0,
              "ticks": ""
             }
            },
            "type": "scatterternary"
           }
          ],
          "surface": [
           {
            "colorbar": {
             "outlinewidth": 0,
             "ticks": ""
            },
            "colorscale": [
             [
              0,
              "#0d0887"
             ],
             [
              0.1111111111111111,
              "#46039f"
             ],
             [
              0.2222222222222222,
              "#7201a8"
             ],
             [
              0.3333333333333333,
              "#9c179e"
             ],
             [
              0.4444444444444444,
              "#bd3786"
             ],
             [
              0.5555555555555556,
              "#d8576b"
             ],
             [
              0.6666666666666666,
              "#ed7953"
             ],
             [
              0.7777777777777778,
              "#fb9f3a"
             ],
             [
              0.8888888888888888,
              "#fdca26"
             ],
             [
              1,
              "#f0f921"
             ]
            ],
            "type": "surface"
           }
          ],
          "table": [
           {
            "cells": {
             "fill": {
              "color": "#EBF0F8"
             },
             "line": {
              "color": "white"
             }
            },
            "header": {
             "fill": {
              "color": "#C8D4E3"
             },
             "line": {
              "color": "white"
             }
            },
            "type": "table"
           }
          ]
         },
         "layout": {
          "annotationdefaults": {
           "arrowcolor": "#2a3f5f",
           "arrowhead": 0,
           "arrowwidth": 1
          },
          "autotypenumbers": "strict",
          "coloraxis": {
           "colorbar": {
            "outlinewidth": 0,
            "ticks": ""
           }
          },
          "colorscale": {
           "diverging": [
            [
             0,
             "#8e0152"
            ],
            [
             0.1,
             "#c51b7d"
            ],
            [
             0.2,
             "#de77ae"
            ],
            [
             0.3,
             "#f1b6da"
            ],
            [
             0.4,
             "#fde0ef"
            ],
            [
             0.5,
             "#f7f7f7"
            ],
            [
             0.6,
             "#e6f5d0"
            ],
            [
             0.7,
             "#b8e186"
            ],
            [
             0.8,
             "#7fbc41"
            ],
            [
             0.9,
             "#4d9221"
            ],
            [
             1,
             "#276419"
            ]
           ],
           "sequential": [
            [
             0,
             "#0d0887"
            ],
            [
             0.1111111111111111,
             "#46039f"
            ],
            [
             0.2222222222222222,
             "#7201a8"
            ],
            [
             0.3333333333333333,
             "#9c179e"
            ],
            [
             0.4444444444444444,
             "#bd3786"
            ],
            [
             0.5555555555555556,
             "#d8576b"
            ],
            [
             0.6666666666666666,
             "#ed7953"
            ],
            [
             0.7777777777777778,
             "#fb9f3a"
            ],
            [
             0.8888888888888888,
             "#fdca26"
            ],
            [
             1,
             "#f0f921"
            ]
           ],
           "sequentialminus": [
            [
             0,
             "#0d0887"
            ],
            [
             0.1111111111111111,
             "#46039f"
            ],
            [
             0.2222222222222222,
             "#7201a8"
            ],
            [
             0.3333333333333333,
             "#9c179e"
            ],
            [
             0.4444444444444444,
             "#bd3786"
            ],
            [
             0.5555555555555556,
             "#d8576b"
            ],
            [
             0.6666666666666666,
             "#ed7953"
            ],
            [
             0.7777777777777778,
             "#fb9f3a"
            ],
            [
             0.8888888888888888,
             "#fdca26"
            ],
            [
             1,
             "#f0f921"
            ]
           ]
          },
          "colorway": [
           "#636efa",
           "#EF553B",
           "#00cc96",
           "#ab63fa",
           "#FFA15A",
           "#19d3f3",
           "#FF6692",
           "#B6E880",
           "#FF97FF",
           "#FECB52"
          ],
          "font": {
           "color": "#2a3f5f"
          },
          "geo": {
           "bgcolor": "white",
           "lakecolor": "white",
           "landcolor": "#E5ECF6",
           "showlakes": true,
           "showland": true,
           "subunitcolor": "white"
          },
          "hoverlabel": {
           "align": "left"
          },
          "hovermode": "closest",
          "mapbox": {
           "style": "light"
          },
          "paper_bgcolor": "white",
          "plot_bgcolor": "#E5ECF6",
          "polar": {
           "angularaxis": {
            "gridcolor": "white",
            "linecolor": "white",
            "ticks": ""
           },
           "bgcolor": "#E5ECF6",
           "radialaxis": {
            "gridcolor": "white",
            "linecolor": "white",
            "ticks": ""
           }
          },
          "scene": {
           "xaxis": {
            "backgroundcolor": "#E5ECF6",
            "gridcolor": "white",
            "gridwidth": 2,
            "linecolor": "white",
            "showbackground": true,
            "ticks": "",
            "zerolinecolor": "white"
           },
           "yaxis": {
            "backgroundcolor": "#E5ECF6",
            "gridcolor": "white",
            "gridwidth": 2,
            "linecolor": "white",
            "showbackground": true,
            "ticks": "",
            "zerolinecolor": "white"
           },
           "zaxis": {
            "backgroundcolor": "#E5ECF6",
            "gridcolor": "white",
            "gridwidth": 2,
            "linecolor": "white",
            "showbackground": true,
            "ticks": "",
            "zerolinecolor": "white"
           }
          },
          "shapedefaults": {
           "line": {
            "color": "#2a3f5f"
           }
          },
          "ternary": {
           "aaxis": {
            "gridcolor": "white",
            "linecolor": "white",
            "ticks": ""
           },
           "baxis": {
            "gridcolor": "white",
            "linecolor": "white",
            "ticks": ""
           },
           "bgcolor": "#E5ECF6",
           "caxis": {
            "gridcolor": "white",
            "linecolor": "white",
            "ticks": ""
           }
          },
          "title": {
           "x": 0.05
          },
          "xaxis": {
           "automargin": true,
           "gridcolor": "white",
           "linecolor": "white",
           "ticks": "",
           "title": {
            "standoff": 15
           },
           "zerolinecolor": "white",
           "zerolinewidth": 2
          },
          "yaxis": {
           "automargin": true,
           "gridcolor": "white",
           "linecolor": "white",
           "ticks": "",
           "title": {
            "standoff": 15
           },
           "zerolinecolor": "white",
           "zerolinewidth": 2
          }
         }
        },
        "title": {
         "text": "Accuracy Comparison for Different Classifiers/Models and Vectorizers"
        }
       }
      }
     },
     "metadata": {},
     "output_type": "display_data"
    }
   ],
   "source": [
    "\n",
    "# Create a scatter plot\n",
    "import plotly.graph_objects as go\n",
    "fig = go.Figure(data=go.Scatter3d(\n",
    "    x=unique_results['Classifier'].map(classifier_names),\n",
    "    y=unique_results['Vectorizer'].map(vectorizer_names),\n",
    "    z=unique_results['Accuracy'],\n",
    "    mode='markers',\n",
    "    marker=dict(\n",
    "        size=10,\n",
    "        color=unique_results['Dataset'].map(dataset_labels),\n",
    "        colorscale='Viridis',\n",
    "        opacity=0.8\n",
    "    )\n",
    "))\n",
    "\n",
    "# Set axis labels\n",
    "fig.update_layout(scene=dict(\n",
    "    xaxis=dict(title='Classifier/Model'),\n",
    "    yaxis=dict(title='Vectorizer'),\n",
    "    zaxis=dict(title='Accuracy'),\n",
    "))\n",
    "\n",
    "# Add labels to data points\n",
    "fig.update_layout(scene=dict(\n",
    "    annotations=[\n",
    "        dict(\n",
    "            x=unique_results['Classifier'].map(classifier_names)[i],\n",
    "            y=unique_results['Vectorizer'].map(vectorizer_names)[i],\n",
    "            z=unique_results['Accuracy'][i],\n",
    "            text=\"\",\n",
    "            showarrow=False,\n",
    "            font=dict(size=12),\n",
    "            xanchor='center',\n",
    "            yanchor='bottom'\n",
    "        ) for i in range(len(unique_results))\n",
    "    ]\n",
    "))\n",
    "\n",
    "# Set plot title\n",
    "fig.update_layout(title='Accuracy Comparison for Different Classifiers/Models and Vectorizers')\n",
    "\n",
    "# Show the plot\n",
    "fig.show()\n"
   ]
  },
  {
   "cell_type": "code",
   "execution_count": 85,
   "metadata": {},
   "outputs": [
    {
     "data": {
      "image/png": "[encoded data removed]",
      "text/plain": [
       "<Figure size 1000x800 with 2 Axes>"
      ]
     },
     "metadata": {},
     "output_type": "display_data"
    },
    {
     "data": {
      "image/png": "[encoded data removed]",
      "text/plain": [
       "<Figure size 1000x800 with 2 Axes>"
      ]
     },
     "metadata": {},
     "output_type": "display_data"
    },
    {
     "data": {
      "image/png": "[encoded data removed]",
      "text/plain": [
       "<Figure size 1000x800 with 2 Axes>"
      ]
     },
     "metadata": {},
     "output_type": "display_data"
    },
    {
     "data": {
      "image/png": "[encoded data removed]",
      "text/plain": [
       "<Figure size 1000x800 with 2 Axes>"
      ]
     },
     "metadata": {},
     "output_type": "display_data"
    }
   ],
   "source": [
    "import seaborn as sns \n",
    "\n",
    "# Get unique dataset names\n",
    "dataset_names = results_df['Dataset'].unique()\n",
    "\n",
    "# Iterate over dataset names\n",
    "for dataset_name in dataset_names:\n",
    "    # Filter results for the current dataset\n",
    "    dataset_results = results_df[results_df['Dataset'] == dataset_name]\n",
    "\n",
    "    # Pivot the dataset results\n",
    "    pivot_table = dataset_results.pivot_table(index='Vectorizer', columns='Classifier', values='Accuracy')\n",
    "\n",
    "    # Create a heatmap\n",
    "    plt.figure(figsize=(10, 8))\n",
    "    sns.heatmap(pivot_table, annot=True, cmap='YlGnBu')\n",
    "    plt.title(f'Accuracy Comparison: Vectorizer vs Classifier ({dataset_name})')\n",
    "    plt.xlabel('Classifier')\n",
    "    plt.ylabel('Vectorizer')\n",
    "    plt.show()\n"
   ]
  },
  {
   "cell_type": "code",
   "execution_count": 86,
   "metadata": {},
   "outputs": [
    {
     "data": {
      "text/html": [
       "<div>\n",
       "<style scoped>\n",
       "    .dataframe tbody tr th:only-of-type {\n",
       "        vertical-align: middle;\n",
       "    }\n",
       "\n",
       "    .dataframe tbody tr th {\n",
       "        vertical-align: top;\n",
       "    }\n",
       "\n",
       "    .dataframe thead th {\n",
       "        text-align: right;\n",
       "    }\n",
       "</style>\n",
       "<table border=\"1\" class=\"dataframe\">\n",
       "  <thead>\n",
       "    <tr style=\"text-align: right;\">\n",
       "      <th></th>\n",
       "      <th>Vectorizer</th>\n",
       "      <th>Classifier</th>\n",
       "      <th>Model</th>\n",
       "      <th>Dataset</th>\n",
       "      <th>Accuracy</th>\n",
       "    </tr>\n",
       "  </thead>\n",
       "  <tbody>\n",
       "    <tr>\n",
       "      <th>20</th>\n",
       "      <td>TfidfVectorizer</td>\n",
       "      <td>SGDClassifier</td>\n",
       "      <td>Sequential</td>\n",
       "      <td>Fake news during normal times - 1 Dataset</td>\n",
       "      <td>0.931334</td>\n",
       "    </tr>\n",
       "    <tr>\n",
       "      <th>23</th>\n",
       "      <td>TfidfVectorizer</td>\n",
       "      <td>SGDClassifier</td>\n",
       "      <td>Sequential</td>\n",
       "      <td>Fake news during normal times - 2 Dataset</td>\n",
       "      <td>0.930545</td>\n",
       "    </tr>\n",
       "    <tr>\n",
       "      <th>46</th>\n",
       "      <td>HashingVectorizer</td>\n",
       "      <td>SGDClassifier</td>\n",
       "      <td>Sequential</td>\n",
       "      <td>Iraq war fake news Dataset</td>\n",
       "      <td>0.995984</td>\n",
       "    </tr>\n",
       "    <tr>\n",
       "      <th>9</th>\n",
       "      <td>TfidfVectorizer</td>\n",
       "      <td>LogisticRegression</td>\n",
       "      <td>Sequential</td>\n",
       "      <td>Syrian war fake news Dataset</td>\n",
       "      <td>0.515528</td>\n",
       "    </tr>\n",
       "  </tbody>\n",
       "</table>\n",
       "</div>"
      ],
      "text/plain": [
       "           Vectorizer          Classifier       Model   \n",
       "20    TfidfVectorizer       SGDClassifier  Sequential  \\\n",
       "23    TfidfVectorizer       SGDClassifier  Sequential   \n",
       "46  HashingVectorizer       SGDClassifier  Sequential   \n",
       "9     TfidfVectorizer  LogisticRegression  Sequential   \n",
       "\n",
       "                                      Dataset  Accuracy  \n",
       "20  Fake news during normal times - 1 Dataset  0.931334  \n",
       "23  Fake news during normal times - 2 Dataset  0.930545  \n",
       "46                 Iraq war fake news Dataset  0.995984  \n",
       "9                Syrian war fake news Dataset  0.515528  "
      ]
     },
     "execution_count": 86,
     "metadata": {},
     "output_type": "execute_result"
    }
   ],
   "source": [
    "import pandas as pd\n",
    "\n",
    "# Convert the results to a DataFrame\n",
    "results_df = pd.DataFrame(results, columns=['Vectorizer', 'Classifier', 'Model', 'Dataset', 'Accuracy'])\n",
    "\n",
    "# Group the results by 'Dataset' and find the row with the maximum accuracy for each group\n",
    "best_results = results_df.groupby('Dataset')['Accuracy'].idxmax()\n",
    "best_combinations = results_df.loc[best_results]\n",
    "\n",
    "# Display the best accuracy combinations for each dataset using the head() method\n",
    "best_combinations_head = best_combinations.head()\n",
    "best_combinations_head.head()\n"
   ]
  },
  {
   "cell_type": "code",
   "execution_count": 87,
   "metadata": {},
   "outputs": [
    {
     "name": "stdout",
     "output_type": "stream",
     "text": [
      "Average Results:\n",
      "                                      Dataset         Vectorizer  Accuracy\n",
      "0   Fake news during normal times - 1 Dataset    CountVectorizer  0.911471\n",
      "1   Fake news during normal times - 1 Dataset  HashingVectorizer  0.916732\n",
      "2   Fake news during normal times - 1 Dataset    TfidfVectorizer  0.925546\n",
      "3   Fake news during normal times - 2 Dataset    CountVectorizer  0.909234\n",
      "4   Fake news during normal times - 2 Dataset  HashingVectorizer  0.917127\n",
      "5   Fake news during normal times - 2 Dataset    TfidfVectorizer  0.924625\n",
      "6                  Iraq war fake news Dataset    CountVectorizer  0.968541\n",
      "7                  Iraq war fake news Dataset  HashingVectorizer  0.986613\n",
      "8                  Iraq war fake news Dataset    TfidfVectorizer  0.977242\n",
      "9                Syrian war fake news Dataset    CountVectorizer  0.485507\n",
      "10               Syrian war fake news Dataset  HashingVectorizer  0.500000\n",
      "11               Syrian war fake news Dataset    TfidfVectorizer  0.491718\n"
     ]
    },
    {
     "data": {
      "image/png": "[encoded data removed]",
      "text/plain": [
       "<Figure size 1000x600 with 1 Axes>"
      ]
     },
     "metadata": {},
     "output_type": "display_data"
    }
   ],
   "source": [
    "import pandas as pd\n",
    "import matplotlib.pyplot as plt\n",
    "\n",
    "# Convert the results to a DataFrame\n",
    "results_df = pd.DataFrame(results, columns=['Vectorizer', 'Classifier', 'Model', 'Dataset', 'Accuracy'])\n",
    "\n",
    "# Compute average accuracy by Dataset and Vectorizer\n",
    "average_results = results_df.groupby(['Dataset', 'Vectorizer'])['Accuracy'].mean().reset_index()\n",
    "\n",
    "# Print the average results table\n",
    "print(\"Average Results:\")\n",
    "print(average_results)\n",
    "\n",
    "# Visualize average accuracy by Dataset and Vectorizer\n",
    "fig, ax = plt.subplots(figsize=(10, 6))\n",
    "for dataset in average_results['Dataset'].unique():\n",
    "    dataset_results = average_results[average_results['Dataset'] == dataset]\n",
    "    ax.plot(dataset_results['Vectorizer'], dataset_results['Accuracy'], marker='o', label=dataset)\n",
    "\n",
    "ax.set_title('Average Accuracy by Dataset and Vectorizer')\n",
    "ax.set_xlabel('Vectorizer')\n",
    "ax.set_ylabel('Accuracy')\n",
    "ax.legend()\n",
    "plt.xticks(rotation=45)\n",
    "plt.show()\n",
    "\n"
   ]
  },
  {
   "cell_type": "code",
   "execution_count": 88,
   "metadata": {},
   "outputs": [
    {
     "name": "stdout",
     "output_type": "stream",
     "text": [
      "Average Results:\n",
      "                                      Dataset                   Classifier   \n",
      "0   Fake news during normal times - 1 Dataset           LogisticRegression  \\\n",
      "1   Fake news during normal times - 1 Dataset  PassiveAggressiveClassifier   \n",
      "2   Fake news during normal times - 1 Dataset                SGDClassifier   \n",
      "3   Fake news during normal times - 2 Dataset           LogisticRegression   \n",
      "4   Fake news during normal times - 2 Dataset  PassiveAggressiveClassifier   \n",
      "5   Fake news during normal times - 2 Dataset                SGDClassifier   \n",
      "6                  Iraq war fake news Dataset           LogisticRegression   \n",
      "7                  Iraq war fake news Dataset  PassiveAggressiveClassifier   \n",
      "8                  Iraq war fake news Dataset                SGDClassifier   \n",
      "9                Syrian war fake news Dataset           LogisticRegression   \n",
      "10               Syrian war fake news Dataset  PassiveAggressiveClassifier   \n",
      "11               Syrian war fake news Dataset                SGDClassifier   \n",
      "\n",
      "    Accuracy  \n",
      "0   0.913707  \n",
      "1   0.919232  \n",
      "2   0.920810  \n",
      "3   0.913707  \n",
      "4   0.918048  \n",
      "5   0.919232  \n",
      "6   0.985274  \n",
      "7   0.963186  \n",
      "8   0.983936  \n",
      "9   0.501035  \n",
      "10  0.483437  \n",
      "11  0.492754  \n"
     ]
    },
    {
     "data": {
      "image/png": "[encoded data removed]",
      "text/plain": [
       "<Figure size 1000x600 with 1 Axes>"
      ]
     },
     "metadata": {},
     "output_type": "display_data"
    }
   ],
   "source": [
    "import pandas as pd\n",
    "import matplotlib.pyplot as plt\n",
    "\n",
    "# Convert the results to a DataFrame\n",
    "results_df = pd.DataFrame(results, columns=['Vectorizer', 'Classifier', 'Model', 'Dataset', 'Accuracy'])\n",
    "\n",
    "# Compute average accuracy by Dataset and Classifier\n",
    "average_results = results_df.groupby(['Dataset', 'Classifier'])['Accuracy'].mean().reset_index()\n",
    "\n",
    "# Print the average results table\n",
    "print(\"Average Results:\")\n",
    "print(average_results)\n",
    "\n",
    "# Visualize average accuracy by Dataset and Classifier\n",
    "fig, ax = plt.subplots(figsize=(10, 6))\n",
    "for dataset in average_results['Dataset'].unique():\n",
    "    dataset_results = average_results[average_results['Dataset'] == dataset]\n",
    "    ax.plot(dataset_results['Classifier'], dataset_results['Accuracy'], marker='o', label=dataset)\n",
    "\n",
    "ax.set_title('Average Accuracy by Dataset and Classifier')\n",
    "ax.set_xlabel('Classifier')\n",
    "ax.set_ylabel('Accuracy')\n",
    "ax.legend()\n",
    "plt.xticks(rotation=45)\n",
    "plt.show()\n"
   ]
  },
  {
   "cell_type": "code",
   "execution_count": 89,
   "metadata": {},
   "outputs": [
    {
     "name": "stdout",
     "output_type": "stream",
     "text": [
      "Requirement already satisfied: plotly in c:\\users\\miqmi\\appdata\\local\\programs\\python\\python311\\lib\\site-packages (5.14.1)\n",
      "Requirement already satisfied: tenacity>=6.2.0 in c:\\users\\miqmi\\appdata\\local\\programs\\python\\python311\\lib\\site-packages (from plotly) (8.2.2)\n",
      "Requirement already satisfied: packaging in c:\\users\\miqmi\\appdata\\roaming\\python\\python311\\site-packages (from plotly) (23.1)\n"
     ]
    }
   ],
   "source": [
    "!pip install plotly\n",
    "\n"
   ]
  },
  {
   "cell_type": "code",
   "execution_count": 90,
   "metadata": {},
   "outputs": [
    {
     "name": "stdout",
     "output_type": "stream",
     "text": [
      "Requirement already satisfied: nbformat in c:\\users\\miqmi\\appdata\\local\\programs\\python\\python311\\lib\\site-packages (5.8.0)\n",
      "Requirement already satisfied: fastjsonschema in c:\\users\\miqmi\\appdata\\local\\programs\\python\\python311\\lib\\site-packages (from nbformat) (2.16.3)\n",
      "Requirement already satisfied: jsonschema>=2.6 in c:\\users\\miqmi\\appdata\\local\\programs\\python\\python311\\lib\\site-packages (from nbformat) (4.17.3)\n",
      "Requirement already satisfied: jupyter-core in c:\\users\\miqmi\\appdata\\roaming\\python\\python311\\site-packages (from nbformat) (5.3.0)\n",
      "Requirement already satisfied: traitlets>=5.1 in c:\\users\\miqmi\\appdata\\roaming\\python\\python311\\site-packages (from nbformat) (5.9.0)\n",
      "Requirement already satisfied: attrs>=17.4.0 in c:\\users\\miqmi\\appdata\\local\\programs\\python\\python311\\lib\\site-packages (from jsonschema>=2.6->nbformat) (23.1.0)\n",
      "Requirement already satisfied: pyrsistent!=0.17.0,!=0.17.1,!=0.17.2,>=0.14.0 in c:\\users\\miqmi\\appdata\\local\\programs\\python\\python311\\lib\\site-packages (from jsonschema>=2.6->nbformat) (0.19.3)\n",
      "Requirement already satisfied: platformdirs>=2.5 in c:\\users\\miqmi\\appdata\\roaming\\python\\python311\\site-packages (from jupyter-core->nbformat) (3.5.1)\n",
      "Requirement already satisfied: pywin32>=300 in c:\\users\\miqmi\\appdata\\roaming\\python\\python311\\site-packages (from jupyter-core->nbformat) (306)\n"
     ]
    }
   ],
   "source": [
    "!pip install nbformat\n"
   ]
  },
  {
   "cell_type": "code",
   "execution_count": 91,
   "metadata": {},
   "outputs": [
    {
     "name": "stdout",
     "output_type": "stream",
     "text": [
      "Requirement already satisfied: ipykernel in c:\\users\\miqmi\\appdata\\roaming\\python\\python311\\site-packages (6.23.0)\n",
      "Requirement already satisfied: comm>=0.1.1 in c:\\users\\miqmi\\appdata\\roaming\\python\\python311\\site-packages (from ipykernel) (0.1.3)\n",
      "Requirement already satisfied: debugpy>=1.6.5 in c:\\users\\miqmi\\appdata\\roaming\\python\\python311\\site-packages (from ipykernel) (1.6.7)\n",
      "Requirement already satisfied: ipython>=7.23.1 in c:\\users\\miqmi\\appdata\\roaming\\python\\python311\\site-packages (from ipykernel) (8.13.2)\n",
      "Requirement already satisfied: jupyter-client>=6.1.12 in c:\\users\\miqmi\\appdata\\roaming\\python\\python311\\site-packages (from ipykernel) (8.2.0)\n",
      "Requirement already satisfied: jupyter-core!=5.0.*,>=4.12 in c:\\users\\miqmi\\appdata\\roaming\\python\\python311\\site-packages (from ipykernel) (5.3.0)\n",
      "Requirement already satisfied: matplotlib-inline>=0.1 in c:\\users\\miqmi\\appdata\\roaming\\python\\python311\\site-packages (from ipykernel) (0.1.6)\n",
      "Requirement already satisfied: nest-asyncio in c:\\users\\miqmi\\appdata\\roaming\\python\\python311\\site-packages (from ipykernel) (1.5.6)\n",
      "Requirement already satisfied: packaging in c:\\users\\miqmi\\appdata\\roaming\\python\\python311\\site-packages (from ipykernel) (23.1)\n",
      "Requirement already satisfied: psutil in c:\\users\\miqmi\\appdata\\roaming\\python\\python311\\site-packages (from ipykernel) (5.9.5)\n",
      "Requirement already satisfied: pyzmq>=20 in c:\\users\\miqmi\\appdata\\roaming\\python\\python311\\site-packages (from ipykernel) (25.0.2)\n",
      "Requirement already satisfied: tornado>=6.1 in c:\\users\\miqmi\\appdata\\roaming\\python\\python311\\site-packages (from ipykernel) (6.3.2)\n",
      "Requirement already satisfied: traitlets>=5.4.0 in c:\\users\\miqmi\\appdata\\roaming\\python\\python311\\site-packages (from ipykernel) (5.9.0)\n",
      "Requirement already satisfied: backcall in c:\\users\\miqmi\\appdata\\roaming\\python\\python311\\site-packages (from ipython>=7.23.1->ipykernel) (0.2.0)\n",
      "Requirement already satisfied: decorator in c:\\users\\miqmi\\appdata\\roaming\\python\\python311\\site-packages (from ipython>=7.23.1->ipykernel) (5.1.1)\n",
      "Requirement already satisfied: jedi>=0.16 in c:\\users\\miqmi\\appdata\\roaming\\python\\python311\\site-packages (from ipython>=7.23.1->ipykernel) (0.18.2)\n",
      "Requirement already satisfied: pickleshare in c:\\users\\miqmi\\appdata\\roaming\\python\\python311\\site-packages (from ipython>=7.23.1->ipykernel) (0.7.5)\n",
      "Requirement already satisfied: prompt-toolkit!=3.0.37,<3.1.0,>=3.0.30 in c:\\users\\miqmi\\appdata\\roaming\\python\\python311\\site-packages (from ipython>=7.23.1->ipykernel) (3.0.38)\n",
      "Requirement already satisfied: pygments>=2.4.0 in c:\\users\\miqmi\\appdata\\roaming\\python\\python311\\site-packages (from ipython>=7.23.1->ipykernel) (2.15.1)\n",
      "Requirement already satisfied: stack-data in c:\\users\\miqmi\\appdata\\roaming\\python\\python311\\site-packages (from ipython>=7.23.1->ipykernel) (0.6.2)\n",
      "Requirement already satisfied: colorama in c:\\users\\miqmi\\appdata\\roaming\\python\\python311\\site-packages (from ipython>=7.23.1->ipykernel) (0.4.6)\n",
      "Requirement already satisfied: python-dateutil>=2.8.2 in c:\\users\\miqmi\\appdata\\roaming\\python\\python311\\site-packages (from jupyter-client>=6.1.12->ipykernel) (2.8.2)\n",
      "Requirement already satisfied: platformdirs>=2.5 in c:\\users\\miqmi\\appdata\\roaming\\python\\python311\\site-packages (from jupyter-core!=5.0.*,>=4.12->ipykernel) (3.5.1)\n",
      "Requirement already satisfied: pywin32>=300 in c:\\users\\miqmi\\appdata\\roaming\\python\\python311\\site-packages (from jupyter-core!=5.0.*,>=4.12->ipykernel) (306)\n",
      "Requirement already satisfied: parso<0.9.0,>=0.8.0 in c:\\users\\miqmi\\appdata\\roaming\\python\\python311\\site-packages (from jedi>=0.16->ipython>=7.23.1->ipykernel) (0.8.3)\n",
      "Requirement already satisfied: wcwidth in c:\\users\\miqmi\\appdata\\roaming\\python\\python311\\site-packages (from prompt-toolkit!=3.0.37,<3.1.0,>=3.0.30->ipython>=7.23.1->ipykernel) (0.2.6)\n",
      "Requirement already satisfied: six>=1.5 in c:\\users\\miqmi\\appdata\\roaming\\python\\python311\\site-packages (from python-dateutil>=2.8.2->jupyter-client>=6.1.12->ipykernel) (1.16.0)\n",
      "Requirement already satisfied: executing>=1.2.0 in c:\\users\\miqmi\\appdata\\roaming\\python\\python311\\site-packages (from stack-data->ipython>=7.23.1->ipykernel) (1.2.0)\n",
      "Requirement already satisfied: asttokens>=2.1.0 in c:\\users\\miqmi\\appdata\\roaming\\python\\python311\\site-packages (from stack-data->ipython>=7.23.1->ipykernel) (2.2.1)\n",
      "Requirement already satisfied: pure-eval in c:\\users\\miqmi\\appdata\\roaming\\python\\python311\\site-packages (from stack-data->ipython>=7.23.1->ipykernel) (0.2.2)\n",
      "Note: you may need to restart the kernel to use updated packages.\n"
     ]
    }
   ],
   "source": [
    "\n",
    "pip install ipykernel\n"
   ]
  },
  {
   "cell_type": "code",
   "execution_count": 92,
   "metadata": {},
   "outputs": [
    {
     "name": "stdout",
     "output_type": "stream",
     "text": [
      "Requirement already satisfied: nbformat in c:\\users\\miqmi\\appdata\\local\\programs\\python\\python311\\lib\\site-packages (5.8.0)Note: you may need to restart the kernel to use updated packages.\n",
      "\n",
      "Requirement already satisfied: fastjsonschema in c:\\users\\miqmi\\appdata\\local\\programs\\python\\python311\\lib\\site-packages (from nbformat) (2.16.3)\n",
      "Requirement already satisfied: jsonschema>=2.6 in c:\\users\\miqmi\\appdata\\local\\programs\\python\\python311\\lib\\site-packages (from nbformat) (4.17.3)\n",
      "Requirement already satisfied: jupyter-core in c:\\users\\miqmi\\appdata\\roaming\\python\\python311\\site-packages (from nbformat) (5.3.0)\n",
      "Requirement already satisfied: traitlets>=5.1 in c:\\users\\miqmi\\appdata\\roaming\\python\\python311\\site-packages (from nbformat) (5.9.0)\n",
      "Requirement already satisfied: attrs>=17.4.0 in c:\\users\\miqmi\\appdata\\local\\programs\\python\\python311\\lib\\site-packages (from jsonschema>=2.6->nbformat) (23.1.0)\n",
      "Requirement already satisfied: pyrsistent!=0.17.0,!=0.17.1,!=0.17.2,>=0.14.0 in c:\\users\\miqmi\\appdata\\local\\programs\\python\\python311\\lib\\site-packages (from jsonschema>=2.6->nbformat) (0.19.3)\n",
      "Requirement already satisfied: platformdirs>=2.5 in c:\\users\\miqmi\\appdata\\roaming\\python\\python311\\site-packages (from jupyter-core->nbformat) (3.5.1)\n",
      "Requirement already satisfied: pywin32>=300 in c:\\users\\miqmi\\appdata\\roaming\\python\\python311\\site-packages (from jupyter-core->nbformat) (306)\n"
     ]
    }
   ],
   "source": [
    "\n",
    "pip install --upgrade nbformat"
   ]
  },
  {
   "cell_type": "code",
   "execution_count": 93,
   "metadata": {},
   "outputs": [
    {
     "name": "stdout",
     "output_type": "stream",
     "text": [
      "Requirement already satisfied: transformers in c:\\users\\miqmi\\appdata\\local\\programs\\python\\python311\\lib\\site-packages (4.29.1)\n",
      "Requirement already satisfied: filelock in c:\\users\\miqmi\\appdata\\local\\programs\\python\\python311\\lib\\site-packages (from transformers) (3.12.0)\n",
      "Requirement already satisfied: huggingface-hub<1.0,>=0.14.1 in c:\\users\\miqmi\\appdata\\local\\programs\\python\\python311\\lib\\site-packages (from transformers) (0.14.1)\n",
      "Requirement already satisfied: numpy>=1.17 in c:\\users\\miqmi\\appdata\\local\\programs\\python\\python311\\lib\\site-packages (from transformers) (1.23.5)\n",
      "Requirement already satisfied: packaging>=20.0 in c:\\users\\miqmi\\appdata\\roaming\\python\\python311\\site-packages (from transformers) (23.1)\n",
      "Requirement already satisfied: pyyaml>=5.1 in c:\\users\\miqmi\\appdata\\local\\programs\\python\\python311\\lib\\site-packages (from transformers) (6.0)\n",
      "Requirement already satisfied: regex!=2019.12.17 in c:\\users\\miqmi\\appdata\\local\\programs\\python\\python311\\lib\\site-packages (from transformers) (2023.5.5)\n",
      "Requirement already satisfied: requests in c:\\users\\miqmi\\appdata\\local\\programs\\python\\python311\\lib\\site-packages (from transformers) (2.30.0)\n",
      "Requirement already satisfied: tokenizers!=0.11.3,<0.14,>=0.11.1 in c:\\users\\miqmi\\appdata\\local\\programs\\python\\python311\\lib\\site-packages (from transformers) (0.13.3)\n",
      "Requirement already satisfied: tqdm>=4.27 in c:\\users\\miqmi\\appdata\\local\\programs\\python\\python311\\lib\\site-packages (from transformers) (4.65.0)\n",
      "Requirement already satisfied: fsspec in c:\\users\\miqmi\\appdata\\local\\programs\\python\\python311\\lib\\site-packages (from huggingface-hub<1.0,>=0.14.1->transformers) (2023.5.0)\n",
      "Requirement already satisfied: typing-extensions>=3.7.4.3 in c:\\users\\miqmi\\appdata\\local\\programs\\python\\python311\\lib\\site-packages (from huggingface-hub<1.0,>=0.14.1->transformers) (4.5.0)\n",
      "Requirement already satisfied: colorama in c:\\users\\miqmi\\appdata\\roaming\\python\\python311\\site-packages (from tqdm>=4.27->transformers) (0.4.6)\n",
      "Requirement already satisfied: charset-normalizer<4,>=2 in c:\\users\\miqmi\\appdata\\local\\programs\\python\\python311\\lib\\site-packages (from requests->transformers) (3.1.0)\n",
      "Requirement already satisfied: idna<4,>=2.5 in c:\\users\\miqmi\\appdata\\local\\programs\\python\\python311\\lib\\site-packages (from requests->transformers) (2.10)\n",
      "Requirement already satisfied: urllib3<3,>=1.21.1 in c:\\users\\miqmi\\appdata\\local\\programs\\python\\python311\\lib\\site-packages (from requests->transformers) (1.26.15)\n",
      "Requirement already satisfied: certifi>=2017.4.17 in c:\\users\\miqmi\\appdata\\local\\programs\\python\\python311\\lib\\site-packages (from requests->transformers) (2023.5.7)\n",
      "Note: you may need to restart the kernel to use updated packages.\n"
     ]
    }
   ],
   "source": [
    "pip install transformers\n"
   ]
  },
  {
   "cell_type": "code",
   "execution_count": 94,
   "metadata": {},
   "outputs": [
    {
     "name": "stderr",
     "output_type": "stream",
     "text": [
      "c:\\Users\\miqmi\\AppData\\Local\\Programs\\Python\\Python311\\Lib\\site-packages\\sklearn\\linear_model\\_logistic.py:458: ConvergenceWarning:\n",
      "\n",
      "lbfgs failed to converge (status=1):\n",
      "STOP: TOTAL NO. of ITERATIONS REACHED LIMIT.\n",
      "\n",
      "Increase the number of iterations (max_iter) or scale the data as shown in:\n",
      "    https://scikit-learn.org/stable/modules/preprocessing.html\n",
      "Please also refer to the documentation for alternative solver options:\n",
      "    https://scikit-learn.org/stable/modules/linear_model.html#logistic-regression\n",
      "\n",
      "c:\\Users\\miqmi\\AppData\\Local\\Programs\\Python\\Python311\\Lib\\site-packages\\sklearn\\linear_model\\_logistic.py:458: ConvergenceWarning:\n",
      "\n",
      "lbfgs failed to converge (status=1):\n",
      "STOP: TOTAL NO. of ITERATIONS REACHED LIMIT.\n",
      "\n",
      "Increase the number of iterations (max_iter) or scale the data as shown in:\n",
      "    https://scikit-learn.org/stable/modules/preprocessing.html\n",
      "Please also refer to the documentation for alternative solver options:\n",
      "    https://scikit-learn.org/stable/modules/linear_model.html#logistic-regression\n",
      "\n",
      "c:\\Users\\miqmi\\AppData\\Local\\Programs\\Python\\Python311\\Lib\\site-packages\\sklearn\\linear_model\\_logistic.py:458: ConvergenceWarning:\n",
      "\n",
      "lbfgs failed to converge (status=1):\n",
      "STOP: TOTAL NO. of ITERATIONS REACHED LIMIT.\n",
      "\n",
      "Increase the number of iterations (max_iter) or scale the data as shown in:\n",
      "    https://scikit-learn.org/stable/modules/preprocessing.html\n",
      "Please also refer to the documentation for alternative solver options:\n",
      "    https://scikit-learn.org/stable/modules/linear_model.html#logistic-regression\n",
      "\n",
      "c:\\Users\\miqmi\\AppData\\Local\\Programs\\Python\\Python311\\Lib\\site-packages\\sklearn\\linear_model\\_logistic.py:458: ConvergenceWarning:\n",
      "\n",
      "lbfgs failed to converge (status=1):\n",
      "STOP: TOTAL NO. of ITERATIONS REACHED LIMIT.\n",
      "\n",
      "Increase the number of iterations (max_iter) or scale the data as shown in:\n",
      "    https://scikit-learn.org/stable/modules/preprocessing.html\n",
      "Please also refer to the documentation for alternative solver options:\n",
      "    https://scikit-learn.org/stable/modules/linear_model.html#logistic-regression\n",
      "\n"
     ]
    },
    {
     "name": "stdout",
     "output_type": "stream",
     "text": [
      "                              Dataset                   Classifier   \n",
      "0   Fake news during normal times - 1  PassiveAggressiveClassifier  \\\n",
      "1   Fake news during normal times - 1  PassiveAggressiveClassifier   \n",
      "2   Fake news during normal times - 1  PassiveAggressiveClassifier   \n",
      "3   Fake news during normal times - 1           LogisticRegression   \n",
      "4   Fake news during normal times - 1           LogisticRegression   \n",
      "5   Fake news during normal times - 1           LogisticRegression   \n",
      "6   Fake news during normal times - 1                SGDClassifier   \n",
      "7   Fake news during normal times - 1                SGDClassifier   \n",
      "8   Fake news during normal times - 1                SGDClassifier   \n",
      "9                Syrian war fake news  PassiveAggressiveClassifier   \n",
      "10               Syrian war fake news  PassiveAggressiveClassifier   \n",
      "11               Syrian war fake news  PassiveAggressiveClassifier   \n",
      "12               Syrian war fake news           LogisticRegression   \n",
      "13               Syrian war fake news           LogisticRegression   \n",
      "14               Syrian war fake news           LogisticRegression   \n",
      "15               Syrian war fake news                SGDClassifier   \n",
      "16               Syrian war fake news                SGDClassifier   \n",
      "17               Syrian war fake news                SGDClassifier   \n",
      "18                 Iraq war fake news  PassiveAggressiveClassifier   \n",
      "19                 Iraq war fake news  PassiveAggressiveClassifier   \n",
      "20                 Iraq war fake news  PassiveAggressiveClassifier   \n",
      "21                 Iraq war fake news           LogisticRegression   \n",
      "22                 Iraq war fake news           LogisticRegression   \n",
      "23                 Iraq war fake news           LogisticRegression   \n",
      "24                 Iraq war fake news                SGDClassifier   \n",
      "25                 Iraq war fake news                SGDClassifier   \n",
      "26                 Iraq war fake news                SGDClassifier   \n",
      "27  Fake news during normal times - 2  PassiveAggressiveClassifier   \n",
      "28  Fake news during normal times - 2  PassiveAggressiveClassifier   \n",
      "29  Fake news during normal times - 2  PassiveAggressiveClassifier   \n",
      "30  Fake news during normal times - 2           LogisticRegression   \n",
      "31  Fake news during normal times - 2           LogisticRegression   \n",
      "32  Fake news during normal times - 2           LogisticRegression   \n",
      "33  Fake news during normal times - 2                SGDClassifier   \n",
      "34  Fake news during normal times - 2                SGDClassifier   \n",
      "35  Fake news during normal times - 2                SGDClassifier   \n",
      "\n",
      "           Vectorizer  Accuracy  Precision    Recall  F1 Score   ROC AUC  \n",
      "0     TfidfVectorizer  0.928177   0.917702  0.939587  0.928515  0.928257  \n",
      "1     CountVectorizer  0.915549   0.900307  0.933227  0.916472  0.915673  \n",
      "2   HashingVectorizer  0.921073   0.915228  0.926868  0.921011  0.921114  \n",
      "3     TfidfVectorizer  0.915549   0.927869  0.899841  0.913640  0.915438  \n",
      "4     CountVectorizer  0.924230   0.921011  0.926868  0.923930  0.924249  \n",
      "5   HashingVectorizer  0.893449   0.893312  0.891892  0.892601  0.893438  \n",
      "6     TfidfVectorizer  0.930545   0.925984  0.934817  0.930380  0.930575  \n",
      "7     CountVectorizer  0.924230   0.922345  0.925278  0.923810  0.924238  \n",
      "8   HashingVectorizer  0.928966   0.927100  0.930048  0.928571  0.928974  \n",
      "9     TfidfVectorizer  0.490683   0.495146  0.629630  0.554348  0.489815  \n",
      "10    CountVectorizer  0.484472   0.486842  0.456790  0.471338  0.484645  \n",
      "11  HashingVectorizer  0.496894   0.500000  0.493827  0.496894  0.496914  \n",
      "12    TfidfVectorizer  0.490683   0.495495  0.679012  0.572917  0.489506  \n",
      "13    CountVectorizer  0.503106   0.505882  0.530864  0.518072  0.502932  \n",
      "14  HashingVectorizer  0.496894   0.500000  0.814815  0.619718  0.494907  \n",
      "15    TfidfVectorizer  0.472050   0.476190  0.493827  0.484848  0.471914  \n",
      "16    CountVectorizer  0.509317   0.512821  0.493827  0.503145  0.509414  \n",
      "17  HashingVectorizer  0.515528   0.514019  0.679012  0.585106  0.514506  \n",
      "18    TfidfVectorizer  0.963855   0.939130  0.981818  0.960000  0.965729  \n",
      "19    CountVectorizer  0.943775   0.936364  0.936364  0.936364  0.943002  \n",
      "20  HashingVectorizer  0.967871   0.963636  0.963636  0.963636  0.967430  \n",
      "21    TfidfVectorizer  0.927711   0.883333  0.963636  0.921739  0.931458  \n",
      "22    CountVectorizer  0.995984   1.000000  0.990909  0.995434  0.995455  \n",
      "23  HashingVectorizer  0.939759   0.905983  0.963636  0.933921  0.942250  \n",
      "24    TfidfVectorizer  0.991968   0.990909  0.990909  0.990909  0.991857  \n",
      "25    CountVectorizer  0.959839   0.962963  0.945455  0.954128  0.958339  \n",
      "26  HashingVectorizer  0.983936   1.000000  0.963636  0.981481  0.981818  \n",
      "27    TfidfVectorizer  0.925809   0.917317  0.934817  0.925984  0.925873  \n",
      "28    CountVectorizer  0.908445   0.888048  0.933227  0.910078  0.908620  \n",
      "29  HashingVectorizer  0.921073   0.915228  0.926868  0.921011  0.921114  \n",
      "30    TfidfVectorizer  0.915549   0.927869  0.899841  0.913640  0.915438  \n",
      "31    CountVectorizer  0.924230   0.921011  0.926868  0.923930  0.924249  \n",
      "32  HashingVectorizer  0.893449   0.893312  0.891892  0.892601  0.893438  \n",
      "33    TfidfVectorizer  0.928966   0.924409  0.933227  0.928797  0.928996  \n",
      "34    CountVectorizer  0.919495   0.901065  0.941176  0.920684  0.919648  \n",
      "35  HashingVectorizer  0.921863   0.894345  0.955485  0.923905  0.922100  \n"
     ]
    }
   ],
   "source": [
    "import numpy as np\n",
    "import pandas as pd\n",
    "from sklearn.model_selection import train_test_split, cross_val_score\n",
    "from sklearn.feature_extraction.text import TfidfVectorizer, CountVectorizer\n",
    "from sklearn.linear_model import PassiveAggressiveClassifier, LogisticRegression, SGDClassifier\n",
    "from sklearn.metrics import accuracy_score, precision_score, recall_score, f1_score, roc_auc_score\n",
    "from sklearn.pipeline import make_pipeline\n",
    "from sklearn.preprocessing import LabelEncoder\n",
    "\n",
    "# Convert string labels to binary integers\n",
    "label_encoder = LabelEncoder()\n",
    "df1['label'] = label_encoder.fit_transform(df1['label'])\n",
    "df4['label'] = label_encoder.fit_transform(df4['label'])\n",
    "df5['deception'] = label_encoder.fit_transform(df5['deception'])\n",
    "df2['label'] = label_encoder.fit_transform(df2['label'])\n",
    "\n",
    "# Define your datasets\n",
    "datasets = [\n",
    "    (df1['text'], df1['label'], 'Fake news during normal times - 1'),\n",
    "    (df4['article_content'], df4['label'], 'Syrian war fake news'),\n",
    "    (df5['content'], df5['deception'], 'Iraq war fake news'),\n",
    "    (df2['text'], df2['label'], 'Fake news during normal times - 2')\n",
    "]\n",
    "\n",
    "# Define your classifiers and vectorizers\n",
    "classifiers = [PassiveAggressiveClassifier(), LogisticRegression(), SGDClassifier()]\n",
    "vectorizers = [TfidfVectorizer(), CountVectorizer(),HashingVectorizer()]\n",
    "\n",
    "# Define the evaluation metrics you want to use\n",
    "metrics = {\n",
    "    'Accuracy': accuracy_score,\n",
    "    'Precision': precision_score,\n",
    "    'Recall': recall_score,\n",
    "    'F1 Score': f1_score,\n",
    "    'ROC AUC': roc_auc_score\n",
    "}\n",
    "\n",
    "# Perform train-test split and evaluate models\n",
    "results = []\n",
    "\n",
    "for dataset in datasets:\n",
    "    X, y, dataset_name = dataset\n",
    "    x_train, x_test, y_train, y_test = train_test_split(X, y, test_size=0.2, random_state=7)\n",
    "    \n",
    "    for classifier in classifiers:\n",
    "        for vectorizer in vectorizers:\n",
    "            pipeline = make_pipeline(vectorizer, classifier)\n",
    "            pipeline.fit(x_train, y_train)\n",
    "            y_pred = pipeline.predict(x_test)\n",
    "            \n",
    "            evaluation_scores = {}\n",
    "            for metric_name, metric_func in metrics.items():\n",
    "                if metric_name == 'Precision':\n",
    "                    score = metric_func(y_test, y_pred, pos_label=1)\n",
    "                else:\n",
    "                    score = metric_func(y_test, y_pred)\n",
    "                evaluation_scores[metric_name] = score\n",
    "            \n",
    "            results.append({\n",
    "                'Dataset': dataset_name,\n",
    "                'Classifier': classifier.__class__.__name__,\n",
    "                'Vectorizer': vectorizer.__class__.__name__,\n",
    "                **evaluation_scores\n",
    "            })\n",
    "\n",
    "# Convert the results to a DataFrame\n",
    "results_df = pd.DataFrame(results)\n",
    "\n",
    "# Print the results\n",
    "print(results_df)\n"
   ]
  },
  {
   "cell_type": "code",
   "execution_count": 95,
   "metadata": {},
   "outputs": [
    {
     "data": {
      "text/html": [
       "<div>\n",
       "<style scoped>\n",
       "    .dataframe tbody tr th:only-of-type {\n",
       "        vertical-align: middle;\n",
       "    }\n",
       "\n",
       "    .dataframe tbody tr th {\n",
       "        vertical-align: top;\n",
       "    }\n",
       "\n",
       "    .dataframe thead th {\n",
       "        text-align: right;\n",
       "    }\n",
       "</style>\n",
       "<table border=\"1\" class=\"dataframe\">\n",
       "  <thead>\n",
       "    <tr style=\"text-align: right;\">\n",
       "      <th></th>\n",
       "      <th>Dataset</th>\n",
       "      <th>Classifier</th>\n",
       "      <th>Vectorizer</th>\n",
       "      <th>Accuracy</th>\n",
       "      <th>Precision</th>\n",
       "      <th>Recall</th>\n",
       "      <th>F1 Score</th>\n",
       "      <th>ROC AUC</th>\n",
       "    </tr>\n",
       "  </thead>\n",
       "  <tbody>\n",
       "    <tr>\n",
       "      <th>0</th>\n",
       "      <td>Fake news during normal times - 1</td>\n",
       "      <td>PassiveAggressiveClassifier</td>\n",
       "      <td>TfidfVectorizer</td>\n",
       "      <td>0.928177</td>\n",
       "      <td>0.917702</td>\n",
       "      <td>0.939587</td>\n",
       "      <td>0.928515</td>\n",
       "      <td>0.928257</td>\n",
       "    </tr>\n",
       "    <tr>\n",
       "      <th>1</th>\n",
       "      <td>Fake news during normal times - 1</td>\n",
       "      <td>PassiveAggressiveClassifier</td>\n",
       "      <td>CountVectorizer</td>\n",
       "      <td>0.915549</td>\n",
       "      <td>0.900307</td>\n",
       "      <td>0.933227</td>\n",
       "      <td>0.916472</td>\n",
       "      <td>0.915673</td>\n",
       "    </tr>\n",
       "    <tr>\n",
       "      <th>2</th>\n",
       "      <td>Fake news during normal times - 1</td>\n",
       "      <td>PassiveAggressiveClassifier</td>\n",
       "      <td>HashingVectorizer</td>\n",
       "      <td>0.921073</td>\n",
       "      <td>0.915228</td>\n",
       "      <td>0.926868</td>\n",
       "      <td>0.921011</td>\n",
       "      <td>0.921114</td>\n",
       "    </tr>\n",
       "    <tr>\n",
       "      <th>3</th>\n",
       "      <td>Fake news during normal times - 1</td>\n",
       "      <td>LogisticRegression</td>\n",
       "      <td>TfidfVectorizer</td>\n",
       "      <td>0.915549</td>\n",
       "      <td>0.927869</td>\n",
       "      <td>0.899841</td>\n",
       "      <td>0.913640</td>\n",
       "      <td>0.915438</td>\n",
       "    </tr>\n",
       "    <tr>\n",
       "      <th>4</th>\n",
       "      <td>Fake news during normal times - 1</td>\n",
       "      <td>LogisticRegression</td>\n",
       "      <td>CountVectorizer</td>\n",
       "      <td>0.924230</td>\n",
       "      <td>0.921011</td>\n",
       "      <td>0.926868</td>\n",
       "      <td>0.923930</td>\n",
       "      <td>0.924249</td>\n",
       "    </tr>\n",
       "    <tr>\n",
       "      <th>5</th>\n",
       "      <td>Fake news during normal times - 1</td>\n",
       "      <td>LogisticRegression</td>\n",
       "      <td>HashingVectorizer</td>\n",
       "      <td>0.893449</td>\n",
       "      <td>0.893312</td>\n",
       "      <td>0.891892</td>\n",
       "      <td>0.892601</td>\n",
       "      <td>0.893438</td>\n",
       "    </tr>\n",
       "    <tr>\n",
       "      <th>6</th>\n",
       "      <td>Fake news during normal times - 1</td>\n",
       "      <td>SGDClassifier</td>\n",
       "      <td>TfidfVectorizer</td>\n",
       "      <td>0.930545</td>\n",
       "      <td>0.925984</td>\n",
       "      <td>0.934817</td>\n",
       "      <td>0.930380</td>\n",
       "      <td>0.930575</td>\n",
       "    </tr>\n",
       "    <tr>\n",
       "      <th>7</th>\n",
       "      <td>Fake news during normal times - 1</td>\n",
       "      <td>SGDClassifier</td>\n",
       "      <td>CountVectorizer</td>\n",
       "      <td>0.924230</td>\n",
       "      <td>0.922345</td>\n",
       "      <td>0.925278</td>\n",
       "      <td>0.923810</td>\n",
       "      <td>0.924238</td>\n",
       "    </tr>\n",
       "    <tr>\n",
       "      <th>8</th>\n",
       "      <td>Fake news during normal times - 1</td>\n",
       "      <td>SGDClassifier</td>\n",
       "      <td>HashingVectorizer</td>\n",
       "      <td>0.928966</td>\n",
       "      <td>0.927100</td>\n",
       "      <td>0.930048</td>\n",
       "      <td>0.928571</td>\n",
       "      <td>0.928974</td>\n",
       "    </tr>\n",
       "    <tr>\n",
       "      <th>9</th>\n",
       "      <td>Syrian war fake news</td>\n",
       "      <td>PassiveAggressiveClassifier</td>\n",
       "      <td>TfidfVectorizer</td>\n",
       "      <td>0.490683</td>\n",
       "      <td>0.495146</td>\n",
       "      <td>0.629630</td>\n",
       "      <td>0.554348</td>\n",
       "      <td>0.489815</td>\n",
       "    </tr>\n",
       "    <tr>\n",
       "      <th>10</th>\n",
       "      <td>Syrian war fake news</td>\n",
       "      <td>PassiveAggressiveClassifier</td>\n",
       "      <td>CountVectorizer</td>\n",
       "      <td>0.484472</td>\n",
       "      <td>0.486842</td>\n",
       "      <td>0.456790</td>\n",
       "      <td>0.471338</td>\n",
       "      <td>0.484645</td>\n",
       "    </tr>\n",
       "    <tr>\n",
       "      <th>11</th>\n",
       "      <td>Syrian war fake news</td>\n",
       "      <td>PassiveAggressiveClassifier</td>\n",
       "      <td>HashingVectorizer</td>\n",
       "      <td>0.496894</td>\n",
       "      <td>0.500000</td>\n",
       "      <td>0.493827</td>\n",
       "      <td>0.496894</td>\n",
       "      <td>0.496914</td>\n",
       "    </tr>\n",
       "    <tr>\n",
       "      <th>12</th>\n",
       "      <td>Syrian war fake news</td>\n",
       "      <td>LogisticRegression</td>\n",
       "      <td>TfidfVectorizer</td>\n",
       "      <td>0.490683</td>\n",
       "      <td>0.495495</td>\n",
       "      <td>0.679012</td>\n",
       "      <td>0.572917</td>\n",
       "      <td>0.489506</td>\n",
       "    </tr>\n",
       "    <tr>\n",
       "      <th>13</th>\n",
       "      <td>Syrian war fake news</td>\n",
       "      <td>LogisticRegression</td>\n",
       "      <td>CountVectorizer</td>\n",
       "      <td>0.503106</td>\n",
       "      <td>0.505882</td>\n",
       "      <td>0.530864</td>\n",
       "      <td>0.518072</td>\n",
       "      <td>0.502932</td>\n",
       "    </tr>\n",
       "    <tr>\n",
       "      <th>14</th>\n",
       "      <td>Syrian war fake news</td>\n",
       "      <td>LogisticRegression</td>\n",
       "      <td>HashingVectorizer</td>\n",
       "      <td>0.496894</td>\n",
       "      <td>0.500000</td>\n",
       "      <td>0.814815</td>\n",
       "      <td>0.619718</td>\n",
       "      <td>0.494907</td>\n",
       "    </tr>\n",
       "    <tr>\n",
       "      <th>15</th>\n",
       "      <td>Syrian war fake news</td>\n",
       "      <td>SGDClassifier</td>\n",
       "      <td>TfidfVectorizer</td>\n",
       "      <td>0.472050</td>\n",
       "      <td>0.476190</td>\n",
       "      <td>0.493827</td>\n",
       "      <td>0.484848</td>\n",
       "      <td>0.471914</td>\n",
       "    </tr>\n",
       "    <tr>\n",
       "      <th>16</th>\n",
       "      <td>Syrian war fake news</td>\n",
       "      <td>SGDClassifier</td>\n",
       "      <td>CountVectorizer</td>\n",
       "      <td>0.509317</td>\n",
       "      <td>0.512821</td>\n",
       "      <td>0.493827</td>\n",
       "      <td>0.503145</td>\n",
       "      <td>0.509414</td>\n",
       "    </tr>\n",
       "    <tr>\n",
       "      <th>17</th>\n",
       "      <td>Syrian war fake news</td>\n",
       "      <td>SGDClassifier</td>\n",
       "      <td>HashingVectorizer</td>\n",
       "      <td>0.515528</td>\n",
       "      <td>0.514019</td>\n",
       "      <td>0.679012</td>\n",
       "      <td>0.585106</td>\n",
       "      <td>0.514506</td>\n",
       "    </tr>\n",
       "    <tr>\n",
       "      <th>18</th>\n",
       "      <td>Iraq war fake news</td>\n",
       "      <td>PassiveAggressiveClassifier</td>\n",
       "      <td>TfidfVectorizer</td>\n",
       "      <td>0.963855</td>\n",
       "      <td>0.939130</td>\n",
       "      <td>0.981818</td>\n",
       "      <td>0.960000</td>\n",
       "      <td>0.965729</td>\n",
       "    </tr>\n",
       "    <tr>\n",
       "      <th>19</th>\n",
       "      <td>Iraq war fake news</td>\n",
       "      <td>PassiveAggressiveClassifier</td>\n",
       "      <td>CountVectorizer</td>\n",
       "      <td>0.943775</td>\n",
       "      <td>0.936364</td>\n",
       "      <td>0.936364</td>\n",
       "      <td>0.936364</td>\n",
       "      <td>0.943002</td>\n",
       "    </tr>\n",
       "    <tr>\n",
       "      <th>20</th>\n",
       "      <td>Iraq war fake news</td>\n",
       "      <td>PassiveAggressiveClassifier</td>\n",
       "      <td>HashingVectorizer</td>\n",
       "      <td>0.967871</td>\n",
       "      <td>0.963636</td>\n",
       "      <td>0.963636</td>\n",
       "      <td>0.963636</td>\n",
       "      <td>0.967430</td>\n",
       "    </tr>\n",
       "    <tr>\n",
       "      <th>21</th>\n",
       "      <td>Iraq war fake news</td>\n",
       "      <td>LogisticRegression</td>\n",
       "      <td>TfidfVectorizer</td>\n",
       "      <td>0.927711</td>\n",
       "      <td>0.883333</td>\n",
       "      <td>0.963636</td>\n",
       "      <td>0.921739</td>\n",
       "      <td>0.931458</td>\n",
       "    </tr>\n",
       "    <tr>\n",
       "      <th>22</th>\n",
       "      <td>Iraq war fake news</td>\n",
       "      <td>LogisticRegression</td>\n",
       "      <td>CountVectorizer</td>\n",
       "      <td>0.995984</td>\n",
       "      <td>1.000000</td>\n",
       "      <td>0.990909</td>\n",
       "      <td>0.995434</td>\n",
       "      <td>0.995455</td>\n",
       "    </tr>\n",
       "    <tr>\n",
       "      <th>23</th>\n",
       "      <td>Iraq war fake news</td>\n",
       "      <td>LogisticRegression</td>\n",
       "      <td>HashingVectorizer</td>\n",
       "      <td>0.939759</td>\n",
       "      <td>0.905983</td>\n",
       "      <td>0.963636</td>\n",
       "      <td>0.933921</td>\n",
       "      <td>0.942250</td>\n",
       "    </tr>\n",
       "    <tr>\n",
       "      <th>24</th>\n",
       "      <td>Iraq war fake news</td>\n",
       "      <td>SGDClassifier</td>\n",
       "      <td>TfidfVectorizer</td>\n",
       "      <td>0.991968</td>\n",
       "      <td>0.990909</td>\n",
       "      <td>0.990909</td>\n",
       "      <td>0.990909</td>\n",
       "      <td>0.991857</td>\n",
       "    </tr>\n",
       "    <tr>\n",
       "      <th>25</th>\n",
       "      <td>Iraq war fake news</td>\n",
       "      <td>SGDClassifier</td>\n",
       "      <td>CountVectorizer</td>\n",
       "      <td>0.959839</td>\n",
       "      <td>0.962963</td>\n",
       "      <td>0.945455</td>\n",
       "      <td>0.954128</td>\n",
       "      <td>0.958339</td>\n",
       "    </tr>\n",
       "    <tr>\n",
       "      <th>26</th>\n",
       "      <td>Iraq war fake news</td>\n",
       "      <td>SGDClassifier</td>\n",
       "      <td>HashingVectorizer</td>\n",
       "      <td>0.983936</td>\n",
       "      <td>1.000000</td>\n",
       "      <td>0.963636</td>\n",
       "      <td>0.981481</td>\n",
       "      <td>0.981818</td>\n",
       "    </tr>\n",
       "    <tr>\n",
       "      <th>27</th>\n",
       "      <td>Fake news during normal times - 2</td>\n",
       "      <td>PassiveAggressiveClassifier</td>\n",
       "      <td>TfidfVectorizer</td>\n",
       "      <td>0.925809</td>\n",
       "      <td>0.917317</td>\n",
       "      <td>0.934817</td>\n",
       "      <td>0.925984</td>\n",
       "      <td>0.925873</td>\n",
       "    </tr>\n",
       "    <tr>\n",
       "      <th>28</th>\n",
       "      <td>Fake news during normal times - 2</td>\n",
       "      <td>PassiveAggressiveClassifier</td>\n",
       "      <td>CountVectorizer</td>\n",
       "      <td>0.908445</td>\n",
       "      <td>0.888048</td>\n",
       "      <td>0.933227</td>\n",
       "      <td>0.910078</td>\n",
       "      <td>0.908620</td>\n",
       "    </tr>\n",
       "    <tr>\n",
       "      <th>29</th>\n",
       "      <td>Fake news during normal times - 2</td>\n",
       "      <td>PassiveAggressiveClassifier</td>\n",
       "      <td>HashingVectorizer</td>\n",
       "      <td>0.921073</td>\n",
       "      <td>0.915228</td>\n",
       "      <td>0.926868</td>\n",
       "      <td>0.921011</td>\n",
       "      <td>0.921114</td>\n",
       "    </tr>\n",
       "    <tr>\n",
       "      <th>30</th>\n",
       "      <td>Fake news during normal times - 2</td>\n",
       "      <td>LogisticRegression</td>\n",
       "      <td>TfidfVectorizer</td>\n",
       "      <td>0.915549</td>\n",
       "      <td>0.927869</td>\n",
       "      <td>0.899841</td>\n",
       "      <td>0.913640</td>\n",
       "      <td>0.915438</td>\n",
       "    </tr>\n",
       "    <tr>\n",
       "      <th>31</th>\n",
       "      <td>Fake news during normal times - 2</td>\n",
       "      <td>LogisticRegression</td>\n",
       "      <td>CountVectorizer</td>\n",
       "      <td>0.924230</td>\n",
       "      <td>0.921011</td>\n",
       "      <td>0.926868</td>\n",
       "      <td>0.923930</td>\n",
       "      <td>0.924249</td>\n",
       "    </tr>\n",
       "    <tr>\n",
       "      <th>32</th>\n",
       "      <td>Fake news during normal times - 2</td>\n",
       "      <td>LogisticRegression</td>\n",
       "      <td>HashingVectorizer</td>\n",
       "      <td>0.893449</td>\n",
       "      <td>0.893312</td>\n",
       "      <td>0.891892</td>\n",
       "      <td>0.892601</td>\n",
       "      <td>0.893438</td>\n",
       "    </tr>\n",
       "    <tr>\n",
       "      <th>33</th>\n",
       "      <td>Fake news during normal times - 2</td>\n",
       "      <td>SGDClassifier</td>\n",
       "      <td>TfidfVectorizer</td>\n",
       "      <td>0.928966</td>\n",
       "      <td>0.924409</td>\n",
       "      <td>0.933227</td>\n",
       "      <td>0.928797</td>\n",
       "      <td>0.928996</td>\n",
       "    </tr>\n",
       "    <tr>\n",
       "      <th>34</th>\n",
       "      <td>Fake news during normal times - 2</td>\n",
       "      <td>SGDClassifier</td>\n",
       "      <td>CountVectorizer</td>\n",
       "      <td>0.919495</td>\n",
       "      <td>0.901065</td>\n",
       "      <td>0.941176</td>\n",
       "      <td>0.920684</td>\n",
       "      <td>0.919648</td>\n",
       "    </tr>\n",
       "    <tr>\n",
       "      <th>35</th>\n",
       "      <td>Fake news during normal times - 2</td>\n",
       "      <td>SGDClassifier</td>\n",
       "      <td>HashingVectorizer</td>\n",
       "      <td>0.921863</td>\n",
       "      <td>0.894345</td>\n",
       "      <td>0.955485</td>\n",
       "      <td>0.923905</td>\n",
       "      <td>0.922100</td>\n",
       "    </tr>\n",
       "  </tbody>\n",
       "</table>\n",
       "</div>"
      ],
      "text/plain": [
       "                              Dataset                   Classifier   \n",
       "0   Fake news during normal times - 1  PassiveAggressiveClassifier  \\\n",
       "1   Fake news during normal times - 1  PassiveAggressiveClassifier   \n",
       "2   Fake news during normal times - 1  PassiveAggressiveClassifier   \n",
       "3   Fake news during normal times - 1           LogisticRegression   \n",
       "4   Fake news during normal times - 1           LogisticRegression   \n",
       "5   Fake news during normal times - 1           LogisticRegression   \n",
       "6   Fake news during normal times - 1                SGDClassifier   \n",
       "7   Fake news during normal times - 1                SGDClassifier   \n",
       "8   Fake news during normal times - 1                SGDClassifier   \n",
       "9                Syrian war fake news  PassiveAggressiveClassifier   \n",
       "10               Syrian war fake news  PassiveAggressiveClassifier   \n",
       "11               Syrian war fake news  PassiveAggressiveClassifier   \n",
       "12               Syrian war fake news           LogisticRegression   \n",
       "13               Syrian war fake news           LogisticRegression   \n",
       "14               Syrian war fake news           LogisticRegression   \n",
       "15               Syrian war fake news                SGDClassifier   \n",
       "16               Syrian war fake news                SGDClassifier   \n",
       "17               Syrian war fake news                SGDClassifier   \n",
       "18                 Iraq war fake news  PassiveAggressiveClassifier   \n",
       "19                 Iraq war fake news  PassiveAggressiveClassifier   \n",
       "20                 Iraq war fake news  PassiveAggressiveClassifier   \n",
       "21                 Iraq war fake news           LogisticRegression   \n",
       "22                 Iraq war fake news           LogisticRegression   \n",
       "23                 Iraq war fake news           LogisticRegression   \n",
       "24                 Iraq war fake news                SGDClassifier   \n",
       "25                 Iraq war fake news                SGDClassifier   \n",
       "26                 Iraq war fake news                SGDClassifier   \n",
       "27  Fake news during normal times - 2  PassiveAggressiveClassifier   \n",
       "28  Fake news during normal times - 2  PassiveAggressiveClassifier   \n",
       "29  Fake news during normal times - 2  PassiveAggressiveClassifier   \n",
       "30  Fake news during normal times - 2           LogisticRegression   \n",
       "31  Fake news during normal times - 2           LogisticRegression   \n",
       "32  Fake news during normal times - 2           LogisticRegression   \n",
       "33  Fake news during normal times - 2                SGDClassifier   \n",
       "34  Fake news during normal times - 2                SGDClassifier   \n",
       "35  Fake news during normal times - 2                SGDClassifier   \n",
       "\n",
       "           Vectorizer  Accuracy  Precision    Recall  F1 Score   ROC AUC  \n",
       "0     TfidfVectorizer  0.928177   0.917702  0.939587  0.928515  0.928257  \n",
       "1     CountVectorizer  0.915549   0.900307  0.933227  0.916472  0.915673  \n",
       "2   HashingVectorizer  0.921073   0.915228  0.926868  0.921011  0.921114  \n",
       "3     TfidfVectorizer  0.915549   0.927869  0.899841  0.913640  0.915438  \n",
       "4     CountVectorizer  0.924230   0.921011  0.926868  0.923930  0.924249  \n",
       "5   HashingVectorizer  0.893449   0.893312  0.891892  0.892601  0.893438  \n",
       "6     TfidfVectorizer  0.930545   0.925984  0.934817  0.930380  0.930575  \n",
       "7     CountVectorizer  0.924230   0.922345  0.925278  0.923810  0.924238  \n",
       "8   HashingVectorizer  0.928966   0.927100  0.930048  0.928571  0.928974  \n",
       "9     TfidfVectorizer  0.490683   0.495146  0.629630  0.554348  0.489815  \n",
       "10    CountVectorizer  0.484472   0.486842  0.456790  0.471338  0.484645  \n",
       "11  HashingVectorizer  0.496894   0.500000  0.493827  0.496894  0.496914  \n",
       "12    TfidfVectorizer  0.490683   0.495495  0.679012  0.572917  0.489506  \n",
       "13    CountVectorizer  0.503106   0.505882  0.530864  0.518072  0.502932  \n",
       "14  HashingVectorizer  0.496894   0.500000  0.814815  0.619718  0.494907  \n",
       "15    TfidfVectorizer  0.472050   0.476190  0.493827  0.484848  0.471914  \n",
       "16    CountVectorizer  0.509317   0.512821  0.493827  0.503145  0.509414  \n",
       "17  HashingVectorizer  0.515528   0.514019  0.679012  0.585106  0.514506  \n",
       "18    TfidfVectorizer  0.963855   0.939130  0.981818  0.960000  0.965729  \n",
       "19    CountVectorizer  0.943775   0.936364  0.936364  0.936364  0.943002  \n",
       "20  HashingVectorizer  0.967871   0.963636  0.963636  0.963636  0.967430  \n",
       "21    TfidfVectorizer  0.927711   0.883333  0.963636  0.921739  0.931458  \n",
       "22    CountVectorizer  0.995984   1.000000  0.990909  0.995434  0.995455  \n",
       "23  HashingVectorizer  0.939759   0.905983  0.963636  0.933921  0.942250  \n",
       "24    TfidfVectorizer  0.991968   0.990909  0.990909  0.990909  0.991857  \n",
       "25    CountVectorizer  0.959839   0.962963  0.945455  0.954128  0.958339  \n",
       "26  HashingVectorizer  0.983936   1.000000  0.963636  0.981481  0.981818  \n",
       "27    TfidfVectorizer  0.925809   0.917317  0.934817  0.925984  0.925873  \n",
       "28    CountVectorizer  0.908445   0.888048  0.933227  0.910078  0.908620  \n",
       "29  HashingVectorizer  0.921073   0.915228  0.926868  0.921011  0.921114  \n",
       "30    TfidfVectorizer  0.915549   0.927869  0.899841  0.913640  0.915438  \n",
       "31    CountVectorizer  0.924230   0.921011  0.926868  0.923930  0.924249  \n",
       "32  HashingVectorizer  0.893449   0.893312  0.891892  0.892601  0.893438  \n",
       "33    TfidfVectorizer  0.928966   0.924409  0.933227  0.928797  0.928996  \n",
       "34    CountVectorizer  0.919495   0.901065  0.941176  0.920684  0.919648  \n",
       "35  HashingVectorizer  0.921863   0.894345  0.955485  0.923905  0.922100  "
      ]
     },
     "execution_count": 95,
     "metadata": {},
     "output_type": "execute_result"
    }
   ],
   "source": [
    "results_df.head(200)"
   ]
  },
  {
   "cell_type": "code",
   "execution_count": 96,
   "metadata": {},
   "outputs": [
    {
     "name": "stdout",
     "output_type": "stream",
     "text": [
      "                              Dataset                   Classifier         Vectorizer  Accuracy  Precision    Recall  F1 Score   ROC AUC\n",
      "0   Fake news during normal times - 1  PassiveAggressiveClassifier    TfidfVectorizer  0.928177   0.917702  0.939587  0.928515  0.928257\n",
      "1   Fake news during normal times - 1  PassiveAggressiveClassifier    CountVectorizer  0.915549   0.900307  0.933227  0.916472  0.915673\n",
      "2   Fake news during normal times - 1  PassiveAggressiveClassifier  HashingVectorizer  0.921073   0.915228  0.926868  0.921011  0.921114\n",
      "3   Fake news during normal times - 1           LogisticRegression    TfidfVectorizer  0.915549   0.927869  0.899841  0.913640  0.915438\n",
      "4   Fake news during normal times - 1           LogisticRegression    CountVectorizer  0.924230   0.921011  0.926868  0.923930  0.924249\n",
      "5   Fake news during normal times - 1           LogisticRegression  HashingVectorizer  0.893449   0.893312  0.891892  0.892601  0.893438\n",
      "6   Fake news during normal times - 1                SGDClassifier    TfidfVectorizer  0.930545   0.925984  0.934817  0.930380  0.930575\n",
      "7   Fake news during normal times - 1                SGDClassifier    CountVectorizer  0.924230   0.922345  0.925278  0.923810  0.924238\n",
      "8   Fake news during normal times - 1                SGDClassifier  HashingVectorizer  0.928966   0.927100  0.930048  0.928571  0.928974\n",
      "9                Syrian war fake news  PassiveAggressiveClassifier    TfidfVectorizer  0.490683   0.495146  0.629630  0.554348  0.489815\n",
      "10               Syrian war fake news  PassiveAggressiveClassifier    CountVectorizer  0.484472   0.486842  0.456790  0.471338  0.484645\n",
      "11               Syrian war fake news  PassiveAggressiveClassifier  HashingVectorizer  0.496894   0.500000  0.493827  0.496894  0.496914\n",
      "12               Syrian war fake news           LogisticRegression    TfidfVectorizer  0.490683   0.495495  0.679012  0.572917  0.489506\n",
      "13               Syrian war fake news           LogisticRegression    CountVectorizer  0.503106   0.505882  0.530864  0.518072  0.502932\n",
      "14               Syrian war fake news           LogisticRegression  HashingVectorizer  0.496894   0.500000  0.814815  0.619718  0.494907\n",
      "15               Syrian war fake news                SGDClassifier    TfidfVectorizer  0.472050   0.476190  0.493827  0.484848  0.471914\n",
      "16               Syrian war fake news                SGDClassifier    CountVectorizer  0.509317   0.512821  0.493827  0.503145  0.509414\n",
      "17               Syrian war fake news                SGDClassifier  HashingVectorizer  0.515528   0.514019  0.679012  0.585106  0.514506\n",
      "18                 Iraq war fake news  PassiveAggressiveClassifier    TfidfVectorizer  0.963855   0.939130  0.981818  0.960000  0.965729\n",
      "19                 Iraq war fake news  PassiveAggressiveClassifier    CountVectorizer  0.943775   0.936364  0.936364  0.936364  0.943002\n",
      "20                 Iraq war fake news  PassiveAggressiveClassifier  HashingVectorizer  0.967871   0.963636  0.963636  0.963636  0.967430\n",
      "21                 Iraq war fake news           LogisticRegression    TfidfVectorizer  0.927711   0.883333  0.963636  0.921739  0.931458\n",
      "22                 Iraq war fake news           LogisticRegression    CountVectorizer  0.995984   1.000000  0.990909  0.995434  0.995455\n",
      "23                 Iraq war fake news           LogisticRegression  HashingVectorizer  0.939759   0.905983  0.963636  0.933921  0.942250\n",
      "24                 Iraq war fake news                SGDClassifier    TfidfVectorizer  0.991968   0.990909  0.990909  0.990909  0.991857\n",
      "25                 Iraq war fake news                SGDClassifier    CountVectorizer  0.959839   0.962963  0.945455  0.954128  0.958339\n",
      "26                 Iraq war fake news                SGDClassifier  HashingVectorizer  0.983936   1.000000  0.963636  0.981481  0.981818\n",
      "27  Fake news during normal times - 2  PassiveAggressiveClassifier    TfidfVectorizer  0.925809   0.917317  0.934817  0.925984  0.925873\n",
      "28  Fake news during normal times - 2  PassiveAggressiveClassifier    CountVectorizer  0.908445   0.888048  0.933227  0.910078  0.908620\n",
      "29  Fake news during normal times - 2  PassiveAggressiveClassifier  HashingVectorizer  0.921073   0.915228  0.926868  0.921011  0.921114\n",
      "30  Fake news during normal times - 2           LogisticRegression    TfidfVectorizer  0.915549   0.927869  0.899841  0.913640  0.915438\n",
      "31  Fake news during normal times - 2           LogisticRegression    CountVectorizer  0.924230   0.921011  0.926868  0.923930  0.924249\n",
      "32  Fake news during normal times - 2           LogisticRegression  HashingVectorizer  0.893449   0.893312  0.891892  0.892601  0.893438\n",
      "33  Fake news during normal times - 2                SGDClassifier    TfidfVectorizer  0.928966   0.924409  0.933227  0.928797  0.928996\n",
      "34  Fake news during normal times - 2                SGDClassifier    CountVectorizer  0.919495   0.901065  0.941176  0.920684  0.919648\n",
      "35  Fake news during normal times - 2                SGDClassifier  HashingVectorizer  0.921863   0.894345  0.955485  0.923905  0.922100\n"
     ]
    }
   ],
   "source": [
    "print(results_df.to_string())"
   ]
  }
 ],
 "metadata": {
  "kernelspec": {
   "display_name": "Python 3",
   "language": "python",
   "name": "python3"
  },
  "language_info": {
   "codemirror_mode": {
    "name": "ipython",
    "version": 3
   },
   "file_extension": ".py",
   "mimetype": "text/x-python",
   "name": "python",
   "nbconvert_exporter": "python",
   "pygments_lexer": "ipython3",
   "version": "3.11.3"
  },
  "orig_nbformat": 4,
  "vscode": {
   "interpreter": {
    "hash": "1e62bbca5c060b6ccd01d18f25329156a50c653d3d0b4f81cffcfdc4c0ea0acd"
   }
  }
 },
 "nbformat": 4,
 "nbformat_minor": 2
}
