{
 "cells": [
  {
   "cell_type": "code",
   "execution_count": 17,
   "metadata": {},
   "outputs": [
    {
     "name": "stdout",
     "output_type": "stream",
     "text": [
      "Requirement already satisfied: pip in c:\\python311\\lib\\site-packages (23.1.2)\n",
      "Note: you may need to restart the kernel to use updated packages.\n"
     ]
    }
   ],
   "source": [
    "pip install --upgrade pip\n"
   ]
  },
  {
   "cell_type": "code",
   "execution_count": 18,
   "metadata": {},
   "outputs": [
    {
     "name": "stdout",
     "output_type": "stream",
     "text": [
      "Requirement already satisfied: scikit-learn in c:\\python311\\lib\\site-packages (1.2.2)Note: you may need to restart the kernel to use updated packages.\n",
      "\n",
      "Requirement already satisfied: numpy>=1.17.3 in c:\\python311\\lib\\site-packages (from scikit-learn) (1.23.5)\n",
      "Requirement already satisfied: scipy>=1.3.2 in c:\\python311\\lib\\site-packages (from scikit-learn) (1.10.1)\n",
      "Requirement already satisfied: joblib>=1.1.1 in c:\\python311\\lib\\site-packages (from scikit-learn) (1.2.0)\n",
      "Requirement already satisfied: threadpoolctl>=2.0.0 in c:\\python311\\lib\\site-packages (from scikit-learn) (3.1.0)\n"
     ]
    }
   ],
   "source": [
    "\n",
    "pip install -U scikit-learn\n"
   ]
  },
  {
   "cell_type": "code",
   "execution_count": 19,
   "metadata": {},
   "outputs": [
    {
     "name": "stdout",
     "output_type": "stream",
     "text": [
      "Requirement already satisfied: pandas in c:\\python311\\lib\\site-packages (2.0.2)\n",
      "Requirement already satisfied: python-dateutil>=2.8.2 in c:\\users\\miqmi\\appdata\\roaming\\python\\python311\\site-packages (from pandas) (2.8.2)\n",
      "Requirement already satisfied: pytz>=2020.1 in c:\\python311\\lib\\site-packages (from pandas) (2023.3)\n",
      "Requirement already satisfied: tzdata>=2022.1 in c:\\python311\\lib\\site-packages (from pandas) (2023.3)\n",
      "Requirement already satisfied: numpy>=1.21.0 in c:\\python311\\lib\\site-packages (from pandas) (1.23.5)\n",
      "Requirement already satisfied: six>=1.5 in c:\\users\\miqmi\\appdata\\roaming\\python\\python311\\site-packages (from python-dateutil>=2.8.2->pandas) (1.16.0)\n"
     ]
    }
   ],
   "source": [
    "\n",
    "!pip install --upgrade pandas\n",
    "\n",
    "\n"
   ]
  },
  {
   "cell_type": "code",
   "execution_count": 3,
   "metadata": {},
   "outputs": [],
   "source": [
    "import numpy as np\n",
    "import pandas as pd\n",
    "import itertools\n",
    "from sklearn.model_selection import train_test_split\n",
    "from sklearn.feature_extraction.text import TfidfVectorizer\n",
    "from sklearn.linear_model import PassiveAggressiveClassifier\n",
    "from sklearn.metrics import accuracy_score, confusion_matrix \n",
    "import matplotlib.pyplot as plt\n",
    "from sklearn.model_selection import train_test_split\n",
    "from sklearn.feature_extraction.text import TfidfVectorizer, HashingVectorizer, CountVectorizer\n",
    "from sklearn.linear_model import PassiveAggressiveClassifier, LogisticRegression, SGDClassifier\n",
    "from sklearn.metrics import accuracy_score\n",
    "from mpl_toolkits.mplot3d import Axes3D\n",
    "from tensorflow.keras.models import Sequential\n",
    "from tensorflow.keras.layers import Dense, Embedding, Conv1D, GlobalMaxPooling1D, Dropout"
   ]
  },
  {
   "cell_type": "code",
   "execution_count": 4,
   "metadata": {},
   "outputs": [],
   "source": [
    "df1 = pd.read_csv('Fake news during normal times - 1.csv')\n",
    "df2 = pd.read_csv('Fake news during normal times - 2.csv')\n",
    "df3 = pd.read_csv('Fake news during normal times un-labeled - 3.csv')\n",
    "df4 = pd.read_csv('Syrian war fake news.csv',encoding='unicode_escape')\n",
    "df5 = pd.read_csv('Iraq war fake news.csv')\n",
    "df6 = pd.read_csv('afghanistan war unlabeled.csv',encoding='unicode_escape')\n",
    "df7 = pd.read_csv('Ukraine war unlabeled - 1.csv')\n",
    "df8 = pd.read_csv('Ukraine war unlabeled - 2.csv')"
   ]
  },
  {
   "cell_type": "code",
   "execution_count": 5,
   "metadata": {},
   "outputs": [
    {
     "data": {
      "text/plain": [
       "0    FAKE\n",
       "1    FAKE\n",
       "2    REAL\n",
       "3    FAKE\n",
       "4    REAL\n",
       "Name: label, dtype: object"
      ]
     },
     "execution_count": 5,
     "metadata": {},
     "output_type": "execute_result"
    }
   ],
   "source": [
    "labels1=df1.label\n",
    "labels1.head(5)"
   ]
  },
  {
   "cell_type": "code",
   "execution_count": 6,
   "metadata": {},
   "outputs": [
    {
     "data": {
      "text/plain": [
       "0    FAKE\n",
       "1    FAKE\n",
       "2    REAL\n",
       "3    FAKE\n",
       "4    REAL\n",
       "Name: label, dtype: object"
      ]
     },
     "execution_count": 6,
     "metadata": {},
     "output_type": "execute_result"
    }
   ],
   "source": [
    "labels2=df2.label\n",
    "labels2.head(5)"
   ]
  },
  {
   "cell_type": "code",
   "execution_count": 7,
   "metadata": {},
   "outputs": [
    {
     "data": {
      "text/plain": [
       "0    False\n",
       "1    False\n",
       "2    False\n",
       "3    False\n",
       "4    False\n",
       "Name: label, dtype: bool"
      ]
     },
     "execution_count": 7,
     "metadata": {},
     "output_type": "execute_result"
    }
   ],
   "source": [
    "labels4=df4.label\n",
    "labels4.head(5)"
   ]
  },
  {
   "cell_type": "code",
   "execution_count": 8,
   "metadata": {},
   "outputs": [
    {
     "data": {
      "text/plain": [
       "0    False\n",
       "1    False\n",
       "2    False\n",
       "3    False\n",
       "4    False\n",
       "Name: deception, dtype: bool"
      ]
     },
     "execution_count": 8,
     "metadata": {},
     "output_type": "execute_result"
    }
   ],
   "source": [
    "labels5=df5.deception\t\n",
    "labels5.head(5)"
   ]
  },
  {
   "cell_type": "code",
   "execution_count": 9,
   "metadata": {},
   "outputs": [
    {
     "data": {
      "text/plain": [
       "0    FAKE\n",
       "1    FAKE\n",
       "2    REAL\n",
       "3    FAKE\n",
       "4    REAL\n",
       "Name: label, dtype: object"
      ]
     },
     "execution_count": 9,
     "metadata": {},
     "output_type": "execute_result"
    }
   ],
   "source": [
    "x_train, x_test, y_train, y_test = train_test_split(df1['text'], df1['label'], test_size=0.2, random_state=7)\n",
    "x_train1, x_test1, y_train1, y_test1 = train_test_split(df4['article_content'], df4['label'], test_size=0.2, random_state=7)\n",
    "x_train2, x_test2, y_train2, y_test2 = train_test_split(df5['content'], df5['deception'], test_size=0.2, random_state=7)\n",
    "x_train4, x_test4, y_train4, y_test4 = train_test_split(df2['text'], df2['label'], test_size=0.2, random_state=7)\n",
    "\n",
    "labels4 = df4['label']\n",
    "labels4.head(5)\n",
    "labels5 = df5['deception']\n",
    "labels5.head(5)\n",
    "labels2 = df2['label']\n",
    "labels2.head(5)\n",
    "labels1 = df1['label']\n",
    "labels1.head(5)\n"
   ]
  },
  {
   "cell_type": "code",
   "execution_count": 10,
   "metadata": {},
   "outputs": [],
   "source": [
    "# Initialize vectorizers\n",
    "vectorizers = [\n",
    "    TfidfVectorizer(stop_words='english', max_df=0.7),\n",
    "    HashingVectorizer(stop_words='english'),\n",
    "    CountVectorizer(stop_words='english'),\n",
    "    # Add your additional vectorizer here\n",
    "]\n",
    "\n",
    "# Initialize classifiers\n",
    "classifiers = [\n",
    "    PassiveAggressiveClassifier(max_iter=50),\n",
    "    LogisticRegression(max_iter=1000),\n",
    "    SGDClassifier(),\n",
    "    # Add your additional classifier here\n",
    "]\n",
    "\n",
    "# Initialize deep learning models\n",
    "models = [\n",
    "    # Convolutional Neural Network (CNN)\n",
    "    Sequential([\n",
    "        Embedding(input_dim=10000, output_dim=64),\n",
    "        Conv1D(filters=64, kernel_size=3, padding='same', activation='relu'),\n",
    "        GlobalMaxPooling1D(),\n",
    "        Dense(64, activation='relu'),\n",
    "        Dropout(0.5),\n",
    "        Dense(1, activation='sigmoid')\n",
    "    ]),\n",
    "    # Deep Neural Network (DNN)\n",
    "    Sequential([\n",
    "        Dense(256, input_dim=10000, activation='relu'),\n",
    "        Dropout(0.5),\n",
    "        Dense(128, activation='relu'),\n",
    "        Dropout(0.5),\n",
    "        Dense(64, activation='relu'),\n",
    "        Dropout(0.5),\n",
    "        Dense(1, activation='sigmoid')\n",
    "    ])\n",
    "]\n",
    "\n",
    "# Define dataset names and accuracy results list\n",
    "datasets = [\n",
    "    (x_train, y_train, x_test, y_test, 'Fake news during normal times - 1 Dataset'), \n",
    "    (x_train1, y_train1, x_test1, y_test1, 'Syrian war fake news Dataset'), \n",
    "    (x_train2, y_train2, x_test2, y_test2, 'Iraq war fake news Dataset'),\n",
    "    (x_train4, y_train4, x_test4, y_test4, 'Fake news during normal times - 2 Dataset')\n",
    "]\n",
    "\n",
    "results = []\n"
   ]
  },
  {
   "cell_type": "code",
   "execution_count": 11,
   "metadata": {},
   "outputs": [],
   "source": [
    "\n",
    "# Iterate over vectorizers, classifiers, models, and datasets\n",
    "for vectorizer in vectorizers:\n",
    "    for classifier in classifiers:\n",
    "        for model in models:\n",
    "            for data in datasets:\n",
    "                x_train, y_train, x_test, y_test, dataset_name = data\n",
    "\n",
    "                X_train = vectorizer.fit_transform(x_train)\n",
    "                X_test = vectorizer.transform(x_test)\n",
    "\n",
    "                clf_name = type(classifier).__name__\n",
    "                vectorizer_name = type(vectorizer).__name__\n",
    "                model_name = type(model).__name__\n",
    "                if 'Neural' in model_name:\n",
    "                    X_train = X_train.toarray()\n",
    "                    X_test = X_test.toarray()\n",
    "\n",
    "                    model.compile(loss='binary_crossentropy', optimizer='adam', metrics=['accuracy'])\n",
    "                    model.fit(X_train, y_train, epochs=5, batch_size=64, verbose=0)\n",
    "                    y_pred = model.predict(X_test)\n",
    "                    y_pred = np.round(y_pred).astype(int)\n",
    "                else:\n",
    "                    classifier.fit(X_train, y_train)\n",
    "                    y_pred = classifier.predict(X_test)\n",
    "\n",
    "                accuracy = accuracy_score(y_test, y_pred)\n",
    "                results.append((vectorizer_name, clf_name, model_name, dataset_name, accuracy))\n",
    "                \n",
    "# Convert the results to a DataFrame\n",
    "results_df = pd.DataFrame(results, columns=['Vectorizer', 'Classifier', 'Model', 'Dataset', 'Accuracy'])\n",
    "\n",
    "# Map the vectorizer names\n",
    "vectorizer_names = {\n",
    "    'CountVectorizer': 'CV',\n",
    "    'TfidfVectorizer': 'TF-IDF',\n",
    "    'HashingVectorizer': 'Hashing'\n",
    "}\n",
    "\n",
    "# Map the classifier/model names\n",
    "classifier_names = {\n",
    "    'PassiveAggressiveClassifier': 'PAC',\n",
    "    'LogisticRegression': 'LR',\n",
    "    'SGDClassifier': 'SGD',\n",
    "    'Conv1D': '(CNN)',\n",
    "    'Sequential': '(DNN)'\n",
    "}\n",
    "\n",
    "# Create a new DataFrame with unique combinations of Vectorizer, Classifier/Model, and Accuracy\n",
    "unique_results = results_df.groupby(['Vectorizer', 'Classifier', 'Model', 'Dataset']).mean().reset_index()\n",
    "\n",
    "# Assign numeric labels to dataset names\n",
    "dataset_labels = {name: i for i, name in enumerate(unique_results['Dataset'].unique())}\n",
    "\n",
    "# Map the vectorizer names\n",
    "vectorizer_names = {\n",
    "    'CountVectorizer': 'CV',\n",
    "    'TfidfVectorizer': 'TF-IDF',\n",
    "    'HashingVectorizer': 'Hashing'\n",
    "}\n",
    "\n",
    "# Map the classifier/model names\n",
    "classifier_names = {\n",
    "    'PassiveAggressiveClassifier': 'PAC',\n",
    "    'LogisticRegression': 'LR',\n",
    "    'SGDClassifier': 'SGD',\n",
    "    'Conv1D': '(CNN)',\n",
    "    'Sequential': '(DNN)'\n",
    "}\n"
   ]
  },
  {
   "cell_type": "code",
   "execution_count": null,
   "metadata": {},
   "outputs": [],
   "source": [
    "pip install seaborn "
   ]
  },
  {
   "cell_type": "code",
   "execution_count": 14,
   "metadata": {},
   "outputs": [
    {
     "data": {
      "application/vnd.plotly.v1+json": {
       "config": {
        "plotlyServerURL": "https://plot.ly"
       },
       "data": [
        {
         "marker": {
          "color": [
           0,
           1,
           2,
           3,
           0,
           1,
           2,
           3,
           0,
           1,
           2,
           3,
           0,
           1,
           2,
           3,
           0,
           1,
           2,
           3,
           0,
           1,
           2,
           3,
           0,
           1,
           2,
           3,
           0,
           1,
           2,
           3,
           0,
           1,
           2,
           3
          ],
          "colorscale": [
           [
            0,
            "#440154"
           ],
           [
            0.1111111111111111,
            "#482878"
           ],
           [
            0.2222222222222222,
            "#3e4989"
           ],
           [
            0.3333333333333333,
            "#31688e"
           ],
           [
            0.4444444444444444,
            "#26828e"
           ],
           [
            0.5555555555555556,
            "#1f9e89"
           ],
           [
            0.6666666666666666,
            "#35b779"
           ],
           [
            0.7777777777777778,
            "#6ece58"
           ],
           [
            0.8888888888888888,
            "#b5de2b"
           ],
           [
            1,
            "#fde725"
           ]
          ],
          "opacity": 0.8,
          "size": 10
         },
         "mode": "markers",
         "type": "scatter3d",
         "x": [
          "LR",
          "LR",
          "LR",
          "LR",
          "PAC",
          "PAC",
          "PAC",
          "PAC",
          "SGD",
          "SGD",
          "SGD",
          "SGD",
          "LR",
          "LR",
          "LR",
          "LR",
          "PAC",
          "PAC",
          "PAC",
          "PAC",
          "SGD",
          "SGD",
          "SGD",
          "SGD",
          "LR",
          "LR",
          "LR",
          "LR",
          "PAC",
          "PAC",
          "PAC",
          "PAC",
          "SGD",
          "SGD",
          "SGD",
          "SGD"
         ],
         "y": [
          "CV",
          "CV",
          "CV",
          "CV",
          "CV",
          "CV",
          "CV",
          "CV",
          "CV",
          "CV",
          "CV",
          "CV",
          "Hashing",
          "Hashing",
          "Hashing",
          "Hashing",
          "Hashing",
          "Hashing",
          "Hashing",
          "Hashing",
          "Hashing",
          "Hashing",
          "Hashing",
          "Hashing",
          "TF-IDF",
          "TF-IDF",
          "TF-IDF",
          "TF-IDF",
          "TF-IDF",
          "TF-IDF",
          "TF-IDF",
          "TF-IDF",
          "TF-IDF",
          "TF-IDF",
          "TF-IDF",
          "TF-IDF"
         ],
         "z": [
          0.914759273875296,
          0.914759273875296,
          0.9959839357429718,
          0.484472049689441,
          0.9084451460142068,
          0.9116022099447514,
          0.9477911646586346,
          0.4720496894409938,
          0.9155485398579322,
          0.909234411996843,
          0.963855421686747,
          0.4937888198757764,
          0.909234411996843,
          0.909234411996843,
          0.9919678714859438,
          0.5031055900621118,
          0.9234411996842935,
          0.9226519337016574,
          0.9779116465863453,
          0.4937888198757764,
          0.9214680347277032,
          0.920678768745067,
          0.9919678714859437,
          0.4720496894409938,
          0.9171270718232044,
          0.9171270718232044,
          0.9678714859437751,
          0.515527950310559,
          0.9289660615627466,
          0.9293606945540647,
          0.9779116465863453,
          0.48136645962732916,
          0.9269928966061562,
          0.9297553275453828,
          0.9919678714859438,
          0.4937888198757764
         ]
        }
       ],
       "layout": {
        "scene": {
         "annotations": [
          {
           "font": {
            "size": 12
           },
           "showarrow": false,
           "text": "",
           "x": "LR",
           "xanchor": "center",
           "y": "CV",
           "yanchor": "bottom",
           "z": 0.914759273875296
          },
          {
           "font": {
            "size": 12
           },
           "showarrow": false,
           "text": "",
           "x": "LR",
           "xanchor": "center",
           "y": "CV",
           "yanchor": "bottom",
           "z": 0.914759273875296
          },
          {
           "font": {
            "size": 12
           },
           "showarrow": false,
           "text": "",
           "x": "LR",
           "xanchor": "center",
           "y": "CV",
           "yanchor": "bottom",
           "z": 0.9959839357429718
          },
          {
           "font": {
            "size": 12
           },
           "showarrow": false,
           "text": "",
           "x": "LR",
           "xanchor": "center",
           "y": "CV",
           "yanchor": "bottom",
           "z": 0.484472049689441
          },
          {
           "font": {
            "size": 12
           },
           "showarrow": false,
           "text": "",
           "x": "PAC",
           "xanchor": "center",
           "y": "CV",
           "yanchor": "bottom",
           "z": 0.9084451460142068
          },
          {
           "font": {
            "size": 12
           },
           "showarrow": false,
           "text": "",
           "x": "PAC",
           "xanchor": "center",
           "y": "CV",
           "yanchor": "bottom",
           "z": 0.9116022099447514
          },
          {
           "font": {
            "size": 12
           },
           "showarrow": false,
           "text": "",
           "x": "PAC",
           "xanchor": "center",
           "y": "CV",
           "yanchor": "bottom",
           "z": 0.9477911646586346
          },
          {
           "font": {
            "size": 12
           },
           "showarrow": false,
           "text": "",
           "x": "PAC",
           "xanchor": "center",
           "y": "CV",
           "yanchor": "bottom",
           "z": 0.4720496894409938
          },
          {
           "font": {
            "size": 12
           },
           "showarrow": false,
           "text": "",
           "x": "SGD",
           "xanchor": "center",
           "y": "CV",
           "yanchor": "bottom",
           "z": 0.9155485398579322
          },
          {
           "font": {
            "size": 12
           },
           "showarrow": false,
           "text": "",
           "x": "SGD",
           "xanchor": "center",
           "y": "CV",
           "yanchor": "bottom",
           "z": 0.909234411996843
          },
          {
           "font": {
            "size": 12
           },
           "showarrow": false,
           "text": "",
           "x": "SGD",
           "xanchor": "center",
           "y": "CV",
           "yanchor": "bottom",
           "z": 0.963855421686747
          },
          {
           "font": {
            "size": 12
           },
           "showarrow": false,
           "text": "",
           "x": "SGD",
           "xanchor": "center",
           "y": "CV",
           "yanchor": "bottom",
           "z": 0.4937888198757764
          },
          {
           "font": {
            "size": 12
           },
           "showarrow": false,
           "text": "",
           "x": "LR",
           "xanchor": "center",
           "y": "Hashing",
           "yanchor": "bottom",
           "z": 0.909234411996843
          },
          {
           "font": {
            "size": 12
           },
           "showarrow": false,
           "text": "",
           "x": "LR",
           "xanchor": "center",
           "y": "Hashing",
           "yanchor": "bottom",
           "z": 0.909234411996843
          },
          {
           "font": {
            "size": 12
           },
           "showarrow": false,
           "text": "",
           "x": "LR",
           "xanchor": "center",
           "y": "Hashing",
           "yanchor": "bottom",
           "z": 0.9919678714859438
          },
          {
           "font": {
            "size": 12
           },
           "showarrow": false,
           "text": "",
           "x": "LR",
           "xanchor": "center",
           "y": "Hashing",
           "yanchor": "bottom",
           "z": 0.5031055900621118
          },
          {
           "font": {
            "size": 12
           },
           "showarrow": false,
           "text": "",
           "x": "PAC",
           "xanchor": "center",
           "y": "Hashing",
           "yanchor": "bottom",
           "z": 0.9234411996842935
          },
          {
           "font": {
            "size": 12
           },
           "showarrow": false,
           "text": "",
           "x": "PAC",
           "xanchor": "center",
           "y": "Hashing",
           "yanchor": "bottom",
           "z": 0.9226519337016574
          },
          {
           "font": {
            "size": 12
           },
           "showarrow": false,
           "text": "",
           "x": "PAC",
           "xanchor": "center",
           "y": "Hashing",
           "yanchor": "bottom",
           "z": 0.9779116465863453
          },
          {
           "font": {
            "size": 12
           },
           "showarrow": false,
           "text": "",
           "x": "PAC",
           "xanchor": "center",
           "y": "Hashing",
           "yanchor": "bottom",
           "z": 0.4937888198757764
          },
          {
           "font": {
            "size": 12
           },
           "showarrow": false,
           "text": "",
           "x": "SGD",
           "xanchor": "center",
           "y": "Hashing",
           "yanchor": "bottom",
           "z": 0.9214680347277032
          },
          {
           "font": {
            "size": 12
           },
           "showarrow": false,
           "text": "",
           "x": "SGD",
           "xanchor": "center",
           "y": "Hashing",
           "yanchor": "bottom",
           "z": 0.920678768745067
          },
          {
           "font": {
            "size": 12
           },
           "showarrow": false,
           "text": "",
           "x": "SGD",
           "xanchor": "center",
           "y": "Hashing",
           "yanchor": "bottom",
           "z": 0.9919678714859437
          },
          {
           "font": {
            "size": 12
           },
           "showarrow": false,
           "text": "",
           "x": "SGD",
           "xanchor": "center",
           "y": "Hashing",
           "yanchor": "bottom",
           "z": 0.4720496894409938
          },
          {
           "font": {
            "size": 12
           },
           "showarrow": false,
           "text": "",
           "x": "LR",
           "xanchor": "center",
           "y": "TF-IDF",
           "yanchor": "bottom",
           "z": 0.9171270718232044
          },
          {
           "font": {
            "size": 12
           },
           "showarrow": false,
           "text": "",
           "x": "LR",
           "xanchor": "center",
           "y": "TF-IDF",
           "yanchor": "bottom",
           "z": 0.9171270718232044
          },
          {
           "font": {
            "size": 12
           },
           "showarrow": false,
           "text": "",
           "x": "LR",
           "xanchor": "center",
           "y": "TF-IDF",
           "yanchor": "bottom",
           "z": 0.9678714859437751
          },
          {
           "font": {
            "size": 12
           },
           "showarrow": false,
           "text": "",
           "x": "LR",
           "xanchor": "center",
           "y": "TF-IDF",
           "yanchor": "bottom",
           "z": 0.515527950310559
          },
          {
           "font": {
            "size": 12
           },
           "showarrow": false,
           "text": "",
           "x": "PAC",
           "xanchor": "center",
           "y": "TF-IDF",
           "yanchor": "bottom",
           "z": 0.9289660615627466
          },
          {
           "font": {
            "size": 12
           },
           "showarrow": false,
           "text": "",
           "x": "PAC",
           "xanchor": "center",
           "y": "TF-IDF",
           "yanchor": "bottom",
           "z": 0.9293606945540647
          },
          {
           "font": {
            "size": 12
           },
           "showarrow": false,
           "text": "",
           "x": "PAC",
           "xanchor": "center",
           "y": "TF-IDF",
           "yanchor": "bottom",
           "z": 0.9779116465863453
          },
          {
           "font": {
            "size": 12
           },
           "showarrow": false,
           "text": "",
           "x": "PAC",
           "xanchor": "center",
           "y": "TF-IDF",
           "yanchor": "bottom",
           "z": 0.48136645962732916
          },
          {
           "font": {
            "size": 12
           },
           "showarrow": false,
           "text": "",
           "x": "SGD",
           "xanchor": "center",
           "y": "TF-IDF",
           "yanchor": "bottom",
           "z": 0.9269928966061562
          },
          {
           "font": {
            "size": 12
           },
           "showarrow": false,
           "text": "",
           "x": "SGD",
           "xanchor": "center",
           "y": "TF-IDF",
           "yanchor": "bottom",
           "z": 0.9297553275453828
          },
          {
           "font": {
            "size": 12
           },
           "showarrow": false,
           "text": "",
           "x": "SGD",
           "xanchor": "center",
           "y": "TF-IDF",
           "yanchor": "bottom",
           "z": 0.9919678714859438
          },
          {
           "font": {
            "size": 12
           },
           "showarrow": false,
           "text": "",
           "x": "SGD",
           "xanchor": "center",
           "y": "TF-IDF",
           "yanchor": "bottom",
           "z": 0.4937888198757764
          }
         ],
         "xaxis": {
          "title": {
           "text": "Classifier/Model"
          }
         },
         "yaxis": {
          "title": {
           "text": "Vectorizer"
          }
         },
         "zaxis": {
          "title": {
           "text": "Accuracy"
          }
         }
        },
        "template": {
         "data": {
          "bar": [
           {
            "error_x": {
             "color": "#2a3f5f"
            },
            "error_y": {
             "color": "#2a3f5f"
            },
            "marker": {
             "line": {
              "color": "#E5ECF6",
              "width": 0.5
             },
             "pattern": {
              "fillmode": "overlay",
              "size": 10,
              "solidity": 0.2
             }
            },
            "type": "bar"
           }
          ],
          "barpolar": [
           {
            "marker": {
             "line": {
              "color": "#E5ECF6",
              "width": 0.5
             },
             "pattern": {
              "fillmode": "overlay",
              "size": 10,
              "solidity": 0.2
             }
            },
            "type": "barpolar"
           }
          ],
          "carpet": [
           {
            "aaxis": {
             "endlinecolor": "#2a3f5f",
             "gridcolor": "white",
             "linecolor": "white",
             "minorgridcolor": "white",
             "startlinecolor": "#2a3f5f"
            },
            "baxis": {
             "endlinecolor": "#2a3f5f",
             "gridcolor": "white",
             "linecolor": "white",
             "minorgridcolor": "white",
             "startlinecolor": "#2a3f5f"
            },
            "type": "carpet"
           }
          ],
          "choropleth": [
           {
            "colorbar": {
             "outlinewidth": 0,
             "ticks": ""
            },
            "type": "choropleth"
           }
          ],
          "contour": [
           {
            "colorbar": {
             "outlinewidth": 0,
             "ticks": ""
            },
            "colorscale": [
             [
              0,
              "#0d0887"
             ],
             [
              0.1111111111111111,
              "#46039f"
             ],
             [
              0.2222222222222222,
              "#7201a8"
             ],
             [
              0.3333333333333333,
              "#9c179e"
             ],
             [
              0.4444444444444444,
              "#bd3786"
             ],
             [
              0.5555555555555556,
              "#d8576b"
             ],
             [
              0.6666666666666666,
              "#ed7953"
             ],
             [
              0.7777777777777778,
              "#fb9f3a"
             ],
             [
              0.8888888888888888,
              "#fdca26"
             ],
             [
              1,
              "#f0f921"
             ]
            ],
            "type": "contour"
           }
          ],
          "contourcarpet": [
           {
            "colorbar": {
             "outlinewidth": 0,
             "ticks": ""
            },
            "type": "contourcarpet"
           }
          ],
          "heatmap": [
           {
            "colorbar": {
             "outlinewidth": 0,
             "ticks": ""
            },
            "colorscale": [
             [
              0,
              "#0d0887"
             ],
             [
              0.1111111111111111,
              "#46039f"
             ],
             [
              0.2222222222222222,
              "#7201a8"
             ],
             [
              0.3333333333333333,
              "#9c179e"
             ],
             [
              0.4444444444444444,
              "#bd3786"
             ],
             [
              0.5555555555555556,
              "#d8576b"
             ],
             [
              0.6666666666666666,
              "#ed7953"
             ],
             [
              0.7777777777777778,
              "#fb9f3a"
             ],
             [
              0.8888888888888888,
              "#fdca26"
             ],
             [
              1,
              "#f0f921"
             ]
            ],
            "type": "heatmap"
           }
          ],
          "heatmapgl": [
           {
            "colorbar": {
             "outlinewidth": 0,
             "ticks": ""
            },
            "colorscale": [
             [
              0,
              "#0d0887"
             ],
             [
              0.1111111111111111,
              "#46039f"
             ],
             [
              0.2222222222222222,
              "#7201a8"
             ],
             [
              0.3333333333333333,
              "#9c179e"
             ],
             [
              0.4444444444444444,
              "#bd3786"
             ],
             [
              0.5555555555555556,
              "#d8576b"
             ],
             [
              0.6666666666666666,
              "#ed7953"
             ],
             [
              0.7777777777777778,
              "#fb9f3a"
             ],
             [
              0.8888888888888888,
              "#fdca26"
             ],
             [
              1,
              "#f0f921"
             ]
            ],
            "type": "heatmapgl"
           }
          ],
          "histogram": [
           {
            "marker": {
             "pattern": {
              "fillmode": "overlay",
              "size": 10,
              "solidity": 0.2
             }
            },
            "type": "histogram"
           }
          ],
          "histogram2d": [
           {
            "colorbar": {
             "outlinewidth": 0,
             "ticks": ""
            },
            "colorscale": [
             [
              0,
              "#0d0887"
             ],
             [
              0.1111111111111111,
              "#46039f"
             ],
             [
              0.2222222222222222,
              "#7201a8"
             ],
             [
              0.3333333333333333,
              "#9c179e"
             ],
             [
              0.4444444444444444,
              "#bd3786"
             ],
             [
              0.5555555555555556,
              "#d8576b"
             ],
             [
              0.6666666666666666,
              "#ed7953"
             ],
             [
              0.7777777777777778,
              "#fb9f3a"
             ],
             [
              0.8888888888888888,
              "#fdca26"
             ],
             [
              1,
              "#f0f921"
             ]
            ],
            "type": "histogram2d"
           }
          ],
          "histogram2dcontour": [
           {
            "colorbar": {
             "outlinewidth": 0,
             "ticks": ""
            },
            "colorscale": [
             [
              0,
              "#0d0887"
             ],
             [
              0.1111111111111111,
              "#46039f"
             ],
             [
              0.2222222222222222,
              "#7201a8"
             ],
             [
              0.3333333333333333,
              "#9c179e"
             ],
             [
              0.4444444444444444,
              "#bd3786"
             ],
             [
              0.5555555555555556,
              "#d8576b"
             ],
             [
              0.6666666666666666,
              "#ed7953"
             ],
             [
              0.7777777777777778,
              "#fb9f3a"
             ],
             [
              0.8888888888888888,
              "#fdca26"
             ],
             [
              1,
              "#f0f921"
             ]
            ],
            "type": "histogram2dcontour"
           }
          ],
          "mesh3d": [
           {
            "colorbar": {
             "outlinewidth": 0,
             "ticks": ""
            },
            "type": "mesh3d"
           }
          ],
          "parcoords": [
           {
            "line": {
             "colorbar": {
              "outlinewidth": 0,
              "ticks": ""
             }
            },
            "type": "parcoords"
           }
          ],
          "pie": [
           {
            "automargin": true,
            "type": "pie"
           }
          ],
          "scatter": [
           {
            "fillpattern": {
             "fillmode": "overlay",
             "size": 10,
             "solidity": 0.2
            },
            "type": "scatter"
           }
          ],
          "scatter3d": [
           {
            "line": {
             "colorbar": {
              "outlinewidth": 0,
              "ticks": ""
             }
            },
            "marker": {
             "colorbar": {
              "outlinewidth": 0,
              "ticks": ""
             }
            },
            "type": "scatter3d"
           }
          ],
          "scattercarpet": [
           {
            "marker": {
             "colorbar": {
              "outlinewidth": 0,
              "ticks": ""
             }
            },
            "type": "scattercarpet"
           }
          ],
          "scattergeo": [
           {
            "marker": {
             "colorbar": {
              "outlinewidth": 0,
              "ticks": ""
             }
            },
            "type": "scattergeo"
           }
          ],
          "scattergl": [
           {
            "marker": {
             "colorbar": {
              "outlinewidth": 0,
              "ticks": ""
             }
            },
            "type": "scattergl"
           }
          ],
          "scattermapbox": [
           {
            "marker": {
             "colorbar": {
              "outlinewidth": 0,
              "ticks": ""
             }
            },
            "type": "scattermapbox"
           }
          ],
          "scatterpolar": [
           {
            "marker": {
             "colorbar": {
              "outlinewidth": 0,
              "ticks": ""
             }
            },
            "type": "scatterpolar"
           }
          ],
          "scatterpolargl": [
           {
            "marker": {
             "colorbar": {
              "outlinewidth": 0,
              "ticks": ""
             }
            },
            "type": "scatterpolargl"
           }
          ],
          "scatterternary": [
           {
            "marker": {
             "colorbar": {
              "outlinewidth": 0,
              "ticks": ""
             }
            },
            "type": "scatterternary"
           }
          ],
          "surface": [
           {
            "colorbar": {
             "outlinewidth": 0,
             "ticks": ""
            },
            "colorscale": [
             [
              0,
              "#0d0887"
             ],
             [
              0.1111111111111111,
              "#46039f"
             ],
             [
              0.2222222222222222,
              "#7201a8"
             ],
             [
              0.3333333333333333,
              "#9c179e"
             ],
             [
              0.4444444444444444,
              "#bd3786"
             ],
             [
              0.5555555555555556,
              "#d8576b"
             ],
             [
              0.6666666666666666,
              "#ed7953"
             ],
             [
              0.7777777777777778,
              "#fb9f3a"
             ],
             [
              0.8888888888888888,
              "#fdca26"
             ],
             [
              1,
              "#f0f921"
             ]
            ],
            "type": "surface"
           }
          ],
          "table": [
           {
            "cells": {
             "fill": {
              "color": "#EBF0F8"
             },
             "line": {
              "color": "white"
             }
            },
            "header": {
             "fill": {
              "color": "#C8D4E3"
             },
             "line": {
              "color": "white"
             }
            },
            "type": "table"
           }
          ]
         },
         "layout": {
          "annotationdefaults": {
           "arrowcolor": "#2a3f5f",
           "arrowhead": 0,
           "arrowwidth": 1
          },
          "autotypenumbers": "strict",
          "coloraxis": {
           "colorbar": {
            "outlinewidth": 0,
            "ticks": ""
           }
          },
          "colorscale": {
           "diverging": [
            [
             0,
             "#8e0152"
            ],
            [
             0.1,
             "#c51b7d"
            ],
            [
             0.2,
             "#de77ae"
            ],
            [
             0.3,
             "#f1b6da"
            ],
            [
             0.4,
             "#fde0ef"
            ],
            [
             0.5,
             "#f7f7f7"
            ],
            [
             0.6,
             "#e6f5d0"
            ],
            [
             0.7,
             "#b8e186"
            ],
            [
             0.8,
             "#7fbc41"
            ],
            [
             0.9,
             "#4d9221"
            ],
            [
             1,
             "#276419"
            ]
           ],
           "sequential": [
            [
             0,
             "#0d0887"
            ],
            [
             0.1111111111111111,
             "#46039f"
            ],
            [
             0.2222222222222222,
             "#7201a8"
            ],
            [
             0.3333333333333333,
             "#9c179e"
            ],
            [
             0.4444444444444444,
             "#bd3786"
            ],
            [
             0.5555555555555556,
             "#d8576b"
            ],
            [
             0.6666666666666666,
             "#ed7953"
            ],
            [
             0.7777777777777778,
             "#fb9f3a"
            ],
            [
             0.8888888888888888,
             "#fdca26"
            ],
            [
             1,
             "#f0f921"
            ]
           ],
           "sequentialminus": [
            [
             0,
             "#0d0887"
            ],
            [
             0.1111111111111111,
             "#46039f"
            ],
            [
             0.2222222222222222,
             "#7201a8"
            ],
            [
             0.3333333333333333,
             "#9c179e"
            ],
            [
             0.4444444444444444,
             "#bd3786"
            ],
            [
             0.5555555555555556,
             "#d8576b"
            ],
            [
             0.6666666666666666,
             "#ed7953"
            ],
            [
             0.7777777777777778,
             "#fb9f3a"
            ],
            [
             0.8888888888888888,
             "#fdca26"
            ],
            [
             1,
             "#f0f921"
            ]
           ]
          },
          "colorway": [
           "#636efa",
           "#EF553B",
           "#00cc96",
           "#ab63fa",
           "#FFA15A",
           "#19d3f3",
           "#FF6692",
           "#B6E880",
           "#FF97FF",
           "#FECB52"
          ],
          "font": {
           "color": "#2a3f5f"
          },
          "geo": {
           "bgcolor": "white",
           "lakecolor": "white",
           "landcolor": "#E5ECF6",
           "showlakes": true,
           "showland": true,
           "subunitcolor": "white"
          },
          "hoverlabel": {
           "align": "left"
          },
          "hovermode": "closest",
          "mapbox": {
           "style": "light"
          },
          "paper_bgcolor": "white",
          "plot_bgcolor": "#E5ECF6",
          "polar": {
           "angularaxis": {
            "gridcolor": "white",
            "linecolor": "white",
            "ticks": ""
           },
           "bgcolor": "#E5ECF6",
           "radialaxis": {
            "gridcolor": "white",
            "linecolor": "white",
            "ticks": ""
           }
          },
          "scene": {
           "xaxis": {
            "backgroundcolor": "#E5ECF6",
            "gridcolor": "white",
            "gridwidth": 2,
            "linecolor": "white",
            "showbackground": true,
            "ticks": "",
            "zerolinecolor": "white"
           },
           "yaxis": {
            "backgroundcolor": "#E5ECF6",
            "gridcolor": "white",
            "gridwidth": 2,
            "linecolor": "white",
            "showbackground": true,
            "ticks": "",
            "zerolinecolor": "white"
           },
           "zaxis": {
            "backgroundcolor": "#E5ECF6",
            "gridcolor": "white",
            "gridwidth": 2,
            "linecolor": "white",
            "showbackground": true,
            "ticks": "",
            "zerolinecolor": "white"
           }
          },
          "shapedefaults": {
           "line": {
            "color": "#2a3f5f"
           }
          },
          "ternary": {
           "aaxis": {
            "gridcolor": "white",
            "linecolor": "white",
            "ticks": ""
           },
           "baxis": {
            "gridcolor": "white",
            "linecolor": "white",
            "ticks": ""
           },
           "bgcolor": "#E5ECF6",
           "caxis": {
            "gridcolor": "white",
            "linecolor": "white",
            "ticks": ""
           }
          },
          "title": {
           "x": 0.05
          },
          "xaxis": {
           "automargin": true,
           "gridcolor": "white",
           "linecolor": "white",
           "ticks": "",
           "title": {
            "standoff": 15
           },
           "zerolinecolor": "white",
           "zerolinewidth": 2
          },
          "yaxis": {
           "automargin": true,
           "gridcolor": "white",
           "linecolor": "white",
           "ticks": "",
           "title": {
            "standoff": 15
           },
           "zerolinecolor": "white",
           "zerolinewidth": 2
          }
         }
        },
        "title": {
         "text": "Accuracy Comparison for Different Classifiers/Models and Vectorizers"
        }
       }
      }
     },
     "metadata": {},
     "output_type": "display_data"
    },
    {
     "data": {
      "image/png": "[encoded data removed]",
      "text/plain": [
       "<Figure size 1000x800 with 2 Axes>"
      ]
     },
     "metadata": {},
     "output_type": "display_data"
    },
    {
     "data": {
      "image/png": "[encoded data removed]",
      "text/plain": [
       "<Figure size 1000x800 with 2 Axes>"
      ]
     },
     "metadata": {},
     "output_type": "display_data"
    },
    {
     "data": {
      "image/png": "[encoded data removed]",
      "text/plain": [
       "<Figure size 1000x800 with 2 Axes>"
      ]
     },
     "metadata": {},
     "output_type": "display_data"
    },
    {
     "data": {
      "image/png": "[encoded data removed]",
      "text/plain": [
       "<Figure size 1000x800 with 2 Axes>"
      ]
     },
     "metadata": {},
     "output_type": "display_data"
    },
    {
     "data": {
      "text/html": [
       "<div>\n",
       "<style scoped>\n",
       "    .dataframe tbody tr th:only-of-type {\n",
       "        vertical-align: middle;\n",
       "    }\n",
       "\n",
       "    .dataframe tbody tr th {\n",
       "        vertical-align: top;\n",
       "    }\n",
       "\n",
       "    .dataframe thead th {\n",
       "        text-align: right;\n",
       "    }\n",
       "</style>\n",
       "<table border=\"1\" class=\"dataframe\">\n",
       "  <thead>\n",
       "    <tr style=\"text-align: right;\">\n",
       "      <th></th>\n",
       "      <th>Vectorizer</th>\n",
       "      <th>Classifier</th>\n",
       "      <th>Model</th>\n",
       "      <th>Dataset</th>\n",
       "      <th>Accuracy</th>\n",
       "    </tr>\n",
       "  </thead>\n",
       "  <tbody>\n",
       "    <tr>\n",
       "      <th>4</th>\n",
       "      <td>TfidfVectorizer</td>\n",
       "      <td>PassiveAggressiveClassifier</td>\n",
       "      <td>Sequential</td>\n",
       "      <td>Fake news during normal times - 1 Dataset</td>\n",
       "      <td>0.929755</td>\n",
       "    </tr>\n",
       "    <tr>\n",
       "      <th>3</th>\n",
       "      <td>TfidfVectorizer</td>\n",
       "      <td>PassiveAggressiveClassifier</td>\n",
       "      <td>Sequential</td>\n",
       "      <td>Fake news during normal times - 2 Dataset</td>\n",
       "      <td>0.930545</td>\n",
       "    </tr>\n",
       "    <tr>\n",
       "      <th>46</th>\n",
       "      <td>HashingVectorizer</td>\n",
       "      <td>SGDClassifier</td>\n",
       "      <td>Sequential</td>\n",
       "      <td>Iraq war fake news Dataset</td>\n",
       "      <td>0.995984</td>\n",
       "    </tr>\n",
       "    <tr>\n",
       "      <th>9</th>\n",
       "      <td>TfidfVectorizer</td>\n",
       "      <td>LogisticRegression</td>\n",
       "      <td>Sequential</td>\n",
       "      <td>Syrian war fake news Dataset</td>\n",
       "      <td>0.515528</td>\n",
       "    </tr>\n",
       "  </tbody>\n",
       "</table>\n",
       "</div>"
      ],
      "text/plain": [
       "           Vectorizer                   Classifier       Model  \\\n",
       "4     TfidfVectorizer  PassiveAggressiveClassifier  Sequential   \n",
       "3     TfidfVectorizer  PassiveAggressiveClassifier  Sequential   \n",
       "46  HashingVectorizer                SGDClassifier  Sequential   \n",
       "9     TfidfVectorizer           LogisticRegression  Sequential   \n",
       "\n",
       "                                      Dataset  Accuracy  \n",
       "4   Fake news during normal times - 1 Dataset  0.929755  \n",
       "3   Fake news during normal times - 2 Dataset  0.930545  \n",
       "46                 Iraq war fake news Dataset  0.995984  \n",
       "9                Syrian war fake news Dataset  0.515528  "
      ]
     },
     "execution_count": 14,
     "metadata": {},
     "output_type": "execute_result"
    }
   ],
   "source": [
    "\n",
    "\n",
    "# Create a scatter plot\n",
    "import plotly.graph_objects as go\n",
    "fig = go.Figure(data=go.Scatter3d(\n",
    "    x=unique_results['Classifier'].map(classifier_names),\n",
    "    y=unique_results['Vectorizer'].map(vectorizer_names),\n",
    "    z=unique_results['Accuracy'],\n",
    "    mode='markers',\n",
    "    marker=dict(\n",
    "        size=10,\n",
    "        color=unique_results['Dataset'].map(dataset_labels),\n",
    "        colorscale='Viridis',\n",
    "        opacity=0.8\n",
    "    )\n",
    "))\n",
    "\n",
    "# Set axis labels\n",
    "fig.update_layout(scene=dict(\n",
    "    xaxis=dict(title='Classifier/Model'),\n",
    "    yaxis=dict(title='Vectorizer'),\n",
    "    zaxis=dict(title='Accuracy'),\n",
    "))\n",
    "\n",
    "# Add labels to data points\n",
    "fig.update_layout(scene=dict(\n",
    "    annotations=[\n",
    "        dict(\n",
    "            x=unique_results['Classifier'].map(classifier_names)[i],\n",
    "            y=unique_results['Vectorizer'].map(vectorizer_names)[i],\n",
    "            z=unique_results['Accuracy'][i],\n",
    "            text=\"\",\n",
    "            showarrow=False,\n",
    "            font=dict(size=12),\n",
    "            xanchor='center',\n",
    "            yanchor='bottom'\n",
    "        ) for i in range(len(unique_results))\n",
    "    ]\n",
    "))\n",
    "\n",
    "# Set plot title\n",
    "fig.update_layout(title='Accuracy Comparison for Different Classifiers/Models and Vectorizers')\n",
    "\n",
    "# Show the plot\n",
    "fig.show()\n",
    "import seaborn as sns \n",
    "\n",
    "# Get unique dataset names\n",
    "dataset_names = results_df['Dataset'].unique()\n",
    "\n",
    "# Iterate over dataset names\n",
    "for dataset_name in dataset_names:\n",
    "    # Filter results for the current dataset\n",
    "    dataset_results = results_df[results_df['Dataset'] == dataset_name]\n",
    "\n",
    "    # Pivot the dataset results\n",
    "    pivot_table = dataset_results.pivot_table(index='Vectorizer', columns='Classifier', values='Accuracy')\n",
    "\n",
    "    # Create a heatmap\n",
    "    plt.figure(figsize=(10, 8))\n",
    "    sns.heatmap(pivot_table, annot=True, cmap='YlGnBu')\n",
    "    plt.title(f'Accuracy Comparison: Vectorizer vs Classifier ({dataset_name})')\n",
    "    plt.xlabel('Classifier')\n",
    "    plt.ylabel('Vectorizer')\n",
    "    plt.show()\n",
    "import pandas as pd\n",
    "\n",
    "# Convert the results to a DataFrame\n",
    "results_df = pd.DataFrame(results, columns=['Vectorizer', 'Classifier', 'Model', 'Dataset', 'Accuracy'])\n",
    "\n",
    "# Group the results by 'Dataset' and find the row with the maximum accuracy for each group\n",
    "best_results = results_df.groupby('Dataset')['Accuracy'].idxmax()\n",
    "best_combinations = results_df.loc[best_results]\n",
    "\n",
    "# Display the best accuracy combinations for each dataset using the head() method\n",
    "best_combinations_head = best_combinations.head()\n",
    "best_combinations_head.head()\n"
   ]
  },
  {
   "cell_type": "code",
   "execution_count": 15,
   "metadata": {},
   "outputs": [
    {
     "data": {
      "application/vnd.plotly.v1+json": {
       "config": {
        "plotlyServerURL": "https://plot.ly"
       },
       "data": [
        {
         "marker": {
          "color": [
           0,
           1,
           2,
           3,
           0,
           1,
           2,
           3,
           0,
           1,
           2,
           3,
           0,
           1,
           2,
           3,
           0,
           1,
           2,
           3,
           0,
           1,
           2,
           3,
           0,
           1,
           2,
           3,
           0,
           1,
           2,
           3,
           0,
           1,
           2,
           3
          ],
          "colorscale": [
           [
            0,
            "#440154"
           ],
           [
            0.1111111111111111,
            "#482878"
           ],
           [
            0.2222222222222222,
            "#3e4989"
           ],
           [
            0.3333333333333333,
            "#31688e"
           ],
           [
            0.4444444444444444,
            "#26828e"
           ],
           [
            0.5555555555555556,
            "#1f9e89"
           ],
           [
            0.6666666666666666,
            "#35b779"
           ],
           [
            0.7777777777777778,
            "#6ece58"
           ],
           [
            0.8888888888888888,
            "#b5de2b"
           ],
           [
            1,
            "#fde725"
           ]
          ],
          "opacity": 0.8,
          "size": 10
         },
         "mode": "markers",
         "type": "scatter3d",
         "x": [
          "LR",
          "LR",
          "LR",
          "LR",
          "PAC",
          "PAC",
          "PAC",
          "PAC",
          "SGD",
          "SGD",
          "SGD",
          "SGD",
          "LR",
          "LR",
          "LR",
          "LR",
          "PAC",
          "PAC",
          "PAC",
          "PAC",
          "SGD",
          "SGD",
          "SGD",
          "SGD",
          "LR",
          "LR",
          "LR",
          "LR",
          "PAC",
          "PAC",
          "PAC",
          "PAC",
          "SGD",
          "SGD",
          "SGD",
          "SGD"
         ],
         "y": [
          "CV",
          "CV",
          "CV",
          "CV",
          "CV",
          "CV",
          "CV",
          "CV",
          "CV",
          "CV",
          "CV",
          "CV",
          "Hashing",
          "Hashing",
          "Hashing",
          "Hashing",
          "Hashing",
          "Hashing",
          "Hashing",
          "Hashing",
          "Hashing",
          "Hashing",
          "Hashing",
          "Hashing",
          "TF-IDF",
          "TF-IDF",
          "TF-IDF",
          "TF-IDF",
          "TF-IDF",
          "TF-IDF",
          "TF-IDF",
          "TF-IDF",
          "TF-IDF",
          "TF-IDF",
          "TF-IDF",
          "TF-IDF"
         ],
         "z": [
          0.914759273875296,
          0.914759273875296,
          0.9959839357429718,
          0.484472049689441,
          0.9084451460142068,
          0.9116022099447514,
          0.9477911646586346,
          0.4720496894409938,
          0.9155485398579322,
          0.909234411996843,
          0.963855421686747,
          0.4937888198757764,
          0.909234411996843,
          0.909234411996843,
          0.9919678714859438,
          0.5031055900621118,
          0.9234411996842935,
          0.9226519337016574,
          0.9779116465863453,
          0.4937888198757764,
          0.9214680347277032,
          0.920678768745067,
          0.9919678714859437,
          0.4720496894409938,
          0.9171270718232044,
          0.9171270718232044,
          0.9678714859437751,
          0.515527950310559,
          0.9289660615627466,
          0.9293606945540647,
          0.9779116465863453,
          0.48136645962732916,
          0.9269928966061562,
          0.9297553275453828,
          0.9919678714859438,
          0.4937888198757764
         ]
        }
       ],
       "layout": {
        "scene": {
         "annotations": [
          {
           "font": {
            "size": 12
           },
           "showarrow": false,
           "text": "",
           "x": "LR",
           "xanchor": "center",
           "y": "CV",
           "yanchor": "bottom",
           "z": 0.914759273875296
          },
          {
           "font": {
            "size": 12
           },
           "showarrow": false,
           "text": "",
           "x": "LR",
           "xanchor": "center",
           "y": "CV",
           "yanchor": "bottom",
           "z": 0.914759273875296
          },
          {
           "font": {
            "size": 12
           },
           "showarrow": false,
           "text": "",
           "x": "LR",
           "xanchor": "center",
           "y": "CV",
           "yanchor": "bottom",
           "z": 0.9959839357429718
          },
          {
           "font": {
            "size": 12
           },
           "showarrow": false,
           "text": "",
           "x": "LR",
           "xanchor": "center",
           "y": "CV",
           "yanchor": "bottom",
           "z": 0.484472049689441
          },
          {
           "font": {
            "size": 12
           },
           "showarrow": false,
           "text": "",
           "x": "PAC",
           "xanchor": "center",
           "y": "CV",
           "yanchor": "bottom",
           "z": 0.9084451460142068
          },
          {
           "font": {
            "size": 12
           },
           "showarrow": false,
           "text": "",
           "x": "PAC",
           "xanchor": "center",
           "y": "CV",
           "yanchor": "bottom",
           "z": 0.9116022099447514
          },
          {
           "font": {
            "size": 12
           },
           "showarrow": false,
           "text": "",
           "x": "PAC",
           "xanchor": "center",
           "y": "CV",
           "yanchor": "bottom",
           "z": 0.9477911646586346
          },
          {
           "font": {
            "size": 12
           },
           "showarrow": false,
           "text": "",
           "x": "PAC",
           "xanchor": "center",
           "y": "CV",
           "yanchor": "bottom",
           "z": 0.4720496894409938
          },
          {
           "font": {
            "size": 12
           },
           "showarrow": false,
           "text": "",
           "x": "SGD",
           "xanchor": "center",
           "y": "CV",
           "yanchor": "bottom",
           "z": 0.9155485398579322
          },
          {
           "font": {
            "size": 12
           },
           "showarrow": false,
           "text": "",
           "x": "SGD",
           "xanchor": "center",
           "y": "CV",
           "yanchor": "bottom",
           "z": 0.909234411996843
          },
          {
           "font": {
            "size": 12
           },
           "showarrow": false,
           "text": "",
           "x": "SGD",
           "xanchor": "center",
           "y": "CV",
           "yanchor": "bottom",
           "z": 0.963855421686747
          },
          {
           "font": {
            "size": 12
           },
           "showarrow": false,
           "text": "",
           "x": "SGD",
           "xanchor": "center",
           "y": "CV",
           "yanchor": "bottom",
           "z": 0.4937888198757764
          },
          {
           "font": {
            "size": 12
           },
           "showarrow": false,
           "text": "",
           "x": "LR",
           "xanchor": "center",
           "y": "Hashing",
           "yanchor": "bottom",
           "z": 0.909234411996843
          },
          {
           "font": {
            "size": 12
           },
           "showarrow": false,
           "text": "",
           "x": "LR",
           "xanchor": "center",
           "y": "Hashing",
           "yanchor": "bottom",
           "z": 0.909234411996843
          },
          {
           "font": {
            "size": 12
           },
           "showarrow": false,
           "text": "",
           "x": "LR",
           "xanchor": "center",
           "y": "Hashing",
           "yanchor": "bottom",
           "z": 0.9919678714859438
          },
          {
           "font": {
            "size": 12
           },
           "showarrow": false,
           "text": "",
           "x": "LR",
           "xanchor": "center",
           "y": "Hashing",
           "yanchor": "bottom",
           "z": 0.5031055900621118
          },
          {
           "font": {
            "size": 12
           },
           "showarrow": false,
           "text": "",
           "x": "PAC",
           "xanchor": "center",
           "y": "Hashing",
           "yanchor": "bottom",
           "z": 0.9234411996842935
          },
          {
           "font": {
            "size": 12
           },
           "showarrow": false,
           "text": "",
           "x": "PAC",
           "xanchor": "center",
           "y": "Hashing",
           "yanchor": "bottom",
           "z": 0.9226519337016574
          },
          {
           "font": {
            "size": 12
           },
           "showarrow": false,
           "text": "",
           "x": "PAC",
           "xanchor": "center",
           "y": "Hashing",
           "yanchor": "bottom",
           "z": 0.9779116465863453
          },
          {
           "font": {
            "size": 12
           },
           "showarrow": false,
           "text": "",
           "x": "PAC",
           "xanchor": "center",
           "y": "Hashing",
           "yanchor": "bottom",
           "z": 0.4937888198757764
          },
          {
           "font": {
            "size": 12
           },
           "showarrow": false,
           "text": "",
           "x": "SGD",
           "xanchor": "center",
           "y": "Hashing",
           "yanchor": "bottom",
           "z": 0.9214680347277032
          },
          {
           "font": {
            "size": 12
           },
           "showarrow": false,
           "text": "",
           "x": "SGD",
           "xanchor": "center",
           "y": "Hashing",
           "yanchor": "bottom",
           "z": 0.920678768745067
          },
          {
           "font": {
            "size": 12
           },
           "showarrow": false,
           "text": "",
           "x": "SGD",
           "xanchor": "center",
           "y": "Hashing",
           "yanchor": "bottom",
           "z": 0.9919678714859437
          },
          {
           "font": {
            "size": 12
           },
           "showarrow": false,
           "text": "",
           "x": "SGD",
           "xanchor": "center",
           "y": "Hashing",
           "yanchor": "bottom",
           "z": 0.4720496894409938
          },
          {
           "font": {
            "size": 12
           },
           "showarrow": false,
           "text": "",
           "x": "LR",
           "xanchor": "center",
           "y": "TF-IDF",
           "yanchor": "bottom",
           "z": 0.9171270718232044
          },
          {
           "font": {
            "size": 12
           },
           "showarrow": false,
           "text": "",
           "x": "LR",
           "xanchor": "center",
           "y": "TF-IDF",
           "yanchor": "bottom",
           "z": 0.9171270718232044
          },
          {
           "font": {
            "size": 12
           },
           "showarrow": false,
           "text": "",
           "x": "LR",
           "xanchor": "center",
           "y": "TF-IDF",
           "yanchor": "bottom",
           "z": 0.9678714859437751
          },
          {
           "font": {
            "size": 12
           },
           "showarrow": false,
           "text": "",
           "x": "LR",
           "xanchor": "center",
           "y": "TF-IDF",
           "yanchor": "bottom",
           "z": 0.515527950310559
          },
          {
           "font": {
            "size": 12
           },
           "showarrow": false,
           "text": "",
           "x": "PAC",
           "xanchor": "center",
           "y": "TF-IDF",
           "yanchor": "bottom",
           "z": 0.9289660615627466
          },
          {
           "font": {
            "size": 12
           },
           "showarrow": false,
           "text": "",
           "x": "PAC",
           "xanchor": "center",
           "y": "TF-IDF",
           "yanchor": "bottom",
           "z": 0.9293606945540647
          },
          {
           "font": {
            "size": 12
           },
           "showarrow": false,
           "text": "",
           "x": "PAC",
           "xanchor": "center",
           "y": "TF-IDF",
           "yanchor": "bottom",
           "z": 0.9779116465863453
          },
          {
           "font": {
            "size": 12
           },
           "showarrow": false,
           "text": "",
           "x": "PAC",
           "xanchor": "center",
           "y": "TF-IDF",
           "yanchor": "bottom",
           "z": 0.48136645962732916
          },
          {
           "font": {
            "size": 12
           },
           "showarrow": false,
           "text": "",
           "x": "SGD",
           "xanchor": "center",
           "y": "TF-IDF",
           "yanchor": "bottom",
           "z": 0.9269928966061562
          },
          {
           "font": {
            "size": 12
           },
           "showarrow": false,
           "text": "",
           "x": "SGD",
           "xanchor": "center",
           "y": "TF-IDF",
           "yanchor": "bottom",
           "z": 0.9297553275453828
          },
          {
           "font": {
            "size": 12
           },
           "showarrow": false,
           "text": "",
           "x": "SGD",
           "xanchor": "center",
           "y": "TF-IDF",
           "yanchor": "bottom",
           "z": 0.9919678714859438
          },
          {
           "font": {
            "size": 12
           },
           "showarrow": false,
           "text": "",
           "x": "SGD",
           "xanchor": "center",
           "y": "TF-IDF",
           "yanchor": "bottom",
           "z": 0.4937888198757764
          }
         ],
         "xaxis": {
          "title": {
           "text": "Classifier/Model"
          }
         },
         "yaxis": {
          "title": {
           "text": "Vectorizer"
          }
         },
         "zaxis": {
          "title": {
           "text": "Accuracy"
          }
         }
        },
        "template": {
         "data": {
          "bar": [
           {
            "error_x": {
             "color": "#2a3f5f"
            },
            "error_y": {
             "color": "#2a3f5f"
            },
            "marker": {
             "line": {
              "color": "#E5ECF6",
              "width": 0.5
             },
             "pattern": {
              "fillmode": "overlay",
              "size": 10,
              "solidity": 0.2
             }
            },
            "type": "bar"
           }
          ],
          "barpolar": [
           {
            "marker": {
             "line": {
              "color": "#E5ECF6",
              "width": 0.5
             },
             "pattern": {
              "fillmode": "overlay",
              "size": 10,
              "solidity": 0.2
             }
            },
            "type": "barpolar"
           }
          ],
          "carpet": [
           {
            "aaxis": {
             "endlinecolor": "#2a3f5f",
             "gridcolor": "white",
             "linecolor": "white",
             "minorgridcolor": "white",
             "startlinecolor": "#2a3f5f"
            },
            "baxis": {
             "endlinecolor": "#2a3f5f",
             "gridcolor": "white",
             "linecolor": "white",
             "minorgridcolor": "white",
             "startlinecolor": "#2a3f5f"
            },
            "type": "carpet"
           }
          ],
          "choropleth": [
           {
            "colorbar": {
             "outlinewidth": 0,
             "ticks": ""
            },
            "type": "choropleth"
           }
          ],
          "contour": [
           {
            "colorbar": {
             "outlinewidth": 0,
             "ticks": ""
            },
            "colorscale": [
             [
              0,
              "#0d0887"
             ],
             [
              0.1111111111111111,
              "#46039f"
             ],
             [
              0.2222222222222222,
              "#7201a8"
             ],
             [
              0.3333333333333333,
              "#9c179e"
             ],
             [
              0.4444444444444444,
              "#bd3786"
             ],
             [
              0.5555555555555556,
              "#d8576b"
             ],
             [
              0.6666666666666666,
              "#ed7953"
             ],
             [
              0.7777777777777778,
              "#fb9f3a"
             ],
             [
              0.8888888888888888,
              "#fdca26"
             ],
             [
              1,
              "#f0f921"
             ]
            ],
            "type": "contour"
           }
          ],
          "contourcarpet": [
           {
            "colorbar": {
             "outlinewidth": 0,
             "ticks": ""
            },
            "type": "contourcarpet"
           }
          ],
          "heatmap": [
           {
            "colorbar": {
             "outlinewidth": 0,
             "ticks": ""
            },
            "colorscale": [
             [
              0,
              "#0d0887"
             ],
             [
              0.1111111111111111,
              "#46039f"
             ],
             [
              0.2222222222222222,
              "#7201a8"
             ],
             [
              0.3333333333333333,
              "#9c179e"
             ],
             [
              0.4444444444444444,
              "#bd3786"
             ],
             [
              0.5555555555555556,
              "#d8576b"
             ],
             [
              0.6666666666666666,
              "#ed7953"
             ],
             [
              0.7777777777777778,
              "#fb9f3a"
             ],
             [
              0.8888888888888888,
              "#fdca26"
             ],
             [
              1,
              "#f0f921"
             ]
            ],
            "type": "heatmap"
           }
          ],
          "heatmapgl": [
           {
            "colorbar": {
             "outlinewidth": 0,
             "ticks": ""
            },
            "colorscale": [
             [
              0,
              "#0d0887"
             ],
             [
              0.1111111111111111,
              "#46039f"
             ],
             [
              0.2222222222222222,
              "#7201a8"
             ],
             [
              0.3333333333333333,
              "#9c179e"
             ],
             [
              0.4444444444444444,
              "#bd3786"
             ],
             [
              0.5555555555555556,
              "#d8576b"
             ],
             [
              0.6666666666666666,
              "#ed7953"
             ],
             [
              0.7777777777777778,
              "#fb9f3a"
             ],
             [
              0.8888888888888888,
              "#fdca26"
             ],
             [
              1,
              "#f0f921"
             ]
            ],
            "type": "heatmapgl"
           }
          ],
          "histogram": [
           {
            "marker": {
             "pattern": {
              "fillmode": "overlay",
              "size": 10,
              "solidity": 0.2
             }
            },
            "type": "histogram"
           }
          ],
          "histogram2d": [
           {
            "colorbar": {
             "outlinewidth": 0,
             "ticks": ""
            },
            "colorscale": [
             [
              0,
              "#0d0887"
             ],
             [
              0.1111111111111111,
              "#46039f"
             ],
             [
              0.2222222222222222,
              "#7201a8"
             ],
             [
              0.3333333333333333,
              "#9c179e"
             ],
             [
              0.4444444444444444,
              "#bd3786"
             ],
             [
              0.5555555555555556,
              "#d8576b"
             ],
             [
              0.6666666666666666,
              "#ed7953"
             ],
             [
              0.7777777777777778,
              "#fb9f3a"
             ],
             [
              0.8888888888888888,
              "#fdca26"
             ],
             [
              1,
              "#f0f921"
             ]
            ],
            "type": "histogram2d"
           }
          ],
          "histogram2dcontour": [
           {
            "colorbar": {
             "outlinewidth": 0,
             "ticks": ""
            },
            "colorscale": [
             [
              0,
              "#0d0887"
             ],
             [
              0.1111111111111111,
              "#46039f"
             ],
             [
              0.2222222222222222,
              "#7201a8"
             ],
             [
              0.3333333333333333,
              "#9c179e"
             ],
             [
              0.4444444444444444,
              "#bd3786"
             ],
             [
              0.5555555555555556,
              "#d8576b"
             ],
             [
              0.6666666666666666,
              "#ed7953"
             ],
             [
              0.7777777777777778,
              "#fb9f3a"
             ],
             [
              0.8888888888888888,
              "#fdca26"
             ],
             [
              1,
              "#f0f921"
             ]
            ],
            "type": "histogram2dcontour"
           }
          ],
          "mesh3d": [
           {
            "colorbar": {
             "outlinewidth": 0,
             "ticks": ""
            },
            "type": "mesh3d"
           }
          ],
          "parcoords": [
           {
            "line": {
             "colorbar": {
              "outlinewidth": 0,
              "ticks": ""
             }
            },
            "type": "parcoords"
           }
          ],
          "pie": [
           {
            "automargin": true,
            "type": "pie"
           }
          ],
          "scatter": [
           {
            "fillpattern": {
             "fillmode": "overlay",
             "size": 10,
             "solidity": 0.2
            },
            "type": "scatter"
           }
          ],
          "scatter3d": [
           {
            "line": {
             "colorbar": {
              "outlinewidth": 0,
              "ticks": ""
             }
            },
            "marker": {
             "colorbar": {
              "outlinewidth": 0,
              "ticks": ""
             }
            },
            "type": "scatter3d"
           }
          ],
          "scattercarpet": [
           {
            "marker": {
             "colorbar": {
              "outlinewidth": 0,
              "ticks": ""
             }
            },
            "type": "scattercarpet"
           }
          ],
          "scattergeo": [
           {
            "marker": {
             "colorbar": {
              "outlinewidth": 0,
              "ticks": ""
             }
            },
            "type": "scattergeo"
           }
          ],
          "scattergl": [
           {
            "marker": {
             "colorbar": {
              "outlinewidth": 0,
              "ticks": ""
             }
            },
            "type": "scattergl"
           }
          ],
          "scattermapbox": [
           {
            "marker": {
             "colorbar": {
              "outlinewidth": 0,
              "ticks": ""
             }
            },
            "type": "scattermapbox"
           }
          ],
          "scatterpolar": [
           {
            "marker": {
             "colorbar": {
              "outlinewidth": 0,
              "ticks": ""
             }
            },
            "type": "scatterpolar"
           }
          ],
          "scatterpolargl": [
           {
            "marker": {
             "colorbar": {
              "outlinewidth": 0,
              "ticks": ""
             }
            },
            "type": "scatterpolargl"
           }
          ],
          "scatterternary": [
           {
            "marker": {
             "colorbar": {
              "outlinewidth": 0,
              "ticks": ""
             }
            },
            "type": "scatterternary"
           }
          ],
          "surface": [
           {
            "colorbar": {
             "outlinewidth": 0,
             "ticks": ""
            },
            "colorscale": [
             [
              0,
              "#0d0887"
             ],
             [
              0.1111111111111111,
              "#46039f"
             ],
             [
              0.2222222222222222,
              "#7201a8"
             ],
             [
              0.3333333333333333,
              "#9c179e"
             ],
             [
              0.4444444444444444,
              "#bd3786"
             ],
             [
              0.5555555555555556,
              "#d8576b"
             ],
             [
              0.6666666666666666,
              "#ed7953"
             ],
             [
              0.7777777777777778,
              "#fb9f3a"
             ],
             [
              0.8888888888888888,
              "#fdca26"
             ],
             [
              1,
              "#f0f921"
             ]
            ],
            "type": "surface"
           }
          ],
          "table": [
           {
            "cells": {
             "fill": {
              "color": "#EBF0F8"
             },
             "line": {
              "color": "white"
             }
            },
            "header": {
             "fill": {
              "color": "#C8D4E3"
             },
             "line": {
              "color": "white"
             }
            },
            "type": "table"
           }
          ]
         },
         "layout": {
          "annotationdefaults": {
           "arrowcolor": "#2a3f5f",
           "arrowhead": 0,
           "arrowwidth": 1
          },
          "autotypenumbers": "strict",
          "coloraxis": {
           "colorbar": {
            "outlinewidth": 0,
            "ticks": ""
           }
          },
          "colorscale": {
           "diverging": [
            [
             0,
             "#8e0152"
            ],
            [
             0.1,
             "#c51b7d"
            ],
            [
             0.2,
             "#de77ae"
            ],
            [
             0.3,
             "#f1b6da"
            ],
            [
             0.4,
             "#fde0ef"
            ],
            [
             0.5,
             "#f7f7f7"
            ],
            [
             0.6,
             "#e6f5d0"
            ],
            [
             0.7,
             "#b8e186"
            ],
            [
             0.8,
             "#7fbc41"
            ],
            [
             0.9,
             "#4d9221"
            ],
            [
             1,
             "#276419"
            ]
           ],
           "sequential": [
            [
             0,
             "#0d0887"
            ],
            [
             0.1111111111111111,
             "#46039f"
            ],
            [
             0.2222222222222222,
             "#7201a8"
            ],
            [
             0.3333333333333333,
             "#9c179e"
            ],
            [
             0.4444444444444444,
             "#bd3786"
            ],
            [
             0.5555555555555556,
             "#d8576b"
            ],
            [
             0.6666666666666666,
             "#ed7953"
            ],
            [
             0.7777777777777778,
             "#fb9f3a"
            ],
            [
             0.8888888888888888,
             "#fdca26"
            ],
            [
             1,
             "#f0f921"
            ]
           ],
           "sequentialminus": [
            [
             0,
             "#0d0887"
            ],
            [
             0.1111111111111111,
             "#46039f"
            ],
            [
             0.2222222222222222,
             "#7201a8"
            ],
            [
             0.3333333333333333,
             "#9c179e"
            ],
            [
             0.4444444444444444,
             "#bd3786"
            ],
            [
             0.5555555555555556,
             "#d8576b"
            ],
            [
             0.6666666666666666,
             "#ed7953"
            ],
            [
             0.7777777777777778,
             "#fb9f3a"
            ],
            [
             0.8888888888888888,
             "#fdca26"
            ],
            [
             1,
             "#f0f921"
            ]
           ]
          },
          "colorway": [
           "#636efa",
           "#EF553B",
           "#00cc96",
           "#ab63fa",
           "#FFA15A",
           "#19d3f3",
           "#FF6692",
           "#B6E880",
           "#FF97FF",
           "#FECB52"
          ],
          "font": {
           "color": "#2a3f5f"
          },
          "geo": {
           "bgcolor": "white",
           "lakecolor": "white",
           "landcolor": "#E5ECF6",
           "showlakes": true,
           "showland": true,
           "subunitcolor": "white"
          },
          "hoverlabel": {
           "align": "left"
          },
          "hovermode": "closest",
          "mapbox": {
           "style": "light"
          },
          "paper_bgcolor": "white",
          "plot_bgcolor": "#E5ECF6",
          "polar": {
           "angularaxis": {
            "gridcolor": "white",
            "linecolor": "white",
            "ticks": ""
           },
           "bgcolor": "#E5ECF6",
           "radialaxis": {
            "gridcolor": "white",
            "linecolor": "white",
            "ticks": ""
           }
          },
          "scene": {
           "xaxis": {
            "backgroundcolor": "#E5ECF6",
            "gridcolor": "white",
            "gridwidth": 2,
            "linecolor": "white",
            "showbackground": true,
            "ticks": "",
            "zerolinecolor": "white"
           },
           "yaxis": {
            "backgroundcolor": "#E5ECF6",
            "gridcolor": "white",
            "gridwidth": 2,
            "linecolor": "white",
            "showbackground": true,
            "ticks": "",
            "zerolinecolor": "white"
           },
           "zaxis": {
            "backgroundcolor": "#E5ECF6",
            "gridcolor": "white",
            "gridwidth": 2,
            "linecolor": "white",
            "showbackground": true,
            "ticks": "",
            "zerolinecolor": "white"
           }
          },
          "shapedefaults": {
           "line": {
            "color": "#2a3f5f"
           }
          },
          "ternary": {
           "aaxis": {
            "gridcolor": "white",
            "linecolor": "white",
            "ticks": ""
           },
           "baxis": {
            "gridcolor": "white",
            "linecolor": "white",
            "ticks": ""
           },
           "bgcolor": "#E5ECF6",
           "caxis": {
            "gridcolor": "white",
            "linecolor": "white",
            "ticks": ""
           }
          },
          "title": {
           "x": 0.05
          },
          "xaxis": {
           "automargin": true,
           "gridcolor": "white",
           "linecolor": "white",
           "ticks": "",
           "title": {
            "standoff": 15
           },
           "zerolinecolor": "white",
           "zerolinewidth": 2
          },
          "yaxis": {
           "automargin": true,
           "gridcolor": "white",
           "linecolor": "white",
           "ticks": "",
           "title": {
            "standoff": 15
           },
           "zerolinecolor": "white",
           "zerolinewidth": 2
          }
         }
        },
        "title": {
         "text": "Accuracy Comparison for Different Classifiers/Models and Vectorizers"
        }
       }
      }
     },
     "metadata": {},
     "output_type": "display_data"
    }
   ],
   "source": [
    "\n",
    "# Create a scatter plot\n",
    "import plotly.graph_objects as go\n",
    "fig = go.Figure(data=go.Scatter3d(\n",
    "    x=unique_results['Classifier'].map(classifier_names),\n",
    "    y=unique_results['Vectorizer'].map(vectorizer_names),\n",
    "    z=unique_results['Accuracy'],\n",
    "    mode='markers',\n",
    "    marker=dict(\n",
    "        size=10,\n",
    "        color=unique_results['Dataset'].map(dataset_labels),\n",
    "        colorscale='Viridis',\n",
    "        opacity=0.8\n",
    "    )\n",
    "))\n",
    "\n",
    "# Set axis labels\n",
    "fig.update_layout(scene=dict(\n",
    "    xaxis=dict(title='Classifier/Model'),\n",
    "    yaxis=dict(title='Vectorizer'),\n",
    "    zaxis=dict(title='Accuracy'),\n",
    "))\n",
    "\n",
    "# Add labels to data points\n",
    "fig.update_layout(scene=dict(\n",
    "    annotations=[\n",
    "        dict(\n",
    "            x=unique_results['Classifier'].map(classifier_names)[i],\n",
    "            y=unique_results['Vectorizer'].map(vectorizer_names)[i],\n",
    "            z=unique_results['Accuracy'][i],\n",
    "            text=\"\",\n",
    "            showarrow=False,\n",
    "            font=dict(size=12),\n",
    "            xanchor='center',\n",
    "            yanchor='bottom'\n",
    "        ) for i in range(len(unique_results))\n",
    "    ]\n",
    "))\n",
    "\n",
    "# Set plot title\n",
    "fig.update_layout(title='Accuracy Comparison for Different Classifiers/Models and Vectorizers')\n",
    "\n",
    "# Show the plot\n",
    "fig.show()\n"
   ]
  },
  {
   "cell_type": "code",
   "execution_count": 16,
   "metadata": {},
   "outputs": [
    {
     "data": {
      "image/png": "[encoded data removed]",
      "text/plain": [
       "<Figure size 1000x800 with 2 Axes>"
      ]
     },
     "metadata": {},
     "output_type": "display_data"
    },
    {
     "data": {
      "image/png": "[encoded data removed]",
      "text/plain": [
       "<Figure size 1000x800 with 2 Axes>"
      ]
     },
     "metadata": {},
     "output_type": "display_data"
    },
    {
     "data": {
      "image/png": "[encoded data removed]",
      "text/plain": [
       "<Figure size 1000x800 with 2 Axes>"
      ]
     },
     "metadata": {},
     "output_type": "display_data"
    },
    {
     "data": {
      "image/png": "[encoded data removed]",
      "text/plain": [
       "<Figure size 1000x800 with 2 Axes>"
      ]
     },
     "metadata": {},
     "output_type": "display_data"
    }
   ],
   "source": [
    "import seaborn as sns \n",
    "\n",
    "# Get unique dataset names\n",
    "dataset_names = results_df['Dataset'].unique()\n",
    "\n",
    "# Iterate over dataset names\n",
    "for dataset_name in dataset_names:\n",
    "    # Filter results for the current dataset\n",
    "    dataset_results = results_df[results_df['Dataset'] == dataset_name]\n",
    "\n",
    "    # Pivot the dataset results\n",
    "    pivot_table = dataset_results.pivot_table(index='Vectorizer', columns='Classifier', values='Accuracy')\n",
    "\n",
    "    # Create a heatmap\n",
    "    plt.figure(figsize=(10, 8))\n",
    "    sns.heatmap(pivot_table, annot=True, cmap='YlGnBu')\n",
    "    plt.title(f'Accuracy Comparison: Vectorizer vs Classifier ({dataset_name})')\n",
    "    plt.xlabel('Classifier')\n",
    "    plt.ylabel('Vectorizer')\n",
    "    plt.show()\n"
   ]
  },
  {
   "cell_type": "code",
   "execution_count": 17,
   "metadata": {},
   "outputs": [
    {
     "data": {
      "text/html": [
       "<div>\n",
       "<style scoped>\n",
       "    .dataframe tbody tr th:only-of-type {\n",
       "        vertical-align: middle;\n",
       "    }\n",
       "\n",
       "    .dataframe tbody tr th {\n",
       "        vertical-align: top;\n",
       "    }\n",
       "\n",
       "    .dataframe thead th {\n",
       "        text-align: right;\n",
       "    }\n",
       "</style>\n",
       "<table border=\"1\" class=\"dataframe\">\n",
       "  <thead>\n",
       "    <tr style=\"text-align: right;\">\n",
       "      <th></th>\n",
       "      <th>Vectorizer</th>\n",
       "      <th>Classifier</th>\n",
       "      <th>Model</th>\n",
       "      <th>Dataset</th>\n",
       "      <th>Accuracy</th>\n",
       "    </tr>\n",
       "  </thead>\n",
       "  <tbody>\n",
       "    <tr>\n",
       "      <th>4</th>\n",
       "      <td>TfidfVectorizer</td>\n",
       "      <td>PassiveAggressiveClassifier</td>\n",
       "      <td>Sequential</td>\n",
       "      <td>Fake news during normal times - 1 Dataset</td>\n",
       "      <td>0.929755</td>\n",
       "    </tr>\n",
       "    <tr>\n",
       "      <th>3</th>\n",
       "      <td>TfidfVectorizer</td>\n",
       "      <td>PassiveAggressiveClassifier</td>\n",
       "      <td>Sequential</td>\n",
       "      <td>Fake news during normal times - 2 Dataset</td>\n",
       "      <td>0.930545</td>\n",
       "    </tr>\n",
       "    <tr>\n",
       "      <th>46</th>\n",
       "      <td>HashingVectorizer</td>\n",
       "      <td>SGDClassifier</td>\n",
       "      <td>Sequential</td>\n",
       "      <td>Iraq war fake news Dataset</td>\n",
       "      <td>0.995984</td>\n",
       "    </tr>\n",
       "    <tr>\n",
       "      <th>9</th>\n",
       "      <td>TfidfVectorizer</td>\n",
       "      <td>LogisticRegression</td>\n",
       "      <td>Sequential</td>\n",
       "      <td>Syrian war fake news Dataset</td>\n",
       "      <td>0.515528</td>\n",
       "    </tr>\n",
       "  </tbody>\n",
       "</table>\n",
       "</div>"
      ],
      "text/plain": [
       "           Vectorizer                   Classifier       Model  \\\n",
       "4     TfidfVectorizer  PassiveAggressiveClassifier  Sequential   \n",
       "3     TfidfVectorizer  PassiveAggressiveClassifier  Sequential   \n",
       "46  HashingVectorizer                SGDClassifier  Sequential   \n",
       "9     TfidfVectorizer           LogisticRegression  Sequential   \n",
       "\n",
       "                                      Dataset  Accuracy  \n",
       "4   Fake news during normal times - 1 Dataset  0.929755  \n",
       "3   Fake news during normal times - 2 Dataset  0.930545  \n",
       "46                 Iraq war fake news Dataset  0.995984  \n",
       "9                Syrian war fake news Dataset  0.515528  "
      ]
     },
     "execution_count": 17,
     "metadata": {},
     "output_type": "execute_result"
    }
   ],
   "source": [
    "import pandas as pd\n",
    "\n",
    "# Convert the results to a DataFrame\n",
    "results_df = pd.DataFrame(results, columns=['Vectorizer', 'Classifier', 'Model', 'Dataset', 'Accuracy'])\n",
    "\n",
    "# Group the results by 'Dataset' and find the row with the maximum accuracy for each group\n",
    "best_results = results_df.groupby('Dataset')['Accuracy'].idxmax()\n",
    "best_combinations = results_df.loc[best_results]\n",
    "\n",
    "# Display the best accuracy combinations for each dataset using the head() method\n",
    "best_combinations_head = best_combinations.head()\n",
    "best_combinations_head.head()\n"
   ]
  },
  {
   "cell_type": "code",
   "execution_count": 18,
   "metadata": {},
   "outputs": [
    {
     "name": "stdout",
     "output_type": "stream",
     "text": [
      "Average Results:\n",
      "                                      Dataset         Vectorizer  Accuracy\n",
      "0   Fake news during normal times - 1 Dataset    CountVectorizer  0.912918\n",
      "1   Fake news during normal times - 1 Dataset  HashingVectorizer  0.918048\n",
      "2   Fake news during normal times - 1 Dataset    TfidfVectorizer  0.924362\n",
      "3   Fake news during normal times - 2 Dataset    CountVectorizer  0.911865\n",
      "4   Fake news during normal times - 2 Dataset  HashingVectorizer  0.917522\n",
      "5   Fake news during normal times - 2 Dataset    TfidfVectorizer  0.925414\n",
      "6                  Iraq war fake news Dataset    CountVectorizer  0.969210\n",
      "7                  Iraq war fake news Dataset  HashingVectorizer  0.987282\n",
      "8                  Iraq war fake news Dataset    TfidfVectorizer  0.979250\n",
      "9                Syrian war fake news Dataset    CountVectorizer  0.483437\n",
      "10               Syrian war fake news Dataset  HashingVectorizer  0.489648\n",
      "11               Syrian war fake news Dataset    TfidfVectorizer  0.496894\n"
     ]
    },
    {
     "data": {
      "image/png": "[encoded data removed]",
      "text/plain": [
       "<Figure size 1000x600 with 1 Axes>"
      ]
     },
     "metadata": {},
     "output_type": "display_data"
    }
   ],
   "source": [
    "import pandas as pd\n",
    "import matplotlib.pyplot as plt\n",
    "\n",
    "# Convert the results to a DataFrame\n",
    "results_df = pd.DataFrame(results, columns=['Vectorizer', 'Classifier', 'Model', 'Dataset', 'Accuracy'])\n",
    "\n",
    "# Compute average accuracy by Dataset and Vectorizer\n",
    "average_results = results_df.groupby(['Dataset', 'Vectorizer'])['Accuracy'].mean().reset_index()\n",
    "\n",
    "# Print the average results table\n",
    "print(\"Average Results:\")\n",
    "print(average_results)\n",
    "\n",
    "# Visualize average accuracy by Dataset and Vectorizer\n",
    "fig, ax = plt.subplots(figsize=(10, 6))\n",
    "for dataset in average_results['Dataset'].unique():\n",
    "    dataset_results = average_results[average_results['Dataset'] == dataset]\n",
    "    ax.plot(dataset_results['Vectorizer'], dataset_results['Accuracy'], marker='o', label=dataset)\n",
    "\n",
    "ax.set_title('Average Accuracy by Dataset and Vectorizer')\n",
    "ax.set_xlabel('Vectorizer')\n",
    "ax.set_ylabel('Accuracy')\n",
    "ax.legend()\n",
    "plt.xticks(rotation=45)\n",
    "plt.show()\n",
    "\n"
   ]
  },
  {
   "cell_type": "code",
   "execution_count": 19,
   "metadata": {},
   "outputs": [
    {
     "name": "stdout",
     "output_type": "stream",
     "text": [
      "Average Results:\n",
      "                                      Dataset                   Classifier  \\\n",
      "0   Fake news during normal times - 1 Dataset           LogisticRegression   \n",
      "1   Fake news during normal times - 1 Dataset  PassiveAggressiveClassifier   \n",
      "2   Fake news during normal times - 1 Dataset                SGDClassifier   \n",
      "3   Fake news during normal times - 2 Dataset           LogisticRegression   \n",
      "4   Fake news during normal times - 2 Dataset  PassiveAggressiveClassifier   \n",
      "5   Fake news during normal times - 2 Dataset                SGDClassifier   \n",
      "6                  Iraq war fake news Dataset           LogisticRegression   \n",
      "7                  Iraq war fake news Dataset  PassiveAggressiveClassifier   \n",
      "8                  Iraq war fake news Dataset                SGDClassifier   \n",
      "9                Syrian war fake news Dataset           LogisticRegression   \n",
      "10               Syrian war fake news Dataset  PassiveAggressiveClassifier   \n",
      "11               Syrian war fake news Dataset                SGDClassifier   \n",
      "\n",
      "    Accuracy  \n",
      "0   0.913707  \n",
      "1   0.920284  \n",
      "2   0.921336  \n",
      "3   0.913707  \n",
      "4   0.921205  \n",
      "5   0.919890  \n",
      "6   0.985274  \n",
      "7   0.967871  \n",
      "8   0.982597  \n",
      "9   0.501035  \n",
      "10  0.482402  \n",
      "11  0.486542  \n"
     ]
    },
    {
     "data": {
      "image/png": "[encoded data removed]",
      "text/plain": [
       "<Figure size 1000x600 with 1 Axes>"
      ]
     },
     "metadata": {},
     "output_type": "display_data"
    }
   ],
   "source": [
    "import pandas as pd\n",
    "import matplotlib.pyplot as plt\n",
    "\n",
    "# Convert the results to a DataFrame\n",
    "results_df = pd.DataFrame(results, columns=['Vectorizer', 'Classifier', 'Model', 'Dataset', 'Accuracy'])\n",
    "\n",
    "# Compute average accuracy by Dataset and Classifier\n",
    "average_results = results_df.groupby(['Dataset', 'Classifier'])['Accuracy'].mean().reset_index()\n",
    "\n",
    "# Print the average results table\n",
    "print(\"Average Results:\")\n",
    "print(average_results)\n",
    "\n",
    "# Visualize average accuracy by Dataset and Classifier\n",
    "fig, ax = plt.subplots(figsize=(10, 6))\n",
    "for dataset in average_results['Dataset'].unique():\n",
    "    dataset_results = average_results[average_results['Dataset'] == dataset]\n",
    "    ax.plot(dataset_results['Classifier'], dataset_results['Accuracy'], marker='o', label=dataset)\n",
    "\n",
    "ax.set_title('Average Accuracy by Dataset and Classifier')\n",
    "ax.set_xlabel('Classifier')\n",
    "ax.set_ylabel('Accuracy')\n",
    "ax.legend()\n",
    "plt.xticks(rotation=45)\n",
    "plt.show()\n"
   ]
  },
  {
   "cell_type": "code",
   "execution_count": null,
   "metadata": {},
   "outputs": [],
   "source": [
    "import numpy as np\n",
    "import pandas as pd\n",
    "from sklearn.model_selection import train_test_split, cross_val_score\n",
    "from sklearn.feature_extraction.text import TfidfVectorizer, CountVectorizer\n",
    "from sklearn.linear_model import PassiveAggressiveClassifier, LogisticRegression, SGDClassifier\n",
    "from sklearn.metrics import accuracy_score, precision_score, recall_score, f1_score, roc_auc_score\n",
    "from sklearn.pipeline import make_pipeline\n",
    "from sklearn.preprocessing import LabelEncoder\n",
    "\n",
    "# Convert string labels to binary integers\n",
    "label_encoder = LabelEncoder()\n",
    "df1['label'] = label_encoder.fit_transform(df1['label'])\n",
    "df4['label'] = label_encoder.fit_transform(df4['label'])\n",
    "df5['deception'] = label_encoder.fit_transform(df5['deception'])\n",
    "df2['label'] = label_encoder.fit_transform(df2['label'])\n",
    "\n",
    "# Define your datasets\n",
    "datasets = [\n",
    "    (df1['text'], df1['label'], 'Fake news during normal times - 1'),\n",
    "    (df4['article_content'], df4['label'], 'Syrian war fake news'),\n",
    "    (df5['content'], df5['deception'], 'Iraq war fake news'),\n",
    "    (df2['text'], df2['label'], 'Fake news during normal times - 2')\n",
    "]\n",
    "\n",
    "# Define your classifiers and vectorizers\n",
    "classifiers = [PassiveAggressiveClassifier(), LogisticRegression(), SGDClassifier()]\n",
    "vectorizers = [TfidfVectorizer(), CountVectorizer(),HashingVectorizer()]\n",
    "\n",
    "# Define the evaluation metrics you want to use\n",
    "metrics = {\n",
    "    'Accuracy': accuracy_score,\n",
    "    'Precision': precision_score,\n",
    "    'Recall': recall_score,\n",
    "    'F1 Score': f1_score,\n",
    "    'ROC AUC': roc_auc_score\n",
    "}\n",
    "\n",
    "# Perform train-test split and evaluate models\n",
    "results = []\n",
    "\n",
    "for dataset in datasets:\n",
    "    X, y, dataset_name = dataset\n",
    "    x_train, x_test, y_train, y_test = train_test_split(X, y, test_size=0.2, random_state=7)\n",
    "    \n",
    "    for classifier in classifiers:\n",
    "        for vectorizer in vectorizers:\n",
    "            pipeline = make_pipeline(vectorizer, classifier)\n",
    "            pipeline.fit(x_train, y_train)\n",
    "            y_pred = pipeline.predict(x_test)\n",
    "            \n",
    "            evaluation_scores = {}\n",
    "            for metric_name, metric_func in metrics.items():\n",
    "                if metric_name == 'Precision':\n",
    "                    score = metric_func(y_test, y_pred, pos_label=1)\n",
    "                else:\n",
    "                    score = metric_func(y_test, y_pred)\n",
    "                evaluation_scores[metric_name] = score\n",
    "            \n",
    "            results.append({\n",
    "                'Dataset': dataset_name,\n",
    "                'Classifier': classifier.__class__.__name__,\n",
    "                'Vectorizer': vectorizer.__class__.__name__,\n",
    "                **evaluation_scores\n",
    "            })\n",
    "\n",
    "# Convert the results to a DataFrame\n",
    "results_df = pd.DataFrame(results)\n",
    "\n",
    "# Print the results\n",
    "print(results_df)\n"
   ]
  },
  {
   "cell_type": "code",
   "execution_count": 26,
   "metadata": {},
   "outputs": [
    {
     "data": {
      "text/html": [
       "<div>\n",
       "<style scoped>\n",
       "    .dataframe tbody tr th:only-of-type {\n",
       "        vertical-align: middle;\n",
       "    }\n",
       "\n",
       "    .dataframe tbody tr th {\n",
       "        vertical-align: top;\n",
       "    }\n",
       "\n",
       "    .dataframe thead th {\n",
       "        text-align: right;\n",
       "    }\n",
       "</style>\n",
       "<table border=\"1\" class=\"dataframe\">\n",
       "  <thead>\n",
       "    <tr style=\"text-align: right;\">\n",
       "      <th></th>\n",
       "      <th>Dataset</th>\n",
       "      <th>Classifier</th>\n",
       "      <th>Vectorizer</th>\n",
       "      <th>Accuracy</th>\n",
       "      <th>Precision</th>\n",
       "      <th>Recall</th>\n",
       "      <th>F1 Score</th>\n",
       "      <th>ROC AUC</th>\n",
       "    </tr>\n",
       "  </thead>\n",
       "  <tbody>\n",
       "    <tr>\n",
       "      <th>0</th>\n",
       "      <td>Fake news during normal times - 1</td>\n",
       "      <td>PassiveAggressiveClassifier</td>\n",
       "      <td>TfidfVectorizer</td>\n",
       "      <td>0.926598</td>\n",
       "      <td>0.914861</td>\n",
       "      <td>0.939587</td>\n",
       "      <td>0.927059</td>\n",
       "      <td>0.926690</td>\n",
       "    </tr>\n",
       "    <tr>\n",
       "      <th>1</th>\n",
       "      <td>Fake news during normal times - 1</td>\n",
       "      <td>PassiveAggressiveClassifier</td>\n",
       "      <td>CountVectorizer</td>\n",
       "      <td>0.910813</td>\n",
       "      <td>0.895706</td>\n",
       "      <td>0.928458</td>\n",
       "      <td>0.911788</td>\n",
       "      <td>0.910937</td>\n",
       "    </tr>\n",
       "    <tr>\n",
       "      <th>2</th>\n",
       "      <td>Fake news during normal times - 1</td>\n",
       "      <td>PassiveAggressiveClassifier</td>\n",
       "      <td>HashingVectorizer</td>\n",
       "      <td>0.921863</td>\n",
       "      <td>0.905199</td>\n",
       "      <td>0.941176</td>\n",
       "      <td>0.922837</td>\n",
       "      <td>0.921999</td>\n",
       "    </tr>\n",
       "    <tr>\n",
       "      <th>3</th>\n",
       "      <td>Fake news during normal times - 1</td>\n",
       "      <td>LogisticRegression</td>\n",
       "      <td>TfidfVectorizer</td>\n",
       "      <td>0.915549</td>\n",
       "      <td>0.927869</td>\n",
       "      <td>0.899841</td>\n",
       "      <td>0.913640</td>\n",
       "      <td>0.915438</td>\n",
       "    </tr>\n",
       "    <tr>\n",
       "      <th>4</th>\n",
       "      <td>Fake news during normal times - 1</td>\n",
       "      <td>LogisticRegression</td>\n",
       "      <td>CountVectorizer</td>\n",
       "      <td>0.924230</td>\n",
       "      <td>0.921011</td>\n",
       "      <td>0.926868</td>\n",
       "      <td>0.923930</td>\n",
       "      <td>0.924249</td>\n",
       "    </tr>\n",
       "    <tr>\n",
       "      <th>5</th>\n",
       "      <td>Fake news during normal times - 1</td>\n",
       "      <td>LogisticRegression</td>\n",
       "      <td>HashingVectorizer</td>\n",
       "      <td>0.893449</td>\n",
       "      <td>0.893312</td>\n",
       "      <td>0.891892</td>\n",
       "      <td>0.892601</td>\n",
       "      <td>0.893438</td>\n",
       "    </tr>\n",
       "    <tr>\n",
       "      <th>6</th>\n",
       "      <td>Fake news during normal times - 1</td>\n",
       "      <td>SGDClassifier</td>\n",
       "      <td>TfidfVectorizer</td>\n",
       "      <td>0.930545</td>\n",
       "      <td>0.934189</td>\n",
       "      <td>0.925278</td>\n",
       "      <td>0.929712</td>\n",
       "      <td>0.930507</td>\n",
       "    </tr>\n",
       "    <tr>\n",
       "      <th>7</th>\n",
       "      <td>Fake news during normal times - 1</td>\n",
       "      <td>SGDClassifier</td>\n",
       "      <td>CountVectorizer</td>\n",
       "      <td>0.916338</td>\n",
       "      <td>0.902928</td>\n",
       "      <td>0.931638</td>\n",
       "      <td>0.917058</td>\n",
       "      <td>0.916446</td>\n",
       "    </tr>\n",
       "    <tr>\n",
       "      <th>8</th>\n",
       "      <td>Fake news during normal times - 1</td>\n",
       "      <td>SGDClassifier</td>\n",
       "      <td>HashingVectorizer</td>\n",
       "      <td>0.919495</td>\n",
       "      <td>0.928455</td>\n",
       "      <td>0.907790</td>\n",
       "      <td>0.918006</td>\n",
       "      <td>0.919412</td>\n",
       "    </tr>\n",
       "    <tr>\n",
       "      <th>9</th>\n",
       "      <td>Syrian war fake news</td>\n",
       "      <td>PassiveAggressiveClassifier</td>\n",
       "      <td>TfidfVectorizer</td>\n",
       "      <td>0.484472</td>\n",
       "      <td>0.488095</td>\n",
       "      <td>0.506173</td>\n",
       "      <td>0.496970</td>\n",
       "      <td>0.484336</td>\n",
       "    </tr>\n",
       "    <tr>\n",
       "      <th>10</th>\n",
       "      <td>Syrian war fake news</td>\n",
       "      <td>PassiveAggressiveClassifier</td>\n",
       "      <td>CountVectorizer</td>\n",
       "      <td>0.496894</td>\n",
       "      <td>0.500000</td>\n",
       "      <td>0.493827</td>\n",
       "      <td>0.496894</td>\n",
       "      <td>0.496914</td>\n",
       "    </tr>\n",
       "    <tr>\n",
       "      <th>11</th>\n",
       "      <td>Syrian war fake news</td>\n",
       "      <td>PassiveAggressiveClassifier</td>\n",
       "      <td>HashingVectorizer</td>\n",
       "      <td>0.490683</td>\n",
       "      <td>0.494118</td>\n",
       "      <td>0.518519</td>\n",
       "      <td>0.506024</td>\n",
       "      <td>0.490509</td>\n",
       "    </tr>\n",
       "    <tr>\n",
       "      <th>12</th>\n",
       "      <td>Syrian war fake news</td>\n",
       "      <td>LogisticRegression</td>\n",
       "      <td>TfidfVectorizer</td>\n",
       "      <td>0.490683</td>\n",
       "      <td>0.495495</td>\n",
       "      <td>0.679012</td>\n",
       "      <td>0.572917</td>\n",
       "      <td>0.489506</td>\n",
       "    </tr>\n",
       "    <tr>\n",
       "      <th>13</th>\n",
       "      <td>Syrian war fake news</td>\n",
       "      <td>LogisticRegression</td>\n",
       "      <td>CountVectorizer</td>\n",
       "      <td>0.503106</td>\n",
       "      <td>0.505882</td>\n",
       "      <td>0.530864</td>\n",
       "      <td>0.518072</td>\n",
       "      <td>0.502932</td>\n",
       "    </tr>\n",
       "    <tr>\n",
       "      <th>14</th>\n",
       "      <td>Syrian war fake news</td>\n",
       "      <td>LogisticRegression</td>\n",
       "      <td>HashingVectorizer</td>\n",
       "      <td>0.496894</td>\n",
       "      <td>0.500000</td>\n",
       "      <td>0.814815</td>\n",
       "      <td>0.619718</td>\n",
       "      <td>0.494907</td>\n",
       "    </tr>\n",
       "    <tr>\n",
       "      <th>15</th>\n",
       "      <td>Syrian war fake news</td>\n",
       "      <td>SGDClassifier</td>\n",
       "      <td>TfidfVectorizer</td>\n",
       "      <td>0.472050</td>\n",
       "      <td>0.475610</td>\n",
       "      <td>0.481481</td>\n",
       "      <td>0.478528</td>\n",
       "      <td>0.471991</td>\n",
       "    </tr>\n",
       "    <tr>\n",
       "      <th>16</th>\n",
       "      <td>Syrian war fake news</td>\n",
       "      <td>SGDClassifier</td>\n",
       "      <td>CountVectorizer</td>\n",
       "      <td>0.490683</td>\n",
       "      <td>0.492537</td>\n",
       "      <td>0.407407</td>\n",
       "      <td>0.445946</td>\n",
       "      <td>0.491204</td>\n",
       "    </tr>\n",
       "    <tr>\n",
       "      <th>17</th>\n",
       "      <td>Syrian war fake news</td>\n",
       "      <td>SGDClassifier</td>\n",
       "      <td>HashingVectorizer</td>\n",
       "      <td>0.509317</td>\n",
       "      <td>0.509615</td>\n",
       "      <td>0.654321</td>\n",
       "      <td>0.572973</td>\n",
       "      <td>0.508410</td>\n",
       "    </tr>\n",
       "    <tr>\n",
       "      <th>18</th>\n",
       "      <td>Iraq war fake news</td>\n",
       "      <td>PassiveAggressiveClassifier</td>\n",
       "      <td>TfidfVectorizer</td>\n",
       "      <td>0.963855</td>\n",
       "      <td>0.939130</td>\n",
       "      <td>0.981818</td>\n",
       "      <td>0.960000</td>\n",
       "      <td>0.965729</td>\n",
       "    </tr>\n",
       "    <tr>\n",
       "      <th>19</th>\n",
       "      <td>Iraq war fake news</td>\n",
       "      <td>PassiveAggressiveClassifier</td>\n",
       "      <td>CountVectorizer</td>\n",
       "      <td>0.943775</td>\n",
       "      <td>0.936364</td>\n",
       "      <td>0.936364</td>\n",
       "      <td>0.936364</td>\n",
       "      <td>0.943002</td>\n",
       "    </tr>\n",
       "    <tr>\n",
       "      <th>20</th>\n",
       "      <td>Iraq war fake news</td>\n",
       "      <td>PassiveAggressiveClassifier</td>\n",
       "      <td>HashingVectorizer</td>\n",
       "      <td>0.963855</td>\n",
       "      <td>0.954955</td>\n",
       "      <td>0.963636</td>\n",
       "      <td>0.959276</td>\n",
       "      <td>0.963833</td>\n",
       "    </tr>\n",
       "    <tr>\n",
       "      <th>21</th>\n",
       "      <td>Iraq war fake news</td>\n",
       "      <td>LogisticRegression</td>\n",
       "      <td>TfidfVectorizer</td>\n",
       "      <td>0.927711</td>\n",
       "      <td>0.883333</td>\n",
       "      <td>0.963636</td>\n",
       "      <td>0.921739</td>\n",
       "      <td>0.931458</td>\n",
       "    </tr>\n",
       "    <tr>\n",
       "      <th>22</th>\n",
       "      <td>Iraq war fake news</td>\n",
       "      <td>LogisticRegression</td>\n",
       "      <td>CountVectorizer</td>\n",
       "      <td>0.995984</td>\n",
       "      <td>1.000000</td>\n",
       "      <td>0.990909</td>\n",
       "      <td>0.995434</td>\n",
       "      <td>0.995455</td>\n",
       "    </tr>\n",
       "    <tr>\n",
       "      <th>23</th>\n",
       "      <td>Iraq war fake news</td>\n",
       "      <td>LogisticRegression</td>\n",
       "      <td>HashingVectorizer</td>\n",
       "      <td>0.939759</td>\n",
       "      <td>0.905983</td>\n",
       "      <td>0.963636</td>\n",
       "      <td>0.933921</td>\n",
       "      <td>0.942250</td>\n",
       "    </tr>\n",
       "    <tr>\n",
       "      <th>24</th>\n",
       "      <td>Iraq war fake news</td>\n",
       "      <td>SGDClassifier</td>\n",
       "      <td>TfidfVectorizer</td>\n",
       "      <td>0.987952</td>\n",
       "      <td>0.990826</td>\n",
       "      <td>0.981818</td>\n",
       "      <td>0.986301</td>\n",
       "      <td>0.987312</td>\n",
       "    </tr>\n",
       "    <tr>\n",
       "      <th>25</th>\n",
       "      <td>Iraq war fake news</td>\n",
       "      <td>SGDClassifier</td>\n",
       "      <td>CountVectorizer</td>\n",
       "      <td>0.967871</td>\n",
       "      <td>0.972222</td>\n",
       "      <td>0.954545</td>\n",
       "      <td>0.963303</td>\n",
       "      <td>0.966481</td>\n",
       "    </tr>\n",
       "    <tr>\n",
       "      <th>26</th>\n",
       "      <td>Iraq war fake news</td>\n",
       "      <td>SGDClassifier</td>\n",
       "      <td>HashingVectorizer</td>\n",
       "      <td>0.983936</td>\n",
       "      <td>1.000000</td>\n",
       "      <td>0.963636</td>\n",
       "      <td>0.981481</td>\n",
       "      <td>0.981818</td>\n",
       "    </tr>\n",
       "    <tr>\n",
       "      <th>27</th>\n",
       "      <td>Fake news during normal times - 2</td>\n",
       "      <td>PassiveAggressiveClassifier</td>\n",
       "      <td>TfidfVectorizer</td>\n",
       "      <td>0.932123</td>\n",
       "      <td>0.919629</td>\n",
       "      <td>0.945946</td>\n",
       "      <td>0.932602</td>\n",
       "      <td>0.932221</td>\n",
       "    </tr>\n",
       "    <tr>\n",
       "      <th>28</th>\n",
       "      <td>Fake news during normal times - 2</td>\n",
       "      <td>PassiveAggressiveClassifier</td>\n",
       "      <td>CountVectorizer</td>\n",
       "      <td>0.911602</td>\n",
       "      <td>0.897081</td>\n",
       "      <td>0.928458</td>\n",
       "      <td>0.912500</td>\n",
       "      <td>0.911721</td>\n",
       "    </tr>\n",
       "    <tr>\n",
       "      <th>29</th>\n",
       "      <td>Fake news during normal times - 2</td>\n",
       "      <td>PassiveAggressiveClassifier</td>\n",
       "      <td>HashingVectorizer</td>\n",
       "      <td>0.924230</td>\n",
       "      <td>0.904401</td>\n",
       "      <td>0.947536</td>\n",
       "      <td>0.925466</td>\n",
       "      <td>0.924395</td>\n",
       "    </tr>\n",
       "    <tr>\n",
       "      <th>30</th>\n",
       "      <td>Fake news during normal times - 2</td>\n",
       "      <td>LogisticRegression</td>\n",
       "      <td>TfidfVectorizer</td>\n",
       "      <td>0.915549</td>\n",
       "      <td>0.927869</td>\n",
       "      <td>0.899841</td>\n",
       "      <td>0.913640</td>\n",
       "      <td>0.915438</td>\n",
       "    </tr>\n",
       "    <tr>\n",
       "      <th>31</th>\n",
       "      <td>Fake news during normal times - 2</td>\n",
       "      <td>LogisticRegression</td>\n",
       "      <td>CountVectorizer</td>\n",
       "      <td>0.924230</td>\n",
       "      <td>0.921011</td>\n",
       "      <td>0.926868</td>\n",
       "      <td>0.923930</td>\n",
       "      <td>0.924249</td>\n",
       "    </tr>\n",
       "    <tr>\n",
       "      <th>32</th>\n",
       "      <td>Fake news during normal times - 2</td>\n",
       "      <td>LogisticRegression</td>\n",
       "      <td>HashingVectorizer</td>\n",
       "      <td>0.893449</td>\n",
       "      <td>0.893312</td>\n",
       "      <td>0.891892</td>\n",
       "      <td>0.892601</td>\n",
       "      <td>0.893438</td>\n",
       "    </tr>\n",
       "    <tr>\n",
       "      <th>33</th>\n",
       "      <td>Fake news during normal times - 2</td>\n",
       "      <td>SGDClassifier</td>\n",
       "      <td>TfidfVectorizer</td>\n",
       "      <td>0.932123</td>\n",
       "      <td>0.935795</td>\n",
       "      <td>0.926868</td>\n",
       "      <td>0.931310</td>\n",
       "      <td>0.932086</td>\n",
       "    </tr>\n",
       "    <tr>\n",
       "      <th>34</th>\n",
       "      <td>Fake news during normal times - 2</td>\n",
       "      <td>SGDClassifier</td>\n",
       "      <td>CountVectorizer</td>\n",
       "      <td>0.906867</td>\n",
       "      <td>0.860367</td>\n",
       "      <td>0.969793</td>\n",
       "      <td>0.911809</td>\n",
       "      <td>0.907310</td>\n",
       "    </tr>\n",
       "    <tr>\n",
       "      <th>35</th>\n",
       "      <td>Fake news during normal times - 2</td>\n",
       "      <td>SGDClassifier</td>\n",
       "      <td>HashingVectorizer</td>\n",
       "      <td>0.926598</td>\n",
       "      <td>0.925397</td>\n",
       "      <td>0.926868</td>\n",
       "      <td>0.926132</td>\n",
       "      <td>0.926600</td>\n",
       "    </tr>\n",
       "  </tbody>\n",
       "</table>\n",
       "</div>"
      ],
      "text/plain": [
       "                              Dataset                   Classifier  \\\n",
       "0   Fake news during normal times - 1  PassiveAggressiveClassifier   \n",
       "1   Fake news during normal times - 1  PassiveAggressiveClassifier   \n",
       "2   Fake news during normal times - 1  PassiveAggressiveClassifier   \n",
       "3   Fake news during normal times - 1           LogisticRegression   \n",
       "4   Fake news during normal times - 1           LogisticRegression   \n",
       "5   Fake news during normal times - 1           LogisticRegression   \n",
       "6   Fake news during normal times - 1                SGDClassifier   \n",
       "7   Fake news during normal times - 1                SGDClassifier   \n",
       "8   Fake news during normal times - 1                SGDClassifier   \n",
       "9                Syrian war fake news  PassiveAggressiveClassifier   \n",
       "10               Syrian war fake news  PassiveAggressiveClassifier   \n",
       "11               Syrian war fake news  PassiveAggressiveClassifier   \n",
       "12               Syrian war fake news           LogisticRegression   \n",
       "13               Syrian war fake news           LogisticRegression   \n",
       "14               Syrian war fake news           LogisticRegression   \n",
       "15               Syrian war fake news                SGDClassifier   \n",
       "16               Syrian war fake news                SGDClassifier   \n",
       "17               Syrian war fake news                SGDClassifier   \n",
       "18                 Iraq war fake news  PassiveAggressiveClassifier   \n",
       "19                 Iraq war fake news  PassiveAggressiveClassifier   \n",
       "20                 Iraq war fake news  PassiveAggressiveClassifier   \n",
       "21                 Iraq war fake news           LogisticRegression   \n",
       "22                 Iraq war fake news           LogisticRegression   \n",
       "23                 Iraq war fake news           LogisticRegression   \n",
       "24                 Iraq war fake news                SGDClassifier   \n",
       "25                 Iraq war fake news                SGDClassifier   \n",
       "26                 Iraq war fake news                SGDClassifier   \n",
       "27  Fake news during normal times - 2  PassiveAggressiveClassifier   \n",
       "28  Fake news during normal times - 2  PassiveAggressiveClassifier   \n",
       "29  Fake news during normal times - 2  PassiveAggressiveClassifier   \n",
       "30  Fake news during normal times - 2           LogisticRegression   \n",
       "31  Fake news during normal times - 2           LogisticRegression   \n",
       "32  Fake news during normal times - 2           LogisticRegression   \n",
       "33  Fake news during normal times - 2                SGDClassifier   \n",
       "34  Fake news during normal times - 2                SGDClassifier   \n",
       "35  Fake news during normal times - 2                SGDClassifier   \n",
       "\n",
       "           Vectorizer  Accuracy  Precision    Recall  F1 Score   ROC AUC  \n",
       "0     TfidfVectorizer  0.926598   0.914861  0.939587  0.927059  0.926690  \n",
       "1     CountVectorizer  0.910813   0.895706  0.928458  0.911788  0.910937  \n",
       "2   HashingVectorizer  0.921863   0.905199  0.941176  0.922837  0.921999  \n",
       "3     TfidfVectorizer  0.915549   0.927869  0.899841  0.913640  0.915438  \n",
       "4     CountVectorizer  0.924230   0.921011  0.926868  0.923930  0.924249  \n",
       "5   HashingVectorizer  0.893449   0.893312  0.891892  0.892601  0.893438  \n",
       "6     TfidfVectorizer  0.930545   0.934189  0.925278  0.929712  0.930507  \n",
       "7     CountVectorizer  0.916338   0.902928  0.931638  0.917058  0.916446  \n",
       "8   HashingVectorizer  0.919495   0.928455  0.907790  0.918006  0.919412  \n",
       "9     TfidfVectorizer  0.484472   0.488095  0.506173  0.496970  0.484336  \n",
       "10    CountVectorizer  0.496894   0.500000  0.493827  0.496894  0.496914  \n",
       "11  HashingVectorizer  0.490683   0.494118  0.518519  0.506024  0.490509  \n",
       "12    TfidfVectorizer  0.490683   0.495495  0.679012  0.572917  0.489506  \n",
       "13    CountVectorizer  0.503106   0.505882  0.530864  0.518072  0.502932  \n",
       "14  HashingVectorizer  0.496894   0.500000  0.814815  0.619718  0.494907  \n",
       "15    TfidfVectorizer  0.472050   0.475610  0.481481  0.478528  0.471991  \n",
       "16    CountVectorizer  0.490683   0.492537  0.407407  0.445946  0.491204  \n",
       "17  HashingVectorizer  0.509317   0.509615  0.654321  0.572973  0.508410  \n",
       "18    TfidfVectorizer  0.963855   0.939130  0.981818  0.960000  0.965729  \n",
       "19    CountVectorizer  0.943775   0.936364  0.936364  0.936364  0.943002  \n",
       "20  HashingVectorizer  0.963855   0.954955  0.963636  0.959276  0.963833  \n",
       "21    TfidfVectorizer  0.927711   0.883333  0.963636  0.921739  0.931458  \n",
       "22    CountVectorizer  0.995984   1.000000  0.990909  0.995434  0.995455  \n",
       "23  HashingVectorizer  0.939759   0.905983  0.963636  0.933921  0.942250  \n",
       "24    TfidfVectorizer  0.987952   0.990826  0.981818  0.986301  0.987312  \n",
       "25    CountVectorizer  0.967871   0.972222  0.954545  0.963303  0.966481  \n",
       "26  HashingVectorizer  0.983936   1.000000  0.963636  0.981481  0.981818  \n",
       "27    TfidfVectorizer  0.932123   0.919629  0.945946  0.932602  0.932221  \n",
       "28    CountVectorizer  0.911602   0.897081  0.928458  0.912500  0.911721  \n",
       "29  HashingVectorizer  0.924230   0.904401  0.947536  0.925466  0.924395  \n",
       "30    TfidfVectorizer  0.915549   0.927869  0.899841  0.913640  0.915438  \n",
       "31    CountVectorizer  0.924230   0.921011  0.926868  0.923930  0.924249  \n",
       "32  HashingVectorizer  0.893449   0.893312  0.891892  0.892601  0.893438  \n",
       "33    TfidfVectorizer  0.932123   0.935795  0.926868  0.931310  0.932086  \n",
       "34    CountVectorizer  0.906867   0.860367  0.969793  0.911809  0.907310  \n",
       "35  HashingVectorizer  0.926598   0.925397  0.926868  0.926132  0.926600  "
      ]
     },
     "execution_count": 26,
     "metadata": {},
     "output_type": "execute_result"
    }
   ],
   "source": [
    "results_df.head(200)"
   ]
  },
  {
   "cell_type": "code",
   "execution_count": 27,
   "metadata": {},
   "outputs": [
    {
     "name": "stdout",
     "output_type": "stream",
     "text": [
      "                              Dataset                   Classifier         Vectorizer  Accuracy  Precision    Recall  F1 Score   ROC AUC\n",
      "0   Fake news during normal times - 1  PassiveAggressiveClassifier    TfidfVectorizer  0.926598   0.914861  0.939587  0.927059  0.926690\n",
      "1   Fake news during normal times - 1  PassiveAggressiveClassifier    CountVectorizer  0.910813   0.895706  0.928458  0.911788  0.910937\n",
      "2   Fake news during normal times - 1  PassiveAggressiveClassifier  HashingVectorizer  0.921863   0.905199  0.941176  0.922837  0.921999\n",
      "3   Fake news during normal times - 1           LogisticRegression    TfidfVectorizer  0.915549   0.927869  0.899841  0.913640  0.915438\n",
      "4   Fake news during normal times - 1           LogisticRegression    CountVectorizer  0.924230   0.921011  0.926868  0.923930  0.924249\n",
      "5   Fake news during normal times - 1           LogisticRegression  HashingVectorizer  0.893449   0.893312  0.891892  0.892601  0.893438\n",
      "6   Fake news during normal times - 1                SGDClassifier    TfidfVectorizer  0.930545   0.934189  0.925278  0.929712  0.930507\n",
      "7   Fake news during normal times - 1                SGDClassifier    CountVectorizer  0.916338   0.902928  0.931638  0.917058  0.916446\n",
      "8   Fake news during normal times - 1                SGDClassifier  HashingVectorizer  0.919495   0.928455  0.907790  0.918006  0.919412\n",
      "9                Syrian war fake news  PassiveAggressiveClassifier    TfidfVectorizer  0.484472   0.488095  0.506173  0.496970  0.484336\n",
      "10               Syrian war fake news  PassiveAggressiveClassifier    CountVectorizer  0.496894   0.500000  0.493827  0.496894  0.496914\n",
      "11               Syrian war fake news  PassiveAggressiveClassifier  HashingVectorizer  0.490683   0.494118  0.518519  0.506024  0.490509\n",
      "12               Syrian war fake news           LogisticRegression    TfidfVectorizer  0.490683   0.495495  0.679012  0.572917  0.489506\n",
      "13               Syrian war fake news           LogisticRegression    CountVectorizer  0.503106   0.505882  0.530864  0.518072  0.502932\n",
      "14               Syrian war fake news           LogisticRegression  HashingVectorizer  0.496894   0.500000  0.814815  0.619718  0.494907\n",
      "15               Syrian war fake news                SGDClassifier    TfidfVectorizer  0.472050   0.475610  0.481481  0.478528  0.471991\n",
      "16               Syrian war fake news                SGDClassifier    CountVectorizer  0.490683   0.492537  0.407407  0.445946  0.491204\n",
      "17               Syrian war fake news                SGDClassifier  HashingVectorizer  0.509317   0.509615  0.654321  0.572973  0.508410\n",
      "18                 Iraq war fake news  PassiveAggressiveClassifier    TfidfVectorizer  0.963855   0.939130  0.981818  0.960000  0.965729\n",
      "19                 Iraq war fake news  PassiveAggressiveClassifier    CountVectorizer  0.943775   0.936364  0.936364  0.936364  0.943002\n",
      "20                 Iraq war fake news  PassiveAggressiveClassifier  HashingVectorizer  0.963855   0.954955  0.963636  0.959276  0.963833\n",
      "21                 Iraq war fake news           LogisticRegression    TfidfVectorizer  0.927711   0.883333  0.963636  0.921739  0.931458\n",
      "22                 Iraq war fake news           LogisticRegression    CountVectorizer  0.995984   1.000000  0.990909  0.995434  0.995455\n",
      "23                 Iraq war fake news           LogisticRegression  HashingVectorizer  0.939759   0.905983  0.963636  0.933921  0.942250\n",
      "24                 Iraq war fake news                SGDClassifier    TfidfVectorizer  0.987952   0.990826  0.981818  0.986301  0.987312\n",
      "25                 Iraq war fake news                SGDClassifier    CountVectorizer  0.967871   0.972222  0.954545  0.963303  0.966481\n",
      "26                 Iraq war fake news                SGDClassifier  HashingVectorizer  0.983936   1.000000  0.963636  0.981481  0.981818\n",
      "27  Fake news during normal times - 2  PassiveAggressiveClassifier    TfidfVectorizer  0.932123   0.919629  0.945946  0.932602  0.932221\n",
      "28  Fake news during normal times - 2  PassiveAggressiveClassifier    CountVectorizer  0.911602   0.897081  0.928458  0.912500  0.911721\n",
      "29  Fake news during normal times - 2  PassiveAggressiveClassifier  HashingVectorizer  0.924230   0.904401  0.947536  0.925466  0.924395\n",
      "30  Fake news during normal times - 2           LogisticRegression    TfidfVectorizer  0.915549   0.927869  0.899841  0.913640  0.915438\n",
      "31  Fake news during normal times - 2           LogisticRegression    CountVectorizer  0.924230   0.921011  0.926868  0.923930  0.924249\n",
      "32  Fake news during normal times - 2           LogisticRegression  HashingVectorizer  0.893449   0.893312  0.891892  0.892601  0.893438\n",
      "33  Fake news during normal times - 2                SGDClassifier    TfidfVectorizer  0.932123   0.935795  0.926868  0.931310  0.932086\n",
      "34  Fake news during normal times - 2                SGDClassifier    CountVectorizer  0.906867   0.860367  0.969793  0.911809  0.907310\n",
      "35  Fake news during normal times - 2                SGDClassifier  HashingVectorizer  0.926598   0.925397  0.926868  0.926132  0.926600\n"
     ]
    }
   ],
   "source": [
    "print(results_df.to_string())"
   ]
  },
  {
   "cell_type": "code",
   "execution_count": 46,
   "metadata": {},
   "outputs": [
    {
     "name": "stderr",
     "output_type": "stream",
     "text": [
      "c:\\Python311\\Lib\\site-packages\\sklearn\\linear_model\\_logistic.py:458: ConvergenceWarning:\n",
      "\n",
      "lbfgs failed to converge (status=1):\n",
      "STOP: TOTAL NO. of ITERATIONS REACHED LIMIT.\n",
      "\n",
      "Increase the number of iterations (max_iter) or scale the data as shown in:\n",
      "    https://scikit-learn.org/stable/modules/preprocessing.html\n",
      "Please also refer to the documentation for alternative solver options:\n",
      "    https://scikit-learn.org/stable/modules/linear_model.html#logistic-regression\n",
      "\n",
      "c:\\Python311\\Lib\\site-packages\\sklearn\\linear_model\\_logistic.py:458: ConvergenceWarning:\n",
      "\n",
      "lbfgs failed to converge (status=1):\n",
      "STOP: TOTAL NO. of ITERATIONS REACHED LIMIT.\n",
      "\n",
      "Increase the number of iterations (max_iter) or scale the data as shown in:\n",
      "    https://scikit-learn.org/stable/modules/preprocessing.html\n",
      "Please also refer to the documentation for alternative solver options:\n",
      "    https://scikit-learn.org/stable/modules/linear_model.html#logistic-regression\n",
      "\n",
      "c:\\Python311\\Lib\\site-packages\\sklearn\\linear_model\\_logistic.py:458: ConvergenceWarning:\n",
      "\n",
      "lbfgs failed to converge (status=1):\n",
      "STOP: TOTAL NO. of ITERATIONS REACHED LIMIT.\n",
      "\n",
      "Increase the number of iterations (max_iter) or scale the data as shown in:\n",
      "    https://scikit-learn.org/stable/modules/preprocessing.html\n",
      "Please also refer to the documentation for alternative solver options:\n",
      "    https://scikit-learn.org/stable/modules/linear_model.html#logistic-regression\n",
      "\n",
      "c:\\Python311\\Lib\\site-packages\\sklearn\\linear_model\\_logistic.py:458: ConvergenceWarning:\n",
      "\n",
      "lbfgs failed to converge (status=1):\n",
      "STOP: TOTAL NO. of ITERATIONS REACHED LIMIT.\n",
      "\n",
      "Increase the number of iterations (max_iter) or scale the data as shown in:\n",
      "    https://scikit-learn.org/stable/modules/preprocessing.html\n",
      "Please also refer to the documentation for alternative solver options:\n",
      "    https://scikit-learn.org/stable/modules/linear_model.html#logistic-regression\n",
      "\n"
     ]
    },
    {
     "name": "stdout",
     "output_type": "stream",
     "text": [
      "                              Dataset                   Classifier  \\\n",
      "0   Fake news during normal times - 1  PassiveAggressiveClassifier   \n",
      "1   Fake news during normal times - 1  PassiveAggressiveClassifier   \n",
      "2   Fake news during normal times - 1  PassiveAggressiveClassifier   \n",
      "3   Fake news during normal times - 1           LogisticRegression   \n",
      "4   Fake news during normal times - 1           LogisticRegression   \n",
      "5   Fake news during normal times - 1           LogisticRegression   \n",
      "6   Fake news during normal times - 1                SGDClassifier   \n",
      "7   Fake news during normal times - 1                SGDClassifier   \n",
      "8   Fake news during normal times - 1                SGDClassifier   \n",
      "9                Syrian war fake news  PassiveAggressiveClassifier   \n",
      "10               Syrian war fake news  PassiveAggressiveClassifier   \n",
      "11               Syrian war fake news  PassiveAggressiveClassifier   \n",
      "12               Syrian war fake news           LogisticRegression   \n",
      "13               Syrian war fake news           LogisticRegression   \n",
      "14               Syrian war fake news           LogisticRegression   \n",
      "15               Syrian war fake news                SGDClassifier   \n",
      "16               Syrian war fake news                SGDClassifier   \n",
      "17               Syrian war fake news                SGDClassifier   \n",
      "18                 Iraq war fake news  PassiveAggressiveClassifier   \n",
      "19                 Iraq war fake news  PassiveAggressiveClassifier   \n",
      "20                 Iraq war fake news  PassiveAggressiveClassifier   \n",
      "21                 Iraq war fake news           LogisticRegression   \n",
      "22                 Iraq war fake news           LogisticRegression   \n",
      "23                 Iraq war fake news           LogisticRegression   \n",
      "24                 Iraq war fake news                SGDClassifier   \n",
      "25                 Iraq war fake news                SGDClassifier   \n",
      "26                 Iraq war fake news                SGDClassifier   \n",
      "27  Fake news during normal times - 2  PassiveAggressiveClassifier   \n",
      "28  Fake news during normal times - 2  PassiveAggressiveClassifier   \n",
      "29  Fake news during normal times - 2  PassiveAggressiveClassifier   \n",
      "30  Fake news during normal times - 2           LogisticRegression   \n",
      "31  Fake news during normal times - 2           LogisticRegression   \n",
      "32  Fake news during normal times - 2           LogisticRegression   \n",
      "33  Fake news during normal times - 2                SGDClassifier   \n",
      "34  Fake news during normal times - 2                SGDClassifier   \n",
      "35  Fake news during normal times - 2                SGDClassifier   \n",
      "\n",
      "           Vectorizer  Accuracy  Precision    Recall  F1 Score   ROC AUC  \n",
      "0     TfidfVectorizer  1.000000   1.000000  1.000000  1.000000  1.000000  \n",
      "1     CountVectorizer  0.998224   0.998426  0.998033  0.998229  0.998225  \n",
      "2   HashingVectorizer  1.000000   1.000000  1.000000  1.000000  1.000000  \n",
      "3     TfidfVectorizer  0.953236   0.963783  0.942172  0.952855  0.953271  \n",
      "4     CountVectorizer  0.999211   1.000000  0.998426  0.999213  0.999213  \n",
      "5   HashingVectorizer  0.908445   0.911648  0.905193  0.908409  0.908455  \n",
      "6     TfidfVectorizer  0.996251   0.995678  0.996853  0.996265  0.996249  \n",
      "7     CountVectorizer  0.997632   1.000000  0.995279  0.997634  0.997640  \n",
      "8   HashingVectorizer  0.957380   0.974307  0.939811  0.956748  0.957435  \n",
      "9     TfidfVectorizer  0.981337   0.969014  0.997101  0.982857  0.980094  \n",
      "10    CountVectorizer  0.978227   0.994030  0.965217  0.979412  0.979253  \n",
      "11  HashingVectorizer  0.981337   0.991150  0.973913  0.982456  0.981923  \n",
      "12    TfidfVectorizer  0.878694   0.829630  0.973913  0.896000  0.871185  \n",
      "13    CountVectorizer  0.987558   0.991254  0.985507  0.988372  0.987720  \n",
      "14  HashingVectorizer  0.704510   0.659794  0.927536  0.771084  0.686922  \n",
      "15    TfidfVectorizer  0.976672   0.971429  0.985507  0.978417  0.975975  \n",
      "16    CountVectorizer  0.940902   0.950147  0.939130  0.944606  0.941042  \n",
      "17  HashingVectorizer  0.956454   0.946479  0.973913  0.960000  0.955077  \n",
      "18    TfidfVectorizer  1.000000   1.000000  1.000000  1.000000  1.000000  \n",
      "19    CountVectorizer  0.998994   1.000000  0.997602  0.998800  0.998801  \n",
      "20  HashingVectorizer  1.000000   1.000000  1.000000  1.000000  1.000000  \n",
      "21    TfidfVectorizer  0.962777   0.933790  0.980815  0.956725  0.965278  \n",
      "22    CountVectorizer  1.000000   1.000000  1.000000  1.000000  1.000000  \n",
      "23  HashingVectorizer  0.945674   0.902439  0.976019  0.937788  0.949881  \n",
      "24    TfidfVectorizer  1.000000   1.000000  1.000000  1.000000  1.000000  \n",
      "25    CountVectorizer  1.000000   1.000000  1.000000  1.000000  1.000000  \n",
      "26  HashingVectorizer  0.997988   0.995227  1.000000  0.997608  0.998267  \n",
      "27    TfidfVectorizer  1.000000   1.000000  1.000000  1.000000  1.000000  \n",
      "28    CountVectorizer  0.989542   1.000000  0.979150  0.989465  0.989575  \n",
      "29  HashingVectorizer  1.000000   1.000000  1.000000  1.000000  1.000000  \n",
      "30    TfidfVectorizer  0.953236   0.963783  0.942172  0.952855  0.953271  \n",
      "31    CountVectorizer  0.999211   1.000000  0.998426  0.999213  0.999213  \n",
      "32  HashingVectorizer  0.908445   0.911648  0.905193  0.908409  0.908455  \n",
      "33    TfidfVectorizer  0.996448   0.996069  0.996853  0.996461  0.996447  \n",
      "34    CountVectorizer  0.996448   0.996850  0.996066  0.996458  0.996450  \n",
      "35  HashingVectorizer  0.957972   0.960095  0.955940  0.958013  0.957978  \n"
     ]
    }
   ],
   "source": [
    "import numpy as np\n",
    "import pandas as pd\n",
    "from sklearn.model_selection import train_test_split\n",
    "from sklearn.feature_extraction.text import TfidfVectorizer, HashingVectorizer, CountVectorizer\n",
    "from sklearn.linear_model import PassiveAggressiveClassifier, LogisticRegression, SGDClassifier\n",
    "from sklearn.metrics import accuracy_score, precision_score, recall_score, f1_score, roc_auc_score\n",
    "\n",
    "# Convert string labels to binary integers\n",
    "label_encoder = LabelEncoder()\n",
    "df1['label'] = label_encoder.fit_transform(df1['label'])\n",
    "df4['label'] = label_encoder.fit_transform(df4['label'])\n",
    "df5['deception'] = label_encoder.fit_transform(df5['deception'])\n",
    "df2['label'] = label_encoder.fit_transform(df2['label'])\n",
    "\n",
    "# Define your datasets\n",
    "datasets = [\n",
    "    (df1['text'], df1['label'], 'Fake news during normal times - 1'),\n",
    "    (df4['article_content'], df4['label'], 'Syrian war fake news'),\n",
    "    (df5['content'], df5['deception'], 'Iraq war fake news'),\n",
    "    (df2['text'], df2['label'], 'Fake news during normal times - 2')\n",
    "]\n",
    "\n",
    "# Define your classifiers and vectorizers\n",
    "classifiers = [PassiveAggressiveClassifier(), LogisticRegression(), SGDClassifier()]\n",
    "vectorizers = [TfidfVectorizer(), CountVectorizer(), HashingVectorizer()]\n",
    "\n",
    "# Define the evaluation metrics you want to use\n",
    "metrics = {\n",
    "    'Accuracy': accuracy_score,\n",
    "    'Precision': precision_score,\n",
    "    'Recall': recall_score,\n",
    "    'F1 Score': f1_score,\n",
    "    'ROC AUC': roc_auc_score\n",
    "}\n",
    "\n",
    "# Perform train-test split and evaluate models\n",
    "results = []\n",
    "\n",
    "for dataset in datasets:\n",
    "    X, y, dataset_name = dataset\n",
    "    x_train, x_test, y_train, y_test = train_test_split(X, y, test_size=0.2, random_state=7)\n",
    "    \n",
    "    for classifier in classifiers:\n",
    "        for vectorizer in vectorizers:\n",
    "            pipeline = make_pipeline(vectorizer, classifier)\n",
    "            pipeline.fit(x_train, y_train)\n",
    "            y_train_pred = pipeline.predict(x_train)\n",
    "            train_scores = {}\n",
    "            \n",
    "            for metric_name, metric_func in metrics.items():\n",
    "                if metric_name == 'Precision':\n",
    "                    score = metric_func(y_train, y_train_pred, pos_label=1)\n",
    "                else:\n",
    "                    score = metric_func(y_train, y_train_pred)\n",
    "                train_scores[metric_name] = score\n",
    "            \n",
    "            results.append({\n",
    "                'Dataset': dataset_name,\n",
    "                'Classifier': classifier.__class__.__name__,\n",
    "                'Vectorizer': vectorizer.__class__.__name__,\n",
    "                **train_scores\n",
    "            })\n",
    "\n",
    "# Convert the results to a DataFrame\n",
    "results_df = pd.DataFrame(results)\n",
    "\n",
    "# Print the results\n",
    "print(results_df)\n"
   ]
  },
  {
   "cell_type": "code",
   "execution_count": 48,
   "metadata": {},
   "outputs": [
    {
     "data": {
      "text/html": [
       "<div>\n",
       "<style scoped>\n",
       "    .dataframe tbody tr th:only-of-type {\n",
       "        vertical-align: middle;\n",
       "    }\n",
       "\n",
       "    .dataframe tbody tr th {\n",
       "        vertical-align: top;\n",
       "    }\n",
       "\n",
       "    .dataframe thead th {\n",
       "        text-align: right;\n",
       "    }\n",
       "</style>\n",
       "<table border=\"1\" class=\"dataframe\">\n",
       "  <thead>\n",
       "    <tr style=\"text-align: right;\">\n",
       "      <th></th>\n",
       "      <th>Dataset</th>\n",
       "      <th>Classifier</th>\n",
       "      <th>Vectorizer</th>\n",
       "      <th>Accuracy</th>\n",
       "      <th>Precision</th>\n",
       "      <th>Recall</th>\n",
       "      <th>F1 Score</th>\n",
       "      <th>ROC AUC</th>\n",
       "    </tr>\n",
       "  </thead>\n",
       "  <tbody>\n",
       "    <tr>\n",
       "      <th>0</th>\n",
       "      <td>Fake news during normal times - 1</td>\n",
       "      <td>PassiveAggressiveClassifier</td>\n",
       "      <td>TfidfVectorizer</td>\n",
       "      <td>1.000000</td>\n",
       "      <td>1.000000</td>\n",
       "      <td>1.000000</td>\n",
       "      <td>1.000000</td>\n",
       "      <td>1.000000</td>\n",
       "    </tr>\n",
       "    <tr>\n",
       "      <th>1</th>\n",
       "      <td>Fake news during normal times - 1</td>\n",
       "      <td>PassiveAggressiveClassifier</td>\n",
       "      <td>CountVectorizer</td>\n",
       "      <td>0.998224</td>\n",
       "      <td>0.998426</td>\n",
       "      <td>0.998033</td>\n",
       "      <td>0.998229</td>\n",
       "      <td>0.998225</td>\n",
       "    </tr>\n",
       "    <tr>\n",
       "      <th>2</th>\n",
       "      <td>Fake news during normal times - 1</td>\n",
       "      <td>PassiveAggressiveClassifier</td>\n",
       "      <td>HashingVectorizer</td>\n",
       "      <td>1.000000</td>\n",
       "      <td>1.000000</td>\n",
       "      <td>1.000000</td>\n",
       "      <td>1.000000</td>\n",
       "      <td>1.000000</td>\n",
       "    </tr>\n",
       "    <tr>\n",
       "      <th>3</th>\n",
       "      <td>Fake news during normal times - 1</td>\n",
       "      <td>LogisticRegression</td>\n",
       "      <td>TfidfVectorizer</td>\n",
       "      <td>0.953236</td>\n",
       "      <td>0.963783</td>\n",
       "      <td>0.942172</td>\n",
       "      <td>0.952855</td>\n",
       "      <td>0.953271</td>\n",
       "    </tr>\n",
       "    <tr>\n",
       "      <th>4</th>\n",
       "      <td>Fake news during normal times - 1</td>\n",
       "      <td>LogisticRegression</td>\n",
       "      <td>CountVectorizer</td>\n",
       "      <td>0.999211</td>\n",
       "      <td>1.000000</td>\n",
       "      <td>0.998426</td>\n",
       "      <td>0.999213</td>\n",
       "      <td>0.999213</td>\n",
       "    </tr>\n",
       "    <tr>\n",
       "      <th>5</th>\n",
       "      <td>Fake news during normal times - 1</td>\n",
       "      <td>LogisticRegression</td>\n",
       "      <td>HashingVectorizer</td>\n",
       "      <td>0.908445</td>\n",
       "      <td>0.911648</td>\n",
       "      <td>0.905193</td>\n",
       "      <td>0.908409</td>\n",
       "      <td>0.908455</td>\n",
       "    </tr>\n",
       "    <tr>\n",
       "      <th>6</th>\n",
       "      <td>Fake news during normal times - 1</td>\n",
       "      <td>SGDClassifier</td>\n",
       "      <td>TfidfVectorizer</td>\n",
       "      <td>0.996251</td>\n",
       "      <td>0.995678</td>\n",
       "      <td>0.996853</td>\n",
       "      <td>0.996265</td>\n",
       "      <td>0.996249</td>\n",
       "    </tr>\n",
       "    <tr>\n",
       "      <th>7</th>\n",
       "      <td>Fake news during normal times - 1</td>\n",
       "      <td>SGDClassifier</td>\n",
       "      <td>CountVectorizer</td>\n",
       "      <td>0.997632</td>\n",
       "      <td>1.000000</td>\n",
       "      <td>0.995279</td>\n",
       "      <td>0.997634</td>\n",
       "      <td>0.997640</td>\n",
       "    </tr>\n",
       "    <tr>\n",
       "      <th>8</th>\n",
       "      <td>Fake news during normal times - 1</td>\n",
       "      <td>SGDClassifier</td>\n",
       "      <td>HashingVectorizer</td>\n",
       "      <td>0.957380</td>\n",
       "      <td>0.974307</td>\n",
       "      <td>0.939811</td>\n",
       "      <td>0.956748</td>\n",
       "      <td>0.957435</td>\n",
       "    </tr>\n",
       "    <tr>\n",
       "      <th>9</th>\n",
       "      <td>Syrian war fake news</td>\n",
       "      <td>PassiveAggressiveClassifier</td>\n",
       "      <td>TfidfVectorizer</td>\n",
       "      <td>0.981337</td>\n",
       "      <td>0.969014</td>\n",
       "      <td>0.997101</td>\n",
       "      <td>0.982857</td>\n",
       "      <td>0.980094</td>\n",
       "    </tr>\n",
       "    <tr>\n",
       "      <th>10</th>\n",
       "      <td>Syrian war fake news</td>\n",
       "      <td>PassiveAggressiveClassifier</td>\n",
       "      <td>CountVectorizer</td>\n",
       "      <td>0.978227</td>\n",
       "      <td>0.994030</td>\n",
       "      <td>0.965217</td>\n",
       "      <td>0.979412</td>\n",
       "      <td>0.979253</td>\n",
       "    </tr>\n",
       "    <tr>\n",
       "      <th>11</th>\n",
       "      <td>Syrian war fake news</td>\n",
       "      <td>PassiveAggressiveClassifier</td>\n",
       "      <td>HashingVectorizer</td>\n",
       "      <td>0.981337</td>\n",
       "      <td>0.991150</td>\n",
       "      <td>0.973913</td>\n",
       "      <td>0.982456</td>\n",
       "      <td>0.981923</td>\n",
       "    </tr>\n",
       "    <tr>\n",
       "      <th>12</th>\n",
       "      <td>Syrian war fake news</td>\n",
       "      <td>LogisticRegression</td>\n",
       "      <td>TfidfVectorizer</td>\n",
       "      <td>0.878694</td>\n",
       "      <td>0.829630</td>\n",
       "      <td>0.973913</td>\n",
       "      <td>0.896000</td>\n",
       "      <td>0.871185</td>\n",
       "    </tr>\n",
       "    <tr>\n",
       "      <th>13</th>\n",
       "      <td>Syrian war fake news</td>\n",
       "      <td>LogisticRegression</td>\n",
       "      <td>CountVectorizer</td>\n",
       "      <td>0.987558</td>\n",
       "      <td>0.991254</td>\n",
       "      <td>0.985507</td>\n",
       "      <td>0.988372</td>\n",
       "      <td>0.987720</td>\n",
       "    </tr>\n",
       "    <tr>\n",
       "      <th>14</th>\n",
       "      <td>Syrian war fake news</td>\n",
       "      <td>LogisticRegression</td>\n",
       "      <td>HashingVectorizer</td>\n",
       "      <td>0.704510</td>\n",
       "      <td>0.659794</td>\n",
       "      <td>0.927536</td>\n",
       "      <td>0.771084</td>\n",
       "      <td>0.686922</td>\n",
       "    </tr>\n",
       "    <tr>\n",
       "      <th>15</th>\n",
       "      <td>Syrian war fake news</td>\n",
       "      <td>SGDClassifier</td>\n",
       "      <td>TfidfVectorizer</td>\n",
       "      <td>0.976672</td>\n",
       "      <td>0.971429</td>\n",
       "      <td>0.985507</td>\n",
       "      <td>0.978417</td>\n",
       "      <td>0.975975</td>\n",
       "    </tr>\n",
       "    <tr>\n",
       "      <th>16</th>\n",
       "      <td>Syrian war fake news</td>\n",
       "      <td>SGDClassifier</td>\n",
       "      <td>CountVectorizer</td>\n",
       "      <td>0.940902</td>\n",
       "      <td>0.950147</td>\n",
       "      <td>0.939130</td>\n",
       "      <td>0.944606</td>\n",
       "      <td>0.941042</td>\n",
       "    </tr>\n",
       "    <tr>\n",
       "      <th>17</th>\n",
       "      <td>Syrian war fake news</td>\n",
       "      <td>SGDClassifier</td>\n",
       "      <td>HashingVectorizer</td>\n",
       "      <td>0.956454</td>\n",
       "      <td>0.946479</td>\n",
       "      <td>0.973913</td>\n",
       "      <td>0.960000</td>\n",
       "      <td>0.955077</td>\n",
       "    </tr>\n",
       "    <tr>\n",
       "      <th>18</th>\n",
       "      <td>Iraq war fake news</td>\n",
       "      <td>PassiveAggressiveClassifier</td>\n",
       "      <td>TfidfVectorizer</td>\n",
       "      <td>1.000000</td>\n",
       "      <td>1.000000</td>\n",
       "      <td>1.000000</td>\n",
       "      <td>1.000000</td>\n",
       "      <td>1.000000</td>\n",
       "    </tr>\n",
       "    <tr>\n",
       "      <th>19</th>\n",
       "      <td>Iraq war fake news</td>\n",
       "      <td>PassiveAggressiveClassifier</td>\n",
       "      <td>CountVectorizer</td>\n",
       "      <td>0.998994</td>\n",
       "      <td>1.000000</td>\n",
       "      <td>0.997602</td>\n",
       "      <td>0.998800</td>\n",
       "      <td>0.998801</td>\n",
       "    </tr>\n",
       "    <tr>\n",
       "      <th>20</th>\n",
       "      <td>Iraq war fake news</td>\n",
       "      <td>PassiveAggressiveClassifier</td>\n",
       "      <td>HashingVectorizer</td>\n",
       "      <td>1.000000</td>\n",
       "      <td>1.000000</td>\n",
       "      <td>1.000000</td>\n",
       "      <td>1.000000</td>\n",
       "      <td>1.000000</td>\n",
       "    </tr>\n",
       "    <tr>\n",
       "      <th>21</th>\n",
       "      <td>Iraq war fake news</td>\n",
       "      <td>LogisticRegression</td>\n",
       "      <td>TfidfVectorizer</td>\n",
       "      <td>0.962777</td>\n",
       "      <td>0.933790</td>\n",
       "      <td>0.980815</td>\n",
       "      <td>0.956725</td>\n",
       "      <td>0.965278</td>\n",
       "    </tr>\n",
       "    <tr>\n",
       "      <th>22</th>\n",
       "      <td>Iraq war fake news</td>\n",
       "      <td>LogisticRegression</td>\n",
       "      <td>CountVectorizer</td>\n",
       "      <td>1.000000</td>\n",
       "      <td>1.000000</td>\n",
       "      <td>1.000000</td>\n",
       "      <td>1.000000</td>\n",
       "      <td>1.000000</td>\n",
       "    </tr>\n",
       "    <tr>\n",
       "      <th>23</th>\n",
       "      <td>Iraq war fake news</td>\n",
       "      <td>LogisticRegression</td>\n",
       "      <td>HashingVectorizer</td>\n",
       "      <td>0.945674</td>\n",
       "      <td>0.902439</td>\n",
       "      <td>0.976019</td>\n",
       "      <td>0.937788</td>\n",
       "      <td>0.949881</td>\n",
       "    </tr>\n",
       "    <tr>\n",
       "      <th>24</th>\n",
       "      <td>Iraq war fake news</td>\n",
       "      <td>SGDClassifier</td>\n",
       "      <td>TfidfVectorizer</td>\n",
       "      <td>1.000000</td>\n",
       "      <td>1.000000</td>\n",
       "      <td>1.000000</td>\n",
       "      <td>1.000000</td>\n",
       "      <td>1.000000</td>\n",
       "    </tr>\n",
       "    <tr>\n",
       "      <th>25</th>\n",
       "      <td>Iraq war fake news</td>\n",
       "      <td>SGDClassifier</td>\n",
       "      <td>CountVectorizer</td>\n",
       "      <td>1.000000</td>\n",
       "      <td>1.000000</td>\n",
       "      <td>1.000000</td>\n",
       "      <td>1.000000</td>\n",
       "      <td>1.000000</td>\n",
       "    </tr>\n",
       "    <tr>\n",
       "      <th>26</th>\n",
       "      <td>Iraq war fake news</td>\n",
       "      <td>SGDClassifier</td>\n",
       "      <td>HashingVectorizer</td>\n",
       "      <td>0.997988</td>\n",
       "      <td>0.995227</td>\n",
       "      <td>1.000000</td>\n",
       "      <td>0.997608</td>\n",
       "      <td>0.998267</td>\n",
       "    </tr>\n",
       "    <tr>\n",
       "      <th>27</th>\n",
       "      <td>Fake news during normal times - 2</td>\n",
       "      <td>PassiveAggressiveClassifier</td>\n",
       "      <td>TfidfVectorizer</td>\n",
       "      <td>1.000000</td>\n",
       "      <td>1.000000</td>\n",
       "      <td>1.000000</td>\n",
       "      <td>1.000000</td>\n",
       "      <td>1.000000</td>\n",
       "    </tr>\n",
       "    <tr>\n",
       "      <th>28</th>\n",
       "      <td>Fake news during normal times - 2</td>\n",
       "      <td>PassiveAggressiveClassifier</td>\n",
       "      <td>CountVectorizer</td>\n",
       "      <td>0.989542</td>\n",
       "      <td>1.000000</td>\n",
       "      <td>0.979150</td>\n",
       "      <td>0.989465</td>\n",
       "      <td>0.989575</td>\n",
       "    </tr>\n",
       "    <tr>\n",
       "      <th>29</th>\n",
       "      <td>Fake news during normal times - 2</td>\n",
       "      <td>PassiveAggressiveClassifier</td>\n",
       "      <td>HashingVectorizer</td>\n",
       "      <td>1.000000</td>\n",
       "      <td>1.000000</td>\n",
       "      <td>1.000000</td>\n",
       "      <td>1.000000</td>\n",
       "      <td>1.000000</td>\n",
       "    </tr>\n",
       "    <tr>\n",
       "      <th>30</th>\n",
       "      <td>Fake news during normal times - 2</td>\n",
       "      <td>LogisticRegression</td>\n",
       "      <td>TfidfVectorizer</td>\n",
       "      <td>0.953236</td>\n",
       "      <td>0.963783</td>\n",
       "      <td>0.942172</td>\n",
       "      <td>0.952855</td>\n",
       "      <td>0.953271</td>\n",
       "    </tr>\n",
       "    <tr>\n",
       "      <th>31</th>\n",
       "      <td>Fake news during normal times - 2</td>\n",
       "      <td>LogisticRegression</td>\n",
       "      <td>CountVectorizer</td>\n",
       "      <td>0.999211</td>\n",
       "      <td>1.000000</td>\n",
       "      <td>0.998426</td>\n",
       "      <td>0.999213</td>\n",
       "      <td>0.999213</td>\n",
       "    </tr>\n",
       "    <tr>\n",
       "      <th>32</th>\n",
       "      <td>Fake news during normal times - 2</td>\n",
       "      <td>LogisticRegression</td>\n",
       "      <td>HashingVectorizer</td>\n",
       "      <td>0.908445</td>\n",
       "      <td>0.911648</td>\n",
       "      <td>0.905193</td>\n",
       "      <td>0.908409</td>\n",
       "      <td>0.908455</td>\n",
       "    </tr>\n",
       "    <tr>\n",
       "      <th>33</th>\n",
       "      <td>Fake news during normal times - 2</td>\n",
       "      <td>SGDClassifier</td>\n",
       "      <td>TfidfVectorizer</td>\n",
       "      <td>0.996448</td>\n",
       "      <td>0.996069</td>\n",
       "      <td>0.996853</td>\n",
       "      <td>0.996461</td>\n",
       "      <td>0.996447</td>\n",
       "    </tr>\n",
       "    <tr>\n",
       "      <th>34</th>\n",
       "      <td>Fake news during normal times - 2</td>\n",
       "      <td>SGDClassifier</td>\n",
       "      <td>CountVectorizer</td>\n",
       "      <td>0.996448</td>\n",
       "      <td>0.996850</td>\n",
       "      <td>0.996066</td>\n",
       "      <td>0.996458</td>\n",
       "      <td>0.996450</td>\n",
       "    </tr>\n",
       "    <tr>\n",
       "      <th>35</th>\n",
       "      <td>Fake news during normal times - 2</td>\n",
       "      <td>SGDClassifier</td>\n",
       "      <td>HashingVectorizer</td>\n",
       "      <td>0.957972</td>\n",
       "      <td>0.960095</td>\n",
       "      <td>0.955940</td>\n",
       "      <td>0.958013</td>\n",
       "      <td>0.957978</td>\n",
       "    </tr>\n",
       "  </tbody>\n",
       "</table>\n",
       "</div>"
      ],
      "text/plain": [
       "                              Dataset                   Classifier  \\\n",
       "0   Fake news during normal times - 1  PassiveAggressiveClassifier   \n",
       "1   Fake news during normal times - 1  PassiveAggressiveClassifier   \n",
       "2   Fake news during normal times - 1  PassiveAggressiveClassifier   \n",
       "3   Fake news during normal times - 1           LogisticRegression   \n",
       "4   Fake news during normal times - 1           LogisticRegression   \n",
       "5   Fake news during normal times - 1           LogisticRegression   \n",
       "6   Fake news during normal times - 1                SGDClassifier   \n",
       "7   Fake news during normal times - 1                SGDClassifier   \n",
       "8   Fake news during normal times - 1                SGDClassifier   \n",
       "9                Syrian war fake news  PassiveAggressiveClassifier   \n",
       "10               Syrian war fake news  PassiveAggressiveClassifier   \n",
       "11               Syrian war fake news  PassiveAggressiveClassifier   \n",
       "12               Syrian war fake news           LogisticRegression   \n",
       "13               Syrian war fake news           LogisticRegression   \n",
       "14               Syrian war fake news           LogisticRegression   \n",
       "15               Syrian war fake news                SGDClassifier   \n",
       "16               Syrian war fake news                SGDClassifier   \n",
       "17               Syrian war fake news                SGDClassifier   \n",
       "18                 Iraq war fake news  PassiveAggressiveClassifier   \n",
       "19                 Iraq war fake news  PassiveAggressiveClassifier   \n",
       "20                 Iraq war fake news  PassiveAggressiveClassifier   \n",
       "21                 Iraq war fake news           LogisticRegression   \n",
       "22                 Iraq war fake news           LogisticRegression   \n",
       "23                 Iraq war fake news           LogisticRegression   \n",
       "24                 Iraq war fake news                SGDClassifier   \n",
       "25                 Iraq war fake news                SGDClassifier   \n",
       "26                 Iraq war fake news                SGDClassifier   \n",
       "27  Fake news during normal times - 2  PassiveAggressiveClassifier   \n",
       "28  Fake news during normal times - 2  PassiveAggressiveClassifier   \n",
       "29  Fake news during normal times - 2  PassiveAggressiveClassifier   \n",
       "30  Fake news during normal times - 2           LogisticRegression   \n",
       "31  Fake news during normal times - 2           LogisticRegression   \n",
       "32  Fake news during normal times - 2           LogisticRegression   \n",
       "33  Fake news during normal times - 2                SGDClassifier   \n",
       "34  Fake news during normal times - 2                SGDClassifier   \n",
       "35  Fake news during normal times - 2                SGDClassifier   \n",
       "\n",
       "           Vectorizer  Accuracy  Precision    Recall  F1 Score   ROC AUC  \n",
       "0     TfidfVectorizer  1.000000   1.000000  1.000000  1.000000  1.000000  \n",
       "1     CountVectorizer  0.998224   0.998426  0.998033  0.998229  0.998225  \n",
       "2   HashingVectorizer  1.000000   1.000000  1.000000  1.000000  1.000000  \n",
       "3     TfidfVectorizer  0.953236   0.963783  0.942172  0.952855  0.953271  \n",
       "4     CountVectorizer  0.999211   1.000000  0.998426  0.999213  0.999213  \n",
       "5   HashingVectorizer  0.908445   0.911648  0.905193  0.908409  0.908455  \n",
       "6     TfidfVectorizer  0.996251   0.995678  0.996853  0.996265  0.996249  \n",
       "7     CountVectorizer  0.997632   1.000000  0.995279  0.997634  0.997640  \n",
       "8   HashingVectorizer  0.957380   0.974307  0.939811  0.956748  0.957435  \n",
       "9     TfidfVectorizer  0.981337   0.969014  0.997101  0.982857  0.980094  \n",
       "10    CountVectorizer  0.978227   0.994030  0.965217  0.979412  0.979253  \n",
       "11  HashingVectorizer  0.981337   0.991150  0.973913  0.982456  0.981923  \n",
       "12    TfidfVectorizer  0.878694   0.829630  0.973913  0.896000  0.871185  \n",
       "13    CountVectorizer  0.987558   0.991254  0.985507  0.988372  0.987720  \n",
       "14  HashingVectorizer  0.704510   0.659794  0.927536  0.771084  0.686922  \n",
       "15    TfidfVectorizer  0.976672   0.971429  0.985507  0.978417  0.975975  \n",
       "16    CountVectorizer  0.940902   0.950147  0.939130  0.944606  0.941042  \n",
       "17  HashingVectorizer  0.956454   0.946479  0.973913  0.960000  0.955077  \n",
       "18    TfidfVectorizer  1.000000   1.000000  1.000000  1.000000  1.000000  \n",
       "19    CountVectorizer  0.998994   1.000000  0.997602  0.998800  0.998801  \n",
       "20  HashingVectorizer  1.000000   1.000000  1.000000  1.000000  1.000000  \n",
       "21    TfidfVectorizer  0.962777   0.933790  0.980815  0.956725  0.965278  \n",
       "22    CountVectorizer  1.000000   1.000000  1.000000  1.000000  1.000000  \n",
       "23  HashingVectorizer  0.945674   0.902439  0.976019  0.937788  0.949881  \n",
       "24    TfidfVectorizer  1.000000   1.000000  1.000000  1.000000  1.000000  \n",
       "25    CountVectorizer  1.000000   1.000000  1.000000  1.000000  1.000000  \n",
       "26  HashingVectorizer  0.997988   0.995227  1.000000  0.997608  0.998267  \n",
       "27    TfidfVectorizer  1.000000   1.000000  1.000000  1.000000  1.000000  \n",
       "28    CountVectorizer  0.989542   1.000000  0.979150  0.989465  0.989575  \n",
       "29  HashingVectorizer  1.000000   1.000000  1.000000  1.000000  1.000000  \n",
       "30    TfidfVectorizer  0.953236   0.963783  0.942172  0.952855  0.953271  \n",
       "31    CountVectorizer  0.999211   1.000000  0.998426  0.999213  0.999213  \n",
       "32  HashingVectorizer  0.908445   0.911648  0.905193  0.908409  0.908455  \n",
       "33    TfidfVectorizer  0.996448   0.996069  0.996853  0.996461  0.996447  \n",
       "34    CountVectorizer  0.996448   0.996850  0.996066  0.996458  0.996450  \n",
       "35  HashingVectorizer  0.957972   0.960095  0.955940  0.958013  0.957978  "
      ]
     },
     "execution_count": 48,
     "metadata": {},
     "output_type": "execute_result"
    }
   ],
   "source": [
    "results_df.head(100)"
   ]
  },
  {
   "cell_type": "code",
   "execution_count": 55,
   "metadata": {},
   "outputs": [
    {
     "ename": "TypeError",
     "evalue": "sequence item 0: expected str instance, float found",
     "output_type": "error",
     "traceback": [
      "\u001b[1;31m---------------------------------------------------------------------------\u001b[0m",
      "\u001b[1;31mTypeError\u001b[0m                                 Traceback (most recent call last)",
      "Cell \u001b[1;32mIn[55], line 14\u001b[0m\n\u001b[0;32m     12\u001b[0m \u001b[39m# Join the text data into a single string\u001b[39;00m\n\u001b[0;32m     13\u001b[0m peace_text_combined \u001b[39m=\u001b[39m \u001b[39m'\u001b[39m\u001b[39m \u001b[39m\u001b[39m'\u001b[39m\u001b[39m.\u001b[39mjoin(peace_text)\n\u001b[1;32m---> 14\u001b[0m war_text_combined \u001b[39m=\u001b[39m \u001b[39m'\u001b[39;49m\u001b[39m \u001b[39;49m\u001b[39m'\u001b[39;49m\u001b[39m.\u001b[39;49mjoin(war_text)\n\u001b[0;32m     16\u001b[0m \u001b[39m# Initialize the TF-IDF vectorizer\u001b[39;00m\n\u001b[0;32m     17\u001b[0m vectorizer \u001b[39m=\u001b[39m TfidfVectorizer(stop_words\u001b[39m=\u001b[39m\u001b[39m'\u001b[39m\u001b[39menglish\u001b[39m\u001b[39m'\u001b[39m)\n",
      "\u001b[1;31mTypeError\u001b[0m: sequence item 0: expected str instance, float found"
     ]
    }
   ],
   "source": [
    "import pandas as pd\n",
    "from sklearn.feature_extraction.text import TfidfVectorizer\n",
    "\n",
    "# Define the datasets for peace times and war times\n",
    "peace_times_data = pd.concat([df1, df2])\n",
    "war_times_data = pd.concat([df4, df5])\n",
    "\n",
    "# Convert the text data to lists\n",
    "peace_text = peace_times_data['text'].tolist()\n",
    "war_text = war_times_data['content'].tolist()\n",
    "\n",
    "# Join the text data into a single string\n",
    "peace_text_combined = ' '.join(peace_text)\n",
    "war_text_combined = ' '.join(war_text)\n",
    "\n",
    "# Initialize the TF-IDF vectorizer\n",
    "vectorizer = TfidfVectorizer(stop_words='english')\n",
    "\n",
    "# Vectorize the text data for peace times and war times\n",
    "X_peace = vectorizer.fit_transform([peace_text_combined])\n",
    "X_war = vectorizer.transform([war_text_combined])\n",
    "\n",
    "# Get the feature names (keywords)\n",
    "feature_names = vectorizer.get_feature_names()\n",
    "\n",
    "# Calculate the differences in keyword usage\n",
    "keyword_diff = {}\n",
    "for i, feature in enumerate(feature_names):\n",
    "    keyword_diff[feature] = X_peace[0, i] - X_war[0, i]\n",
    "\n",
    "# Sort the keywords based on the difference in usage\n",
    "sorted_keywords = sorted(keyword_diff.items(), key=lambda x: x[1], reverse=True)\n",
    "\n",
    "# Print the top 10 keywords with the highest difference in usage\n",
    "top_keywords = sorted_keywords[:10]\n",
    "for keyword, diff in top_keywords:\n",
    "    print(f\"Keyword: {keyword}\\t Difference: {diff}\")\n",
    "\n",
    "# Convert the war_text Series to a list\n",
    "war_text_list = war_text.tolist()\n",
    "\n",
    "# Join the text data into a single string\n",
    "war_text_combined = ' '.join(war_text_list)\n"
   ]
  },
  {
   "cell_type": "code",
   "execution_count": null,
   "metadata": {},
   "outputs": [],
   "source": []
  }
 ],
 "metadata": {
  "kernelspec": {
   "display_name": "Python 3",
   "language": "python",
   "name": "python3"
  },
  "language_info": {
   "codemirror_mode": {
    "name": "ipython",
    "version": 3
   },
   "file_extension": ".py",
   "mimetype": "text/x-python",
   "name": "python",
   "nbconvert_exporter": "python",
   "pygments_lexer": "ipython3",
   "version": "3.11.4"
  },
  "orig_nbformat": 4,
  "vscode": {
   "interpreter": {
    "hash": "1e62bbca5c060b6ccd01d18f25329156a50c653d3d0b4f81cffcfdc4c0ea0acd"
   }
  }
 },
 "nbformat": 4,
 "nbformat_minor": 2
}
